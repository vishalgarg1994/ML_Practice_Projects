{
 "cells": [
  {
   "cell_type": "code",
   "execution_count": 2,
   "metadata": {},
   "outputs": [],
   "source": [
    "import numpy as np \n",
    "import pandas as pd\n",
    "from sklearn.model_selection import train_test_split,KFold,GridSearchCV\n",
    "from sklearn.datasets import load_boston\n",
    "from sklearn.ensemble import RandomForestRegressor"
   ]
  },
  {
   "cell_type": "code",
   "execution_count": 3,
   "metadata": {},
   "outputs": [],
   "source": [
    "df = load_boston()\n",
    "X = df.data\n",
    "y = df.target\n",
    "X_train,X_test,y_train,y_test = train_test_split(X,y,train_size=0.7,random_state=42)"
   ]
  },
  {
   "cell_type": "code",
   "execution_count": 4,
   "metadata": {},
   "outputs": [
    {
     "data": {
      "text/plain": [
       "'\\nParams: \\n# n_estimators : Number of trees in Forest, Default --> 100\\n# n_jobs : No. of jobs to run in parallel\\n# bootstrap : Whether bootstrap samples are used when building trees. If False, \\n              the whole dataset is used to build each tree.\\n# max_samples(default - True) : If bootstrap is True, the number of samples to draw from \\n                                X to train each base estimator\\n# oob_score(default - False) : Whether to use out-of-bag samples to estimate the generalization accuracy\\n# criterion{“mse”, “mae”}, default=”mse”\\n#max_depth : Max depth of tree\\n# min_samples_split : The minimum number of samples required to split an internal node\\n# min_samples_leaf : The minimum number of samples required to be at a leaf node.\\n# max_features : The number of features to consider when looking for the best split\\n# min_weight_fraction_leaf : The minimum weighted fraction of the sum total of weights \\n                             (of all the input samples) required to be at a leaf node.\\n# max_leaf_nodes : Best nodes are defined as relative reduction in impurity\\n# min_impurity_decrease : A node will be split if this split induces a decrease of the impurity greater than or equal to this value\\n'"
      ]
     },
     "execution_count": 4,
     "metadata": {},
     "output_type": "execute_result"
    }
   ],
   "source": [
    "rf = RandomForestClassifier()\n",
    "\"\"\"\n",
    "Params: \n",
    "# n_estimators : Number of trees in Forest, Default --> 100\n",
    "# n_jobs : No. of jobs to run in parallel\n",
    "# bootstrap : Whether bootstrap samples are used when building trees. If False, \n",
    "              the whole dataset is used to build each tree.\n",
    "# max_samples(default - True) : If bootstrap is True, the number of samples to draw from \n",
    "                                X to train each base estimator\n",
    "# oob_score(default - False) : Whether to use out-of-bag samples to estimate the generalization accuracy\n",
    "# criterion{“mse”, “mae”}, default=”mse”\n",
    "#max_depth : Max depth of tree\n",
    "# min_samples_split : The minimum number of samples required to split an internal node\n",
    "# min_samples_leaf : The minimum number of samples required to be at a leaf node.\n",
    "# max_features : The number of features to consider when looking for the best split\n",
    "# min_weight_fraction_leaf : The minimum weighted fraction of the sum total of weights \n",
    "                             (of all the input samples) required to be at a leaf node.\n",
    "# max_leaf_nodes : Best nodes are defined as relative reduction in impurity\n",
    "# min_impurity_decrease : A node will be split if this split induces a decrease of the impurity greater than or equal to this value\n",
    "\"\"\""
   ]
  },
  {
   "cell_type": "code",
   "execution_count": 6,
   "metadata": {},
   "outputs": [
    {
     "data": {
      "text/plain": [
       "RandomForestRegressor(bootstrap=True, ccp_alpha=0.0, criterion='mse',\n",
       "                      max_depth=None, max_features='auto', max_leaf_nodes=None,\n",
       "                      max_samples=None, min_impurity_decrease=0.0,\n",
       "                      min_impurity_split=None, min_samples_leaf=1,\n",
       "                      min_samples_split=2, min_weight_fraction_leaf=0.0,\n",
       "                      n_estimators=500, n_jobs=None, oob_score=False,\n",
       "                      random_state=None, verbose=0, warm_start=False)"
      ]
     },
     "execution_count": 6,
     "metadata": {},
     "output_type": "execute_result"
    }
   ],
   "source": [
    "rf = RandomForestRegressor(n_estimators = 500)\n",
    "rf.fit(X_train,y_train)"
   ]
  },
  {
   "cell_type": "code",
   "execution_count": 8,
   "metadata": {},
   "outputs": [
    {
     "name": "stdout",
     "output_type": "stream",
     "text": [
      "[0.03294884 0.00159482 0.00738344 0.00142547 0.01394191 0.41405572\n",
      " 0.01616574 0.06514018 0.004618   0.01131852 0.01777615 0.01221181\n",
      " 0.4014194 ]\n",
      "13\n",
      "1\n",
      "DecisionTreeRegressor(ccp_alpha=0.0, criterion='mse', max_depth=None,\n",
      "                      max_features=None, max_leaf_nodes=None,\n",
      "                      min_impurity_decrease=0.0, min_impurity_split=None,\n",
      "                      min_samples_leaf=1, min_samples_split=2,\n",
      "                      min_weight_fraction_leaf=0.0, presort='deprecated',\n",
      "                      random_state=None, splitter='best')\n"
     ]
    }
   ],
   "source": [
    "print(rf.feature_importances_)\n",
    "print(rf.n_features_)  # featuresfrom a dataset\n",
    "print(rf.n_outputs_) # output will be only 1 class\n",
    "print(rf.base_estimator_) # print(rf.base_estimator_) \n",
    "#print(rf.estimators_)# Willgive all estimator output of 500 trees"
   ]
  },
  {
   "cell_type": "code",
   "execution_count": 9,
   "metadata": {},
   "outputs": [
    {
     "name": "stdout",
     "output_type": "stream",
     "text": [
      "{'bootstrap': True, 'ccp_alpha': 0.0, 'criterion': 'mse', 'max_depth': None, 'max_features': 'auto', 'max_leaf_nodes': None, 'max_samples': None, 'min_impurity_decrease': 0.0, 'min_impurity_split': None, 'min_samples_leaf': 1, 'min_samples_split': 2, 'min_weight_fraction_leaf': 0.0, 'n_estimators': 500, 'n_jobs': None, 'oob_score': False, 'random_state': None, 'verbose': 0, 'warm_start': False}\n",
      "0.9775222504604071\n"
     ]
    }
   ],
   "source": [
    "print(rf.get_params())\n",
    "print(rf.score(X_train,y_train))"
   ]
  },
  {
   "cell_type": "code",
   "execution_count": 10,
   "metadata": {},
   "outputs": [
    {
     "name": "stdout",
     "output_type": "stream",
     "text": [
      "[22.6634 31.1594 16.3684 23.8106 17.2438 21.8272 19.9018 14.9378 21.1094\n",
      " 20.9764 20.1182 19.8412  7.876  21.789  19.307  26.1762 18.8992  8.3344\n",
      " 45.6842 15.7484 24.4252 23.8558 14.5846 23.5698 15.1074 15.3902 21.7028\n",
      " 13.9818 19.642  21.0786 19.6726 23.2598 31.7388 20.3304 14.3214 15.833\n",
      " 34.3958 19.0254 21.087  24.1772 19.0048 29.5078 45.5568 19.5812 22.5128\n",
      " 13.8226 15.6846 24.4046 19.0108 28.3096 21.4404 33.9158 17.5896 26.4284\n",
      " 45.3296 21.968  15.9224 32.7666 22.0986 20.8492 25.4396 33.7328 30.093\n",
      " 19.071  26.9406 17.1372 13.6186 23.1306 28.8534 15.4896 20.644  28.7074\n",
      " 10.2174 21.9338 22.2264  6.9732 20.022  46.1528 11.1606 12.375  21.7044\n",
      " 11.7812 20.0934  9.1294 20.722  26.828  16.0304 23.2188 23.8186 17.7424\n",
      " 21.7272  7.4588 19.816  19.1846 23.5936 19.76   38.2062 11.9754 12.6406\n",
      " 12.3224 20.2942 23.9072 13.4836 20.362  20.9824 12.4948 19.154  24.8866\n",
      " 19.9356 23.4606  9.0998 16.0944 22.8136 25.235  31.4084 14.8816 41.3456\n",
      " 16.3286 19.6604 24.2542 19.4214 24.0498  7.5582 20.7384 24.7456 21.8934\n",
      " 23.9338 34.917  16.8256 45.2482 15.2234 23.7158 19.6404 18.5628 14.0612\n",
      " 21.381  20.7148 31.7828 28.7454 17.2294 18.9956 24.8458 20.139  18.594\n",
      "  6.94   21.7024 16.7002 13.5206 15.2834 43.4314 15.5136 16.2578]\n"
     ]
    }
   ],
   "source": [
    "print(rf.predict(X_test))"
   ]
  },
  {
   "cell_type": "code",
   "execution_count": null,
   "metadata": {},
   "outputs": [],
   "source": []
  }
 ],
 "metadata": {
  "kernelspec": {
   "display_name": "Python 3",
   "language": "python",
   "name": "python3"
  },
  "language_info": {
   "codemirror_mode": {
    "name": "ipython",
    "version": 3
   },
   "file_extension": ".py",
   "mimetype": "text/x-python",
   "name": "python",
   "nbconvert_exporter": "python",
   "pygments_lexer": "ipython3",
   "version": "3.7.6"
  }
 },
 "nbformat": 4,
 "nbformat_minor": 4
}
