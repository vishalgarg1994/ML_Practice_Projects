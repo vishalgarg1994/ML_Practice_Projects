{
 "cells": [
  {
   "cell_type": "code",
   "execution_count": 1,
   "metadata": {},
   "outputs": [],
   "source": [
    "import numpy as np \n",
    "import pandas as pd\n",
    "from sklearn.model_selection import train_test_split,KFold,GridSearchCV\n",
    "from sklearn.datasets import load_boston\n",
    "from sklearn.neighbors import KNeighborsRegressor"
   ]
  },
  {
   "cell_type": "code",
   "execution_count": 2,
   "metadata": {},
   "outputs": [],
   "source": [
    "df = load_boston()\n",
    "X = df.data\n",
    "y = df.target\n",
    "X_train,X_test,y_train,y_test = train_test_split(X,y,train_size=0.7,random_state=42)"
   ]
  },
  {
   "cell_type": "code",
   "execution_count": 3,
   "metadata": {},
   "outputs": [
    {
     "data": {
      "text/plain": [
       "\"\\nParams\\n# n_neighbors : No. of neighbors to use by default\\n# weights{‘uniform’, ‘distance’,'callable',} : weight is uniform , weight is inverseof distance \\n          callable : a user-defined function which accepts an array of distances, and returns an array of the same shape containing the weights.\\n# algorithm : {‘auto’, ‘ball_tree’, ‘kd_tree’, ‘brute’}\\n# metric : Distance metric to use for tree.Default is minkowski metrics\\n# p: Power parm for minkowiski metrics\\n\""
      ]
     },
     "execution_count": 3,
     "metadata": {},
     "output_type": "execute_result"
    }
   ],
   "source": [
    "knn = KNeighborsRegressor()\n",
    "'''\n",
    "Params\n",
    "# n_neighbors : No. of neighbors to use by default\n",
    "# weights{‘uniform’, ‘distance’,'callable',} : weight is uniform , weight is inverseof distance \n",
    "          callable : a user-defined function which accepts an array of distances, and returns an array of the same shape containing the weights.\n",
    "# algorithm : {‘auto’, ‘ball_tree’, ‘kd_tree’, ‘brute’}\n",
    "# metric : Distance metric to use for tree.Default is minkowski metrics\n",
    "# p: Power parm for minkowiski metrics\n",
    "'''"
   ]
  },
  {
   "cell_type": "code",
   "execution_count": 4,
   "metadata": {},
   "outputs": [
    {
     "name": "stdout",
     "output_type": "stream",
     "text": [
      "Fitting 5 folds for each of 64 candidates, totalling 320 fits\n"
     ]
    },
    {
     "name": "stderr",
     "output_type": "stream",
     "text": [
      "[Parallel(n_jobs=12)]: Using backend LokyBackend with 12 concurrent workers.\n",
      "[Parallel(n_jobs=12)]: Done  26 tasks      | elapsed:    7.1s\n",
      "[Parallel(n_jobs=12)]: Done 320 out of 320 | elapsed:    9.6s finished\n"
     ]
    },
    {
     "data": {
      "text/plain": [
       "GridSearchCV(cv=KFold(n_splits=5, random_state=42, shuffle=True),\n",
       "             error_score=nan,\n",
       "             estimator=KNeighborsRegressor(algorithm='auto', leaf_size=30,\n",
       "                                           metric='minkowski',\n",
       "                                           metric_params=None, n_jobs=None,\n",
       "                                           n_neighbors=5, p=2,\n",
       "                                           weights='uniform'),\n",
       "             iid='deprecated', n_jobs=12,\n",
       "             param_grid=[{'algorithm': ['auto', 'ball_tree', 'kd_tree',\n",
       "                                        'brute'],\n",
       "                          'n_neighbors': [1, 2, 3, 4, 5, 6, 7, 8],\n",
       "                          'weights': ['uniform', 'distance']}],\n",
       "             pre_dispatch='2*n_jobs', refit=True, return_train_score=True,\n",
       "             scoring='neg_mean_absolute_error', verbose=1)"
      ]
     },
     "execution_count": 4,
     "metadata": {},
     "output_type": "execute_result"
    }
   ],
   "source": [
    "hyper_params = [{\n",
    "    'n_neighbors': [1,2,3,4,5,6,7,8],\n",
    "    'weights':['uniform','distance'],\n",
    "    'algorithm':['auto','ball_tree','kd_tree','brute']\n",
    "}]\n",
    "folds = KFold(n_splits=5,shuffle=True,random_state=42)\n",
    "model_cv = GridSearchCV(estimator=knn,\n",
    "                       param_grid = hyper_params,\n",
    "                       scoring ='neg_mean_absolute_error',\n",
    "                       cv = folds,\n",
    "                       verbose=1,\n",
    "                       return_train_score=True,\n",
    "                       n_jobs=12)\n",
    "model_cv.fit(X_train,y_train)"
   ]
  },
  {
   "cell_type": "code",
   "execution_count": 5,
   "metadata": {},
   "outputs": [
    {
     "name": "stdout",
     "output_type": "stream",
     "text": [
      "-4.494379150561033\n",
      "{'algorithm': 'auto', 'n_neighbors': 8, 'weights': 'distance'}\n",
      "KNeighborsRegressor(algorithm='auto', leaf_size=30, metric='minkowski',\n",
      "                    metric_params=None, n_jobs=None, n_neighbors=8, p=2,\n",
      "                    weights='distance')\n"
     ]
    }
   ],
   "source": [
    "print(model_cv.best_score_)\n",
    "print(model_cv.best_params_)\n",
    "print(model_cv.best_estimator_)"
   ]
  },
  {
   "cell_type": "code",
   "execution_count": 6,
   "metadata": {},
   "outputs": [
    {
     "data": {
      "text/plain": [
       "KNeighborsRegressor(algorithm='auto', leaf_size=30, metric='minkowski',\n",
       "                    metric_params=None, n_jobs=None, n_neighbors=8, p=2,\n",
       "                    weights='distance')"
      ]
     },
     "execution_count": 6,
     "metadata": {},
     "output_type": "execute_result"
    }
   ],
   "source": [
    "knn = KNeighborsRegressor(algorithm='auto', leaf_size=30, metric='minkowski',\n",
    "                    metric_params=None, n_jobs=None, n_neighbors=8, p=2,\n",
    "                    weights='distance')\n",
    "knn.fit(X_train,y_train)"
   ]
  },
  {
   "cell_type": "code",
   "execution_count": 7,
   "metadata": {},
   "outputs": [
    {
     "name": "stdout",
     "output_type": "stream",
     "text": [
      "euclidean\n",
      "{}\n"
     ]
    }
   ],
   "source": [
    "# Attributes\n",
    "print(knn.effective_metric_)\n",
    "print(knn.effective_metric_params_)"
   ]
  },
  {
   "cell_type": "code",
   "execution_count": 8,
   "metadata": {},
   "outputs": [
    {
     "name": "stdout",
     "output_type": "stream",
     "text": [
      "{'algorithm': 'auto', 'leaf_size': 30, 'metric': 'minkowski', 'metric_params': None, 'n_jobs': None, 'n_neighbors': 8, 'p': 2, 'weights': 'distance'}\n",
      "1.0\n",
      "[23.74160315 29.45717717 15.81474166 28.01069236 16.97632487 32.22721536\n",
      " 21.97360815 16.41451469 19.1133206  20.54653652 22.46847985 20.68512257\n",
      " 12.93779842 21.60467401 24.70986891 21.86567817 21.48673876 14.11985762\n",
      " 33.84595974 11.27702324 26.70250458 29.30344519 18.84892461 22.15954378\n",
      " 18.26533502 21.03049758 21.97361138 11.52842999 22.48129464 20.09023581\n",
      " 22.79356626 23.21347772 10.94572746 27.52181496 21.61248639 21.64266052\n",
      " 22.58073885 21.76458225 22.73887609 28.51146054 20.33465233 31.15886094\n",
      " 35.87895076 22.97626571 25.85382782 12.52939256 20.64917659 28.64065256\n",
      " 20.30654006 22.05952467 22.04085865 32.91691274 21.57660498 21.35548479\n",
      " 28.0693848  21.22942546 12.26753663 36.41217892 21.6454192  22.09216176\n",
      " 23.30261127 36.11852049 31.60847455 18.73576213 31.32829522 22.29919522\n",
      " 11.85154852 26.17859751 33.42997318 12.05042487 22.0829162  22.70485472\n",
      " 15.27635188 26.43644657 21.8048887   9.43658794 20.07442858 35.88522744\n",
      " 10.42240948 18.56023274 25.61047311 16.49373554 27.44353495 10.88990193\n",
      " 22.95701331 31.68448084 15.2269319  25.84833652 26.74552942 17.46388631\n",
      " 23.40522286 14.85977112 17.53756301 21.82323418 26.31530367 17.45197687\n",
      " 26.5037134   9.47964501 10.91035171 10.50470256 21.6066069  21.06319011\n",
      " 20.00434495 22.20402801 23.26599114 11.93613577 23.10844439 24.96199623\n",
      " 24.54704556 26.19043152 10.32318543 15.53601947 23.20321879 35.53887144\n",
      " 31.07994236 13.5858704  29.70576016 16.02749594 21.83040935 25.53587146\n",
      " 23.98519692 30.83179332 11.35084404 20.76302795 25.32549669 23.19724962\n",
      " 28.94460139 28.5342389  15.43979747 30.91201061 21.66751396 21.46396972\n",
      " 19.78622001 17.50912729 21.02982007 13.0030158  23.91590763 33.40027281\n",
      " 29.82635047 21.39015752 21.98121762 28.24403157 28.3536244  22.21250927\n",
      " 20.24702651 30.59326757 20.63374196 14.15494328 20.711488   32.40382619\n",
      " 13.28446385 14.32500273]\n",
      "(array([[  5.3393282 ,   6.74574646,   7.05040156, ...,  16.85626898,\n",
      "         19.0479963 ,  20.86942789],\n",
      "       [  7.69376017,   9.58554812,  12.66657792, ...,  26.99269633,\n",
      "         27.13917552,  27.62291584],\n",
      "       [  9.78840456,  13.64626509,  15.10702545, ...,  25.4111536 ,\n",
      "         26.49057954,  26.53989873],\n",
      "       ...,\n",
      "       [ 15.36394534,  31.32103855,  32.25235501, ...,  35.10624407,\n",
      "         35.31988647,  35.98045841],\n",
      "       [ 21.49570945,  24.63425166,  28.42771616, ...,  49.1815119 ,\n",
      "         60.04952686,  64.01893271],\n",
      "       [ 30.82843703, 102.33520737, 107.05981412, ..., 180.04413446,\n",
      "        194.08664112, 200.12787957]]), array([[203, 164, 249, ..., 275, 237,  27],\n",
      "       [ 62,  81,  24, ..., 134, 171, 165],\n",
      "       [173, 149, 285, ..., 350, 306, 164],\n",
      "       ...,\n",
      "       [ 63,  78,  43, ..., 226, 201, 136],\n",
      "       [109, 172, 280, ..., 228,  60, 276],\n",
      "       [240, 106,  47, ..., 217, 279, 299]], dtype=int64))\n"
     ]
    }
   ],
   "source": [
    "print(knn.get_params())\n",
    "print(knn.score(X_train,y_train))\n",
    "print(knn.predict(X_test))\n",
    "print(knn.kneighbors()) # Find k nearast point distance... here 3 for every point as 3 value selected"
   ]
  },
  {
   "cell_type": "code",
   "execution_count": null,
   "metadata": {},
   "outputs": [],
   "source": []
  }
 ],
 "metadata": {
  "kernelspec": {
   "display_name": "Python 3",
   "language": "python",
   "name": "python3"
  },
  "language_info": {
   "codemirror_mode": {
    "name": "ipython",
    "version": 3
   },
   "file_extension": ".py",
   "mimetype": "text/x-python",
   "name": "python",
   "nbconvert_exporter": "python",
   "pygments_lexer": "ipython3",
   "version": "3.7.6"
  }
 },
 "nbformat": 4,
 "nbformat_minor": 4
}
