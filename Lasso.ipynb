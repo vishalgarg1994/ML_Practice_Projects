{
 "cells": [
  {
   "cell_type": "code",
   "execution_count": 1,
   "metadata": {},
   "outputs": [],
   "source": [
    "import numpy as np \n",
    "import pandas as pd\n",
    "from sklearn.model_selection import train_test_split,KFold,GridSearchCV\n",
    "from sklearn.datasets import load_boston\n",
    "from sklearn.linear_model import Lasso"
   ]
  },
  {
   "cell_type": "code",
   "execution_count": 2,
   "metadata": {},
   "outputs": [],
   "source": [
    "df = load_boston()\n",
    "X = df.data\n",
    "y = df.target\n",
    "X_train,X_test,y_train,y_test = train_test_split(X,y,train_size=0.7,random_state=42)"
   ]
  },
  {
   "cell_type": "code",
   "execution_count": 3,
   "metadata": {},
   "outputs": [],
   "source": [
    "llr = Lasso()\n",
    "'''\n",
    "# Params\n",
    "\n",
    "# alpha(default --> 1.0) ---> Regularization strength; must be a positive float\n",
    "# precompute ---> default -- 'auto'  Whether to use a precomputed Gram matrix to speed up calculations.\n",
    "# fit_intercept --> defalut  is true,if false..Line will pass thru Origin\n",
    "# normalize -->Input data will be normalized before fitting...Usually we use standard orMinMax scalreto do our work\n",
    "# copy_X (default --> True) --> Make acopy of X for fitting.Could impact if normalize is True\n",
    "# max_iter ---> Maximum number of iterations for conjugate gradient solve\n",
    "# tol --> Precesion of solution defaultis 0.001\n",
    "# positive --> When set to True, forces the coefficients to be positive.\n",
    "# selection{‘cyclic’, ‘random’}, default=’cyclic’  If set to ‘random’, a random coefficient is updated every iteration rather than\n",
    "                               looping over features sequentially by default. \n",
    "                               This (setting to ‘random’) often leads to significantly faster convergence especially \n",
    "                               when tol is higher than 1e-4.\n",
    "'''"
   ]
  },
  {
   "cell_type": "code",
   "execution_count": 4,
   "metadata": {},
   "outputs": [
    {
     "name": "stdout",
     "output_type": "stream",
     "text": [
      "Fitting 5 folds for each of 112 candidates, totalling 560 fits\n"
     ]
    },
    {
     "name": "stderr",
     "output_type": "stream",
     "text": [
      "[Parallel(n_jobs=30)]: Using backend LokyBackend with 30 concurrent workers.\n",
      "[Parallel(n_jobs=30)]: Done 140 tasks      | elapsed:   28.5s\n",
      "[Parallel(n_jobs=30)]: Done 390 tasks      | elapsed:   30.3s\n",
      "[Parallel(n_jobs=30)]: Done 560 out of 560 | elapsed:   35.8s finished\n"
     ]
    },
    {
     "data": {
      "text/plain": [
       "\"\\nBy default joblib.Parallel uses the 'loky' backend module to start separate Python worker processes to execute tasks \\nconcurrently on separate CPUs. This is a reasonable default for generic Python programs but can induce a significant \\noverhead as the input and output data need to be serialized in a queue for communication with the worker processes \\n\""
      ]
     },
     "execution_count": 4,
     "metadata": {},
     "output_type": "execute_result"
    }
   ],
   "source": [
    "hyper_params = {'alpha': [0.0001, 0.001, 0.01, 0.05, 0.1, \n",
    " 0.2, 0.3, 0.4, 0.5, 0.6, 0.7, 0.8, 0.9, 1.0, 2.0, 3.0, \n",
    " 4.0, 5.0, 6.0, 7.0, 8.0, 9.0, 10.0, 20, 50, 100, 500, 1000 ],\n",
    "         'selection':['cyclic','random'],\n",
    "               'tol':[0.0001, 0.001]}\n",
    "folds = KFold(n_splits=5,shuffle=True,random_state=42)\n",
    "model_cv = GridSearchCV(estimator=llr,\n",
    "                       param_grid = hyper_params,\n",
    "                       scoring ='neg_mean_absolute_error',\n",
    "                       cv = folds,\n",
    "                       verbose=1,\n",
    "                       return_train_score=True,\n",
    "                       n_jobs=30)\n",
    "model_cv.fit(X_train,y_train)\n",
    "'''\n",
    "By default joblib.Parallel uses the 'loky' backend module to start separate Python worker processes to execute tasks \n",
    "concurrently on separate CPUs. This is a reasonable default for generic Python programs but can induce a significant \n",
    "overhead as the input and output data need to be serialized in a queue for communication with the worker processes \n",
    "'''"
   ]
  },
  {
   "cell_type": "code",
   "execution_count": 5,
   "metadata": {},
   "outputs": [
    {
     "name": "stdout",
     "output_type": "stream",
     "text": [
      "-3.534631283402708\n",
      "{'alpha': 0.05, 'selection': 'cyclic', 'tol': 0.001}\n",
      "Lasso(alpha=0.05, copy_X=True, fit_intercept=True, max_iter=1000,\n",
      "      normalize=False, positive=False, precompute=False, random_state=None,\n",
      "      selection='cyclic', tol=0.001, warm_start=False)\n"
     ]
    }
   ],
   "source": [
    "print(model_cv.best_score_)\n",
    "print(model_cv.best_params_)\n",
    "print(model_cv.best_estimator_)"
   ]
  },
  {
   "cell_type": "code",
   "execution_count": 6,
   "metadata": {},
   "outputs": [
    {
     "data": {
      "text/plain": [
       "Lasso(alpha=0.05, copy_X=True, fit_intercept=True, max_iter=1000,\n",
       "      normalize=False, positive=False, precompute=False, random_state=None,\n",
       "      selection='cyclic', tol=0.001, warm_start=False)"
      ]
     },
     "execution_count": 6,
     "metadata": {},
     "output_type": "execute_result"
    }
   ],
   "source": [
    "llr = Lasso(alpha=0.05, copy_X=True, fit_intercept=True, max_iter=1000,\n",
    "      normalize=False, positive=False, precompute=False, random_state=None,\n",
    "      selection='cyclic', tol=0.001, warm_start=False)\n",
    "llr.fit(X_train,y_train)"
   ]
  },
  {
   "cell_type": "code",
   "execution_count": 8,
   "metadata": {},
   "outputs": [
    {
     "name": "stdout",
     "output_type": "stream",
     "text": [
      "[-0.12251843  0.03812112 -0.00804914  2.24158638 -0.          4.02034063\n",
      " -0.02217066 -1.12842383  0.20942077 -0.01023412 -0.73940918  0.01227677\n",
      " -0.58787165]\n",
      "21.864854256801557\n",
      "41\n",
      "  (0, 0)\t-0.12251842617663834\n",
      "  (0, 1)\t0.03812112072647257\n",
      "  (0, 2)\t-0.008049136988335745\n",
      "  (0, 3)\t2.2415863845707573\n",
      "  (0, 5)\t4.020340628368363\n",
      "  (0, 6)\t-0.02217066013733395\n",
      "  (0, 7)\t-1.1284238272128182\n",
      "  (0, 8)\t0.20942077417860552\n",
      "  (0, 9)\t-0.0102341204165126\n",
      "  (0, 10)\t-0.7394091787261229\n",
      "  (0, 11)\t0.012276773355356253\n",
      "  (0, 12)\t-0.5878716499071909\n"
     ]
    }
   ],
   "source": [
    "# Attributes\n",
    "print(llr.coef_)\n",
    "print(llr.intercept_)\n",
    "print(llr.n_iter_) # Actual number of iterations for each target. Available only for sag and lsqr solvers. Other solvers will return None\n",
    "print(llr.sparse_coef_) #sparse representation of the fitted coef_"
   ]
  },
  {
   "cell_type": "code",
   "execution_count": 11,
   "metadata": {},
   "outputs": [
    {
     "name": "stdout",
     "output_type": "stream",
     "text": [
      "0.6916523642145405\n",
      "{'alpha': 0.05, 'copy_X': True, 'fit_intercept': True, 'max_iter': 1000, 'normalize': False, 'positive': False, 'precompute': False, 'random_state': None, 'selection': 'cyclic', 'tol': 0.001, 'warm_start': False}\n",
      "(array([16065.79342105, 14983.01271481, 13973.20780422, 13031.46036491,\n",
      "       12153.18355109, 11334.09965504, 10570.2192722 ,  9857.82187054,\n",
      "        9193.43766944,  8573.83073989,  7995.98324363,  7457.08073463,\n",
      "        6954.49845109,  6485.78853138,  6048.66809155,  5641.00810636,\n",
      "        5260.82303979,  4906.26117427,  4575.5955918 ,  4267.2157629 ,\n",
      "        3979.61970235,  3711.40665374,  3461.27026692,  3227.9922354 ,\n",
      "        3010.43636244,  2807.54302719,  2618.32402368,  2441.85774771,\n",
      "        2277.28470813,  2123.8033406 ,  1980.66610357,  1847.17583725,\n",
      "        1722.6823681 ,  1606.57934211,  1498.30127148,  1397.32078042,\n",
      "        1303.14603649,  1215.31835511,  1133.4099655 ,  1057.02192722,\n",
      "         985.78218705,   919.34376694,   857.38307399,   799.59832436,\n",
      "         745.70807346,   695.44984511,   648.57885314,   604.86680915,\n",
      "         564.10081064,   526.08230398,   490.62611743,   457.55955918,\n",
      "         426.72157629,   397.96197024,   371.14066537,   346.12702669,\n",
      "         322.79922354,   301.04363624,   280.75430272,   261.83240237,\n",
      "         244.18577477,   227.72847081,   212.38033406,   198.06661036,\n",
      "         184.71758372,   172.26823681,   160.65793421,   149.83012715,\n",
      "         139.73207804,   130.31460365,   121.53183551,   113.34099655,\n",
      "         105.70219272,    98.57821871,    91.93437669,    85.7383074 ,\n",
      "          79.95983244,    74.57080735,    69.54498451,    64.85788531,\n",
      "          60.48668092,    56.41008106,    52.6082304 ,    49.06261174,\n",
      "          45.75595592,    42.67215763,    39.79619702,    37.11406654,\n",
      "          34.61270267,    32.27992235,    30.10436362,    28.07543027,\n",
      "          26.18324024,    24.41857748,    22.77284708,    21.23803341,\n",
      "          19.80666104,    18.47175837,    17.22682368,    16.06579342]), array([[ 0.        ,  0.        ,  0.        , ..., -0.        ,\n",
      "        -0.        , -0.        ],\n",
      "       [ 0.        ,  0.        ,  0.        , ...,  0.12364454,\n",
      "         0.1251924 ,  0.12657308],\n",
      "       [ 0.        ,  0.        ,  0.        , ..., -0.        ,\n",
      "        -0.        , -0.        ],\n",
      "       ...,\n",
      "       [ 0.        ,  0.        ,  0.        , ...,  0.        ,\n",
      "         0.        ,  0.        ],\n",
      "       [ 0.        ,  0.        ,  0.0022695 , ...,  0.04939426,\n",
      "         0.04914274,  0.04891636],\n",
      "       [ 0.        ,  0.        ,  0.        , ..., -0.1254499 ,\n",
      "        -0.15132665, -0.17614321]]), array([1.45519152e-11, 1.45519152e-11, 1.68437672e-02, 2.75505054e-02,\n",
      "       4.61321999e-02, 7.51367854e-02, 7.73199580e-02, 1.20841471e-01,\n",
      "       1.20967284e-01, 1.19907532e-01, 1.79288655e-01, 1.74459112e-01,\n",
      "       1.68559099e-01, 1.61921907e-01, 2.32627175e-01, 2.20997560e-01,\n",
      "       2.08877878e-01, 1.96723588e-01, 1.84692239e-01, 2.57134896e-01,\n",
      "       2.40187043e-01, 2.23449783e-01, 2.07497719e-01, 1.92379036e-01,\n",
      "       2.62876731e-01, 2.43582481e-01, 2.24784069e-01, 2.07274325e-01,\n",
      "       1.91012982e-01, 2.58301020e-01, 2.38820074e-01, 2.19682927e-01,\n",
      "       2.02044383e-01, 1.85819614e-01, 1.70908299e-01, 2.29802739e-01,\n",
      "       2.12917998e-01, 1.95863250e-01, 1.80197965e-01, 1.65841850e-01,\n",
      "       2.22663548e-01, 2.07328567e-01, 1.91031918e-01, 1.76025683e-01,\n",
      "       1.62270018e-01, 2.17901280e-01, 2.04372644e-01, 1.88766515e-01,\n",
      "       1.74287963e-01, 1.60987860e-01, 1.48770487e-01, 1.99982992e-01,\n",
      "       1.89485901e-01, 1.75621960e-01, 1.62556257e-01, 1.50503367e-01,\n",
      "       1.39397542e-01, 1.87626235e-01, 1.80132487e-01, 1.67654447e-01,\n",
      "       1.55542354e-01, 1.44293789e-01, 1.94435553e-01, 1.89883899e-01,\n",
      "       1.77733438e-01, 1.65258122e-01, 1.96313408e+00, 2.27354580e+00,\n",
      "       2.40514827e+00, 3.49026519e+00, 3.60195613e+00, 3.66355270e+00,\n",
      "       3.69379850e+00, 3.69680845e+00, 3.67622166e+00, 5.07712393e+00,\n",
      "       5.02830409e+00, 4.92881712e+00, 6.75384585e+00, 6.63452959e+00,\n",
      "       6.44320748e+00, 6.23959212e+00, 6.02841617e+00, 5.81240021e+00,\n",
      "       7.94717833e+00, 7.74705928e+00, 7.45008334e+00, 7.15258737e+00,\n",
      "       6.86007830e+00, 6.57404276e+00, 6.04724677e+00, 4.45281315e+00,\n",
      "       4.80529200e+00, 1.30010825e+00, 4.68702458e-01, 4.53313295e-01,\n",
      "       4.75813361e-01, 5.42449059e-01, 2.81672616e+00, 4.69923483e+00]))\n"
     ]
    }
   ],
   "source": [
    "print(llr.score(X_test,y_test))\n",
    "print(llr.get_params())\n",
    "#print(llr.path(X_test,y_test)) #Compute elastic net path with coordinate descent.\n",
    "print(llr.predict(X_test))"
   ]
  },
  {
   "cell_type": "code",
   "execution_count": null,
   "metadata": {},
   "outputs": [],
   "source": []
  }
 ],
 "metadata": {
  "kernelspec": {
   "display_name": "Python 3",
   "language": "python",
   "name": "python3"
  },
  "language_info": {
   "codemirror_mode": {
    "name": "ipython",
    "version": 3
   },
   "file_extension": ".py",
   "mimetype": "text/x-python",
   "name": "python",
   "nbconvert_exporter": "python",
   "pygments_lexer": "ipython3",
   "version": "3.7.6"
  }
 },
 "nbformat": 4,
 "nbformat_minor": 4
}
