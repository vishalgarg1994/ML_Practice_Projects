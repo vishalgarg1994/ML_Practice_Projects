{
 "cells": [
  {
   "cell_type": "code",
   "execution_count": 4,
   "metadata": {},
   "outputs": [],
   "source": [
    "import numpy as np \n",
    "import pandas as pd\n",
    "from sklearn.model_selection import train_test_split,KFold,GridSearchCV\n",
    "from sklearn.datasets import load_boston\n",
    "from sklearn.svm import SVR"
   ]
  },
  {
   "cell_type": "code",
   "execution_count": 5,
   "metadata": {},
   "outputs": [],
   "source": [
    "df = load_boston()\n",
    "X = df.data\n",
    "y = df.target\n",
    "X_train,X_test,y_train,y_test = train_test_split(X,y,train_size=0.7,random_state=42)"
   ]
  },
  {
   "cell_type": "code",
   "execution_count": 6,
   "metadata": {},
   "outputs": [
    {
     "data": {
      "text/plain": [
       "'\\n# Params\\n# kernel{‘linear’, ‘poly’, ‘rbf’, ‘sigmoid’, ‘precomputed’}, default=’rbf’\\n# degree (default=3) -- Degree of the polynomial kernel function (‘poly’). Ignored by all other kernels.\\n# C(Default 1)--> Regularization parameter. The strength of the regularization is inversely proportional to C. \\n    Must be strictly positive. The penalty is a squared l2 penalty.\\n# gamma --> Kernel coefficient for ‘rbf’, ‘poly’ and ‘sigmoid’ ( It is the Margin b/w SV and the sepreator)\\n        Large Value of parameter C => small margin  ---> Lower misclassification but tends to overfit\\n        Small Value of paramerter C => Large margin  --> High  misclassification so tends ti underfit \\n        So value of C should be optimal to select best margin line\\n        Value of gamma is scale(default) or auto\\n        auto ---> 1/n_features\\n        scale ----> \\n# cache_size --->Specify the size of the kernel cache (in MB) default --> 200\\n# tol ---> Tolerance for stopping criterion. 10e-3\\n'"
      ]
     },
     "execution_count": 6,
     "metadata": {},
     "output_type": "execute_result"
    }
   ],
   "source": [
    "scm = SVR()\n",
    "'''\n",
    "# Params\n",
    "# kernel{‘linear’, ‘poly’, ‘rbf’, ‘sigmoid’, ‘precomputed’}, default=’rbf’\n",
    "# degree (default=3) -- Degree of the polynomial kernel function (‘poly’). Ignored by all other kernels.\n",
    "# C(Default 1)--> Regularization parameter. The strength of the regularization is inversely proportional to C. \n",
    "    Must be strictly positive. The penalty is a squared l2 penalty.\n",
    "# gamma --> Kernel coefficient for ‘rbf’, ‘poly’ and ‘sigmoid’ ( It is the Margin b/w SV and the sepreator)\n",
    "        Large Value of parameter C => small margin  ---> Lower misclassification but tends to overfit\n",
    "        Small Value of paramerter C => Large margin  --> High  misclassification so tends ti underfit \n",
    "        So value of C should be optimal to select best margin line\n",
    "        Value of gamma is scale(default) or auto\n",
    "        auto ---> 1/n_features\n",
    "        scale ----> \n",
    "# cache_size --->Specify the size of the kernel cache (in MB) default --> 200\n",
    "# tol ---> Tolerance for stopping criterion. 10e-3\n",
    "'''"
   ]
  },
  {
   "cell_type": "code",
   "execution_count": 8,
   "metadata": {},
   "outputs": [
    {
     "name": "stdout",
     "output_type": "stream",
     "text": [
      "Fitting 5 folds for each of 4 candidates, totalling 20 fits\n"
     ]
    },
    {
     "name": "stderr",
     "output_type": "stream",
     "text": [
      "[Parallel(n_jobs=5)]: Using backend LokyBackend with 5 concurrent workers.\n",
      "[Parallel(n_jobs=5)]: Done  20 out of  20 | elapsed:    3.7s finished\n"
     ]
    },
    {
     "data": {
      "text/plain": [
       "GridSearchCV(cv=KFold(n_splits=5, random_state=42, shuffle=True),\n",
       "             error_score=nan,\n",
       "             estimator=SVR(C=1.0, cache_size=200, coef0=0.0, degree=3,\n",
       "                           epsilon=0.1, gamma='scale', kernel='rbf',\n",
       "                           max_iter=-1, shrinking=True, tol=0.001,\n",
       "                           verbose=False),\n",
       "             iid='deprecated', n_jobs=5, param_grid=[{'C': [0.1, 1, 10, 100]}],\n",
       "             pre_dispatch='2*n_jobs', refit=True, return_train_score=True,\n",
       "             scoring='neg_mean_absolute_error', verbose=1)"
      ]
     },
     "execution_count": 8,
     "metadata": {},
     "output_type": "execute_result"
    }
   ],
   "source": [
    "hyper_params = [{\n",
    "    'C':[0.1,1,10,100]\n",
    "}]\n",
    "folds = KFold(n_splits=5,shuffle=True,random_state=42)\n",
    "model_cv = GridSearchCV(estimator=scm,\n",
    "                       param_grid = hyper_params,\n",
    "                       scoring ='neg_mean_absolute_error',\n",
    "                       cv = folds,\n",
    "                       verbose=1,\n",
    "                       return_train_score=True,\n",
    "                       n_jobs=5)\n",
    "model_cv.fit(X_train,y_train)"
   ]
  },
  {
   "cell_type": "code",
   "execution_count": 9,
   "metadata": {},
   "outputs": [
    {
     "name": "stdout",
     "output_type": "stream",
     "text": [
      "-4.514512087915131\n",
      "{'C': 100}\n",
      "SVR(C=100, cache_size=200, coef0=0.0, degree=3, epsilon=0.1, gamma='scale',\n",
      "    kernel='rbf', max_iter=-1, shrinking=True, tol=0.001, verbose=False)\n"
     ]
    }
   ],
   "source": [
    "print(model_cv.best_score_)\n",
    "print(model_cv.best_params_)\n",
    "print(model_cv.best_estimator_)"
   ]
  },
  {
   "cell_type": "code",
   "execution_count": 11,
   "metadata": {},
   "outputs": [
    {
     "data": {
      "text/plain": [
       "SVR(C=100, cache_size=200, coef0=0.0, degree=3, epsilon=0.1, gamma='scale',\n",
       "    kernel='rbf', max_iter=-1, shrinking=True, tol=0.001, verbose=False)"
      ]
     },
     "execution_count": 11,
     "metadata": {},
     "output_type": "execute_result"
    }
   ],
   "source": [
    "svc = SVR(C=100, cache_size=200, coef0=0.0, degree=3, epsilon=0.1, gamma='scale',\n",
    "    kernel='rbf', max_iter=-1, shrinking=True, tol=0.001, verbose=False)\n",
    "svc.fit(X_train,y_train)"
   ]
  },
  {
   "cell_type": "code",
   "execution_count": 13,
   "metadata": {},
   "outputs": [
    {
     "name": "stdout",
     "output_type": "stream",
     "text": [
      "[  0   2   3   4   5   6   7   8   9  10  11  12  13  14  15  16  17  18\n",
      "  19  20  21  22  23  24  25  26  27  28  29  30  31  32  33  34  35  36\n",
      "  37  38  39  40  41  42  43  44  46  47  48  49  50  51  52  53  54  55\n",
      "  56  57  58  59  60  61  62  63  64  65  66  67  68  69  70  71  72  73\n",
      "  74  75  76  77  78  79  80  81  82  83  84  85  87  88  89  90  91  92\n",
      "  93  94  95  96  97  98  99 100 101 102 103 104 105 106 107 108 109 110\n",
      " 111 112 113 114 115 116 117 118 120 121 122 123 124 125 126 127 128 129\n",
      " 130 131 132 133 134 135 136 137 138 139 140 141 142 143 144 145 146 147\n",
      " 148 149 150 151 152 153 154 155 156 157 158 159 160 161 162 163 164 165\n",
      " 166 167 168 169 170 172 173 174 175 176 177 178 179 180 181 182 183 184\n",
      " 185 186 187 188 189 190 191 192 194 195 196 197 198 199 200 201 202 203\n",
      " 204 205 206 207 208 209 210 211 212 213 214 215 216 217 218 219 220 221\n",
      " 222 223 224 225 226 227 228 229 230 231 232 233 234 235 236 237 238 239\n",
      " 240 241 242 244 245 246 247 248 249 250 251 252 253 254 255 256 257 258\n",
      " 259 260 261 262 263 264 265 266 267 268 269 270 271 272 273 274 275 276\n",
      " 277 278 279 280 281 282 283 284 285 286 287 288 289 290 291 292 293 294\n",
      " 295 296 297 299 300 301 302 303 304 305 306 307 308 309 310 311 312 313\n",
      " 314 315 316 317 318 319 320 321 322 323 324 326 327 328 329 330 331 332\n",
      " 333 334 335 336 337 338 339 340 341 342 343 344 345 346 347 348 349 350\n",
      " 351 352 353]\n",
      "0\n",
      "[20.31376052]\n"
     ]
    }
   ],
   "source": [
    "#Attributes\n",
    "print(svc.support_) # Indices of support vectors\n",
    "print(svc.fit_status_) # Class Labels\n",
    "print(svc.intercept_) # Constant in decision function\n",
    "# print(svc.support_vectors_) # Support Vectors"
   ]
  },
  {
   "cell_type": "code",
   "execution_count": 15,
   "metadata": {},
   "outputs": [
    {
     "name": "stdout",
     "output_type": "stream",
     "text": [
      "{'C': 100, 'cache_size': 200, 'coef0': 0.0, 'degree': 3, 'epsilon': 0.1, 'gamma': 'scale', 'kernel': 'rbf', 'max_iter': -1, 'shrinking': True, 'tol': 0.001, 'verbose': False}\n",
      "0.5230646779709767\n",
      "[23.71476795 28.59700502 14.98627472 24.5220486  16.79130217 20.83418134\n",
      " 19.54940519 15.14166192 18.36802983 20.35711803 20.30412222 20.98522939\n",
      "  5.88378614 21.18367891 22.1137417  19.98569449 20.72972823 11.10893134\n",
      " 31.9708294  15.78837417 26.47743254 27.38153796 17.17762543 22.61141634\n",
      " 16.89266038 16.01259006 22.84188498 11.50333172 20.26311765 20.58046486\n",
      " 21.70476253 24.00333657 16.65960085 19.02315996 15.25515935 17.78172662\n",
      " 25.56932902 23.99902539 21.16370297 23.62877719 17.94367403 27.47314711\n",
      " 32.95121969 22.45447526 23.92486406 16.40498331 18.65447251 24.0333599\n",
      " 17.5541765  26.42665045 22.51935525 27.81018849 19.12470153 22.80863462\n",
      " 28.00509737 21.18558056 16.54539862 31.09478325 23.92641442 20.69757805\n",
      " 24.96703974 31.63483481 25.68320598 20.06925619 27.82153359 18.26439827\n",
      " 16.21242549 26.13149093 30.58722029 11.73006086 22.6125708  20.80675617\n",
      " 13.2320501  28.97006314 22.17485302  9.24766021 20.71741132 32.69536599\n",
      " 14.30136324 13.07747016 24.05578252 13.13221388 28.65439965 13.14166791\n",
      " 21.93564639 23.4211088  16.61833355 24.45672945 26.17191471 18.59036104\n",
      " 23.5733004  10.43973211 19.39011496 21.06974    20.32943555 19.79372368\n",
      " 18.68970211  7.62539043 11.79659752 11.18882273 22.87940103 22.61972195\n",
      " 13.08142071 22.98613473 25.65697405 10.49478598 21.84999232 24.94105477\n",
      " 24.56066973 30.10889519  9.48591995 13.74020855 24.77281394 25.24628338\n",
      " 24.12722319 13.93803314 25.8589382  18.35870206 21.72624136 26.64757509\n",
      " 22.48416455 26.12172135  8.07408191 21.65891051 25.08154684 23.80754523\n",
      " 29.67293001 26.60949149 14.77382878 27.98290559 17.35777613 24.44759591\n",
      " 20.70803763 18.85247466 14.36570348 15.47077291 24.46859808 32.3944008\n",
      " 29.36467494 19.87762323 20.47121512 29.56931885 28.44753343 18.03592636\n",
      " 10.70317739 24.33248409 18.92096745 15.39789615 18.59371475 24.96943086\n",
      " 14.25391167 16.4302663 ]\n"
     ]
    }
   ],
   "source": [
    "print(svc.get_params())\n",
    "print(svc.score(X_test,y_test)) # Return the coefficient of determination R^2 of the prediction.\n",
    "print(svc.predict(X_test))"
   ]
  },
  {
   "cell_type": "code",
   "execution_count": null,
   "metadata": {},
   "outputs": [],
   "source": []
  }
 ],
 "metadata": {
  "kernelspec": {
   "display_name": "Python 3",
   "language": "python",
   "name": "python3"
  },
  "language_info": {
   "codemirror_mode": {
    "name": "ipython",
    "version": 3
   },
   "file_extension": ".py",
   "mimetype": "text/x-python",
   "name": "python",
   "nbconvert_exporter": "python",
   "pygments_lexer": "ipython3",
   "version": "3.7.6"
  }
 },
 "nbformat": 4,
 "nbformat_minor": 4
}
