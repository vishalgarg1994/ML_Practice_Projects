{
 "cells": [
  {
   "cell_type": "markdown",
   "metadata": {},
   "source": [
    "#   Finding the sort of peoples who  survived on Titanic Ship\n",
    "*The sinking of the Titanic is one of the most infamous shipwrecks in history.\n",
    "On April 15, 1912, during her maiden voyage, the widely considered “unsinkable” RMS Titanic sank after colliding with an iceberg. Unfortunately, there weren’t enough lifeboats for everyone onboard, resulting in the death of 1502 out of 2224 passengers and crew.\n",
    "While there was some element of luck involved in surviving, it seems some groups of people were more likely to survive than others.\n",
    "        We need to identify the people who were morelikly to survive based on the data provided *\n",
    "\n",
    "`This is a test project from kaggle, completed for learning purpose. Data is downloaded from kaggle` \n",
    "\n",
    "`Data Location` [https://www.kaggle.com/c/titanic/data](https://www.kaggle.com/c/titanic/data)\n",
    "\n",
    "### Project Steps\n",
    "1. Importing Required Libraries\n",
    "2. Exploratry Data Analyses\n",
    "3. Data Preprocessing\n",
    "4. Dimensionality Reduction, If Required\n",
    "5. Train Test Split\n",
    "6. Model Selection\n",
    "7. Model Evaluation\n",
    "8. Dumping Model to Pickle File for use"
   ]
  },
  {
   "cell_type": "markdown",
   "metadata": {},
   "source": [
    "## 1. Importing the Required Libraries"
   ]
  },
  {
   "cell_type": "code",
   "execution_count": 1,
   "metadata": {
    "ExecuteTime": {
     "end_time": "2020-07-10T10:15:36.037817Z",
     "start_time": "2020-07-10T10:14:39.760458Z"
    }
   },
   "outputs": [],
   "source": [
    "import pandas as pd\n",
    "import numpy as np\n",
    "import seaborn as sns\n",
    "import matplotlib.pyplot as plt\n",
    "import seaborn as sns\n",
    "import matplotlib.pyplot as plt\n",
    "from sklearn.neighbors import KNeighborsRegressor\n",
    "import warnings\n",
    "warnings.filterwarnings(\"ignore\")\n",
    "from sklearn.model_selection import train_test_split,GridSearchCV,KFold\n",
    "from sklearn.ensemble import RandomForestClassifier,AdaBoostClassifier\n",
    "from sklearn.svm import SVC\n",
    "from sklearn import metrics"
   ]
  },
  {
   "cell_type": "markdown",
   "metadata": {
    "ExecuteTime": {
     "end_time": "2020-07-08T07:46:55.664001Z",
     "start_time": "2020-07-08T07:46:55.647997Z"
    }
   },
   "source": [
    "## 2. Exploratry Data Analyses\n",
    "   * Reading Data\n",
    "   * Analyze data(Shape,Features Info)\n",
    "   * Check for Null Values\n",
    "   * Analyze the data through Visualization"
   ]
  },
  {
   "cell_type": "code",
   "execution_count": 2,
   "metadata": {
    "ExecuteTime": {
     "end_time": "2020-07-10T10:19:29.922647Z",
     "start_time": "2020-07-10T10:19:29.074627Z"
    }
   },
   "outputs": [],
   "source": [
    "# The data is already split into train and test\n",
    "train = pd.read_csv('train.csv')\n",
    "test = pd.read_csv('test.csv')"
   ]
  },
  {
   "cell_type": "code",
   "execution_count": 3,
   "metadata": {
    "ExecuteTime": {
     "end_time": "2020-07-10T10:19:30.866345Z",
     "start_time": "2020-07-10T10:19:30.834343Z"
    }
   },
   "outputs": [
    {
     "name": "stdout",
     "output_type": "stream",
     "text": [
      "(891, 12)\n",
      "(418, 11)\n"
     ]
    }
   ],
   "source": [
    "print(train.shape) \n",
    "print(test.shape)"
   ]
  },
  {
   "cell_type": "code",
   "execution_count": 4,
   "metadata": {
    "ExecuteTime": {
     "end_time": "2020-07-10T10:19:33.093216Z",
     "start_time": "2020-07-10T10:19:32.673404Z"
    }
   },
   "outputs": [
    {
     "name": "stdout",
     "output_type": "stream",
     "text": [
      "<class 'pandas.core.frame.DataFrame'>\n",
      "RangeIndex: 891 entries, 0 to 890\n",
      "Data columns (total 12 columns):\n",
      " #   Column       Non-Null Count  Dtype  \n",
      "---  ------       --------------  -----  \n",
      " 0   PassengerId  891 non-null    int64  \n",
      " 1   Survived     891 non-null    int64  \n",
      " 2   Pclass       891 non-null    int64  \n",
      " 3   Name         891 non-null    object \n",
      " 4   Sex          891 non-null    object \n",
      " 5   Age          714 non-null    float64\n",
      " 6   SibSp        891 non-null    int64  \n",
      " 7   Parch        891 non-null    int64  \n",
      " 8   Ticket       891 non-null    object \n",
      " 9   Fare         891 non-null    float64\n",
      " 10  Cabin        204 non-null    object \n",
      " 11  Embarked     889 non-null    object \n",
      "dtypes: float64(2), int64(5), object(5)\n",
      "memory usage: 83.7+ KB\n"
     ]
    }
   ],
   "source": [
    "train.info()\n",
    "# test will be having all the same columns except Survived  which is target column"
   ]
  },
  {
   "cell_type": "code",
   "execution_count": 9,
   "metadata": {
    "ExecuteTime": {
     "end_time": "2020-07-08T08:06:55.258106Z",
     "start_time": "2020-07-08T08:06:54.947658Z"
    }
   },
   "outputs": [
    {
     "data": {
      "text/html": [
       "<div>\n",
       "<style scoped>\n",
       "    .dataframe tbody tr th:only-of-type {\n",
       "        vertical-align: middle;\n",
       "    }\n",
       "\n",
       "    .dataframe tbody tr th {\n",
       "        vertical-align: top;\n",
       "    }\n",
       "\n",
       "    .dataframe thead th {\n",
       "        text-align: right;\n",
       "    }\n",
       "</style>\n",
       "<table border=\"1\" class=\"dataframe\">\n",
       "  <thead>\n",
       "    <tr style=\"text-align: right;\">\n",
       "      <th></th>\n",
       "      <th>PassengerId</th>\n",
       "      <th>Survived</th>\n",
       "      <th>Pclass</th>\n",
       "      <th>Age</th>\n",
       "      <th>SibSp</th>\n",
       "      <th>Parch</th>\n",
       "      <th>Fare</th>\n",
       "    </tr>\n",
       "  </thead>\n",
       "  <tbody>\n",
       "    <tr>\n",
       "      <th>count</th>\n",
       "      <td>891.000000</td>\n",
       "      <td>891.000000</td>\n",
       "      <td>891.000000</td>\n",
       "      <td>714.000000</td>\n",
       "      <td>891.000000</td>\n",
       "      <td>891.000000</td>\n",
       "      <td>891.000000</td>\n",
       "    </tr>\n",
       "    <tr>\n",
       "      <th>mean</th>\n",
       "      <td>446.000000</td>\n",
       "      <td>0.383838</td>\n",
       "      <td>2.308642</td>\n",
       "      <td>29.699118</td>\n",
       "      <td>0.523008</td>\n",
       "      <td>0.381594</td>\n",
       "      <td>32.204208</td>\n",
       "    </tr>\n",
       "    <tr>\n",
       "      <th>std</th>\n",
       "      <td>257.353842</td>\n",
       "      <td>0.486592</td>\n",
       "      <td>0.836071</td>\n",
       "      <td>14.526497</td>\n",
       "      <td>1.102743</td>\n",
       "      <td>0.806057</td>\n",
       "      <td>49.693429</td>\n",
       "    </tr>\n",
       "    <tr>\n",
       "      <th>min</th>\n",
       "      <td>1.000000</td>\n",
       "      <td>0.000000</td>\n",
       "      <td>1.000000</td>\n",
       "      <td>0.420000</td>\n",
       "      <td>0.000000</td>\n",
       "      <td>0.000000</td>\n",
       "      <td>0.000000</td>\n",
       "    </tr>\n",
       "    <tr>\n",
       "      <th>25%</th>\n",
       "      <td>223.500000</td>\n",
       "      <td>0.000000</td>\n",
       "      <td>2.000000</td>\n",
       "      <td>20.125000</td>\n",
       "      <td>0.000000</td>\n",
       "      <td>0.000000</td>\n",
       "      <td>7.910400</td>\n",
       "    </tr>\n",
       "    <tr>\n",
       "      <th>50%</th>\n",
       "      <td>446.000000</td>\n",
       "      <td>0.000000</td>\n",
       "      <td>3.000000</td>\n",
       "      <td>28.000000</td>\n",
       "      <td>0.000000</td>\n",
       "      <td>0.000000</td>\n",
       "      <td>14.454200</td>\n",
       "    </tr>\n",
       "    <tr>\n",
       "      <th>75%</th>\n",
       "      <td>668.500000</td>\n",
       "      <td>1.000000</td>\n",
       "      <td>3.000000</td>\n",
       "      <td>38.000000</td>\n",
       "      <td>1.000000</td>\n",
       "      <td>0.000000</td>\n",
       "      <td>31.000000</td>\n",
       "    </tr>\n",
       "    <tr>\n",
       "      <th>max</th>\n",
       "      <td>891.000000</td>\n",
       "      <td>1.000000</td>\n",
       "      <td>3.000000</td>\n",
       "      <td>80.000000</td>\n",
       "      <td>8.000000</td>\n",
       "      <td>6.000000</td>\n",
       "      <td>512.329200</td>\n",
       "    </tr>\n",
       "  </tbody>\n",
       "</table>\n",
       "</div>"
      ],
      "text/plain": [
       "       PassengerId    Survived      Pclass         Age       SibSp  \\\n",
       "count   891.000000  891.000000  891.000000  714.000000  891.000000   \n",
       "mean    446.000000    0.383838    2.308642   29.699118    0.523008   \n",
       "std     257.353842    0.486592    0.836071   14.526497    1.102743   \n",
       "min       1.000000    0.000000    1.000000    0.420000    0.000000   \n",
       "25%     223.500000    0.000000    2.000000   20.125000    0.000000   \n",
       "50%     446.000000    0.000000    3.000000   28.000000    0.000000   \n",
       "75%     668.500000    1.000000    3.000000   38.000000    1.000000   \n",
       "max     891.000000    1.000000    3.000000   80.000000    8.000000   \n",
       "\n",
       "            Parch        Fare  \n",
       "count  891.000000  891.000000  \n",
       "mean     0.381594   32.204208  \n",
       "std      0.806057   49.693429  \n",
       "min      0.000000    0.000000  \n",
       "25%      0.000000    7.910400  \n",
       "50%      0.000000   14.454200  \n",
       "75%      0.000000   31.000000  \n",
       "max      6.000000  512.329200  "
      ]
     },
     "execution_count": 9,
     "metadata": {},
     "output_type": "execute_result"
    }
   ],
   "source": [
    "train.describe()"
   ]
  },
  {
   "cell_type": "code",
   "execution_count": 97,
   "metadata": {
    "ExecuteTime": {
     "end_time": "2020-07-08T11:37:13.509700Z",
     "start_time": "2020-07-08T11:37:13.477697Z"
    }
   },
   "outputs": [
    {
     "name": "stdout",
     "output_type": "stream",
     "text": [
      "Column wise Null value percentage\n"
     ]
    },
    {
     "data": {
      "text/plain": [
       "PassengerId     0.000000\n",
       "Survived        0.000000\n",
       "Pclass          0.000000\n",
       "Name            0.000000\n",
       "Sex             0.000000\n",
       "Age            19.865320\n",
       "SibSp           0.000000\n",
       "Parch           0.000000\n",
       "Ticket          0.000000\n",
       "Fare            0.000000\n",
       "Cabin          77.104377\n",
       "Embarked        0.224467\n",
       "dtype: float64"
      ]
     },
     "execution_count": 97,
     "metadata": {},
     "output_type": "execute_result"
    }
   ],
   "source": [
    "print(\"Column wise Null value percentage\")\n",
    "100*(train.isnull().sum() / len(train.index))"
   ]
  },
  {
   "cell_type": "code",
   "execution_count": 98,
   "metadata": {
    "ExecuteTime": {
     "end_time": "2020-07-08T11:37:17.451765Z",
     "start_time": "2020-07-08T11:37:16.750075Z"
    }
   },
   "outputs": [
    {
     "data": {
      "text/plain": [
       "<matplotlib.axes._subplots.AxesSubplot at 0x7f88de5f88>"
      ]
     },
     "execution_count": 98,
     "metadata": {},
     "output_type": "execute_result"
    },
    {
     "data": {
      "image/png": "[encoded data removed]",
      "text/plain": [
       "<Figure size 432x288 with 1 Axes>"
      ]
     },
     "metadata": {},
     "output_type": "display_data"
    }
   ],
   "source": [
    "sns.heatmap(train.isnull(),yticklabels=False,cbar=False,cmap='viridis')"
   ]
  },
  {
   "cell_type": "code",
   "execution_count": 35,
   "metadata": {
    "ExecuteTime": {
     "end_time": "2020-07-08T08:39:56.934601Z",
     "start_time": "2020-07-08T08:39:55.721918Z"
    }
   },
   "outputs": [
    {
     "data": {
      "image/png": "[encoded data removed]",
      "text/plain": [
       "<Figure size 1080x360 with 3 Axes>"
      ]
     },
     "metadata": {},
     "output_type": "display_data"
    }
   ],
   "source": [
    "sns.set(style='darkgrid')\n",
    "ncount = len(train.Sex)\n",
    "fig, axes =plt.subplots(1,3,figsize=(15,5))\n",
    "cols = ['Sex','Embarked','Pclass']\n",
    "for i,col in enumerate(cols):\n",
    "    ax = sns.countplot(x=col,data=train,ax=axes[i%3])\n",
    "    for p in ax.patches:\n",
    "        x=p.get_bbox().get_points()[:,0]\n",
    "        y=p.get_bbox().get_points()[1,1]\n",
    "        ax.annotate('{:.1f}%'.format(100.*y/ncount), (x.mean(), y), \n",
    "                ha='center', va='bottom')"
   ]
  },
  {
   "cell_type": "code",
   "execution_count": 55,
   "metadata": {
    "ExecuteTime": {
     "end_time": "2020-07-08T08:57:54.996304Z",
     "start_time": "2020-07-08T08:57:54.143892Z"
    }
   },
   "outputs": [
    {
     "data": {
      "text/plain": [
       "Text(0.5, 1.0, 'Min: 0.42 Max: 80.0 Mean: 29.7')"
      ]
     },
     "execution_count": 55,
     "metadata": {},
     "output_type": "execute_result"
    },
    {
     "data": {
      "image/png": "[encoded data removed]",
      "text/plain": [
       "<Figure size 432x288 with 1 Axes>"
      ]
     },
     "metadata": {},
     "output_type": "display_data"
    }
   ],
   "source": [
    "sns.distplot(train.Age)\n",
    "X = \"Min: \" +str(train.Age.min())+ \" Max: \"+str(train.Age.max()) +\" Mean: \"+str(round(train.Age.mean(),2))\n",
    "plt.title(X)\n"
   ]
  },
  {
   "cell_type": "code",
   "execution_count": 57,
   "metadata": {
    "ExecuteTime": {
     "end_time": "2020-07-08T08:59:44.162374Z",
     "start_time": "2020-07-08T08:59:43.613599Z"
    }
   },
   "outputs": [
    {
     "data": {
      "text/plain": [
       "<matplotlib.axes._subplots.AxesSubplot at 0x7f89126a08>"
      ]
     },
     "execution_count": 57,
     "metadata": {},
     "output_type": "execute_result"
    },
    {
     "data": {
      "image/png": "[encoded data removed]",
      "text/plain": [
       "<Figure size 432x288 with 1 Axes>"
      ]
     },
     "metadata": {},
     "output_type": "display_data"
    }
   ],
   "source": [
    "sns.boxplot(x=train.Pclass,y=train.Fare)"
   ]
  },
  {
   "cell_type": "markdown",
   "metadata": {},
   "source": [
    "**Analyzation Results**\n",
    "* We can drop 3 irrelevant columns (PassengerId,Name,Ticket)\n",
    "* We have to drop the cabin column as 77% of the data is missing\n",
    "* Dataset is balanced w.r.t the target varible Survived\n",
    "* We have to take care of null vales for Age\n",
    "* Fare Depends upon service class. Class 1 having highest Fare, Class 3 being the lowest\n",
    "<hr style=\"border:2px solid gray\"> </hr>"
   ]
  },
  {
   "cell_type": "markdown",
   "metadata": {},
   "source": [
    "## 3. Data Preprocessing\n",
    "* Drop irrelavent columns\n",
    "* Encode the Object Types\n",
    "* Imuting the Nulls\n",
    "* Scaling Numeric Values"
   ]
  },
  {
   "cell_type": "code",
   "execution_count": 5,
   "metadata": {
    "ExecuteTime": {
     "end_time": "2020-07-10T10:19:45.953502Z",
     "start_time": "2020-07-10T10:19:45.865500Z"
    }
   },
   "outputs": [],
   "source": [
    "cols = ['PassengerId','Name','Ticket','Cabin']\n",
    "final_ds_train = train.drop(cols,axis=1)\n",
    "final_ds_test = test.drop(cols,axis=1)"
   ]
  },
  {
   "cell_type": "code",
   "execution_count": 103,
   "metadata": {
    "ExecuteTime": {
     "end_time": "2020-07-08T11:38:46.893342Z",
     "start_time": "2020-07-08T11:38:46.845336Z"
    }
   },
   "outputs": [
    {
     "data": {
      "text/html": [
       "<div>\n",
       "<style scoped>\n",
       "    .dataframe tbody tr th:only-of-type {\n",
       "        vertical-align: middle;\n",
       "    }\n",
       "\n",
       "    .dataframe tbody tr th {\n",
       "        vertical-align: top;\n",
       "    }\n",
       "\n",
       "    .dataframe thead th {\n",
       "        text-align: right;\n",
       "    }\n",
       "</style>\n",
       "<table border=\"1\" class=\"dataframe\">\n",
       "  <thead>\n",
       "    <tr style=\"text-align: right;\">\n",
       "      <th></th>\n",
       "      <th>Survived</th>\n",
       "      <th>Pclass</th>\n",
       "      <th>Sex</th>\n",
       "      <th>Age</th>\n",
       "      <th>SibSp</th>\n",
       "      <th>Parch</th>\n",
       "      <th>Fare</th>\n",
       "      <th>Embarked</th>\n",
       "    </tr>\n",
       "  </thead>\n",
       "  <tbody>\n",
       "    <tr>\n",
       "      <th>0</th>\n",
       "      <td>0</td>\n",
       "      <td>3</td>\n",
       "      <td>male</td>\n",
       "      <td>22.0</td>\n",
       "      <td>1</td>\n",
       "      <td>0</td>\n",
       "      <td>7.2500</td>\n",
       "      <td>S</td>\n",
       "    </tr>\n",
       "    <tr>\n",
       "      <th>1</th>\n",
       "      <td>1</td>\n",
       "      <td>1</td>\n",
       "      <td>female</td>\n",
       "      <td>38.0</td>\n",
       "      <td>1</td>\n",
       "      <td>0</td>\n",
       "      <td>71.2833</td>\n",
       "      <td>C</td>\n",
       "    </tr>\n",
       "    <tr>\n",
       "      <th>2</th>\n",
       "      <td>1</td>\n",
       "      <td>3</td>\n",
       "      <td>female</td>\n",
       "      <td>26.0</td>\n",
       "      <td>0</td>\n",
       "      <td>0</td>\n",
       "      <td>7.9250</td>\n",
       "      <td>S</td>\n",
       "    </tr>\n",
       "    <tr>\n",
       "      <th>3</th>\n",
       "      <td>1</td>\n",
       "      <td>1</td>\n",
       "      <td>female</td>\n",
       "      <td>35.0</td>\n",
       "      <td>1</td>\n",
       "      <td>0</td>\n",
       "      <td>53.1000</td>\n",
       "      <td>S</td>\n",
       "    </tr>\n",
       "    <tr>\n",
       "      <th>4</th>\n",
       "      <td>0</td>\n",
       "      <td>3</td>\n",
       "      <td>male</td>\n",
       "      <td>35.0</td>\n",
       "      <td>0</td>\n",
       "      <td>0</td>\n",
       "      <td>8.0500</td>\n",
       "      <td>S</td>\n",
       "    </tr>\n",
       "  </tbody>\n",
       "</table>\n",
       "</div>"
      ],
      "text/plain": [
       "   Survived  Pclass     Sex   Age  SibSp  Parch     Fare Embarked\n",
       "0         0       3    male  22.0      1      0   7.2500        S\n",
       "1         1       1  female  38.0      1      0  71.2833        C\n",
       "2         1       3  female  26.0      0      0   7.9250        S\n",
       "3         1       1  female  35.0      1      0  53.1000        S\n",
       "4         0       3    male  35.0      0      0   8.0500        S"
      ]
     },
     "execution_count": 103,
     "metadata": {},
     "output_type": "execute_result"
    }
   ],
   "source": [
    "final_ds_train.head()"
   ]
  },
  {
   "cell_type": "code",
   "execution_count": 6,
   "metadata": {
    "ExecuteTime": {
     "end_time": "2020-07-10T10:19:54.085992Z",
     "start_time": "2020-07-10T10:19:53.957984Z"
    }
   },
   "outputs": [],
   "source": [
    "final_ds_train = pd.get_dummies(final_ds_train,drop_first=True)\n",
    "final_ds_test = pd.get_dummies(final_ds_test,drop_first=True)"
   ]
  },
  {
   "cell_type": "code",
   "execution_count": 105,
   "metadata": {
    "ExecuteTime": {
     "end_time": "2020-07-08T11:38:58.104989Z",
     "start_time": "2020-07-08T11:38:58.048989Z"
    }
   },
   "outputs": [
    {
     "data": {
      "text/html": [
       "<div>\n",
       "<style scoped>\n",
       "    .dataframe tbody tr th:only-of-type {\n",
       "        vertical-align: middle;\n",
       "    }\n",
       "\n",
       "    .dataframe tbody tr th {\n",
       "        vertical-align: top;\n",
       "    }\n",
       "\n",
       "    .dataframe thead th {\n",
       "        text-align: right;\n",
       "    }\n",
       "</style>\n",
       "<table border=\"1\" class=\"dataframe\">\n",
       "  <thead>\n",
       "    <tr style=\"text-align: right;\">\n",
       "      <th></th>\n",
       "      <th>Survived</th>\n",
       "      <th>Pclass</th>\n",
       "      <th>Age</th>\n",
       "      <th>SibSp</th>\n",
       "      <th>Parch</th>\n",
       "      <th>Fare</th>\n",
       "      <th>Sex_male</th>\n",
       "      <th>Embarked_Q</th>\n",
       "      <th>Embarked_S</th>\n",
       "    </tr>\n",
       "  </thead>\n",
       "  <tbody>\n",
       "    <tr>\n",
       "      <th>0</th>\n",
       "      <td>0</td>\n",
       "      <td>3</td>\n",
       "      <td>22.0</td>\n",
       "      <td>1</td>\n",
       "      <td>0</td>\n",
       "      <td>7.2500</td>\n",
       "      <td>1</td>\n",
       "      <td>0</td>\n",
       "      <td>1</td>\n",
       "    </tr>\n",
       "    <tr>\n",
       "      <th>1</th>\n",
       "      <td>1</td>\n",
       "      <td>1</td>\n",
       "      <td>38.0</td>\n",
       "      <td>1</td>\n",
       "      <td>0</td>\n",
       "      <td>71.2833</td>\n",
       "      <td>0</td>\n",
       "      <td>0</td>\n",
       "      <td>0</td>\n",
       "    </tr>\n",
       "    <tr>\n",
       "      <th>2</th>\n",
       "      <td>1</td>\n",
       "      <td>3</td>\n",
       "      <td>26.0</td>\n",
       "      <td>0</td>\n",
       "      <td>0</td>\n",
       "      <td>7.9250</td>\n",
       "      <td>0</td>\n",
       "      <td>0</td>\n",
       "      <td>1</td>\n",
       "    </tr>\n",
       "    <tr>\n",
       "      <th>3</th>\n",
       "      <td>1</td>\n",
       "      <td>1</td>\n",
       "      <td>35.0</td>\n",
       "      <td>1</td>\n",
       "      <td>0</td>\n",
       "      <td>53.1000</td>\n",
       "      <td>0</td>\n",
       "      <td>0</td>\n",
       "      <td>1</td>\n",
       "    </tr>\n",
       "    <tr>\n",
       "      <th>4</th>\n",
       "      <td>0</td>\n",
       "      <td>3</td>\n",
       "      <td>35.0</td>\n",
       "      <td>0</td>\n",
       "      <td>0</td>\n",
       "      <td>8.0500</td>\n",
       "      <td>1</td>\n",
       "      <td>0</td>\n",
       "      <td>1</td>\n",
       "    </tr>\n",
       "  </tbody>\n",
       "</table>\n",
       "</div>"
      ],
      "text/plain": [
       "   Survived  Pclass   Age  SibSp  Parch     Fare  Sex_male  Embarked_Q  \\\n",
       "0         0       3  22.0      1      0   7.2500         1           0   \n",
       "1         1       1  38.0      1      0  71.2833         0           0   \n",
       "2         1       3  26.0      0      0   7.9250         0           0   \n",
       "3         1       1  35.0      1      0  53.1000         0           0   \n",
       "4         0       3  35.0      0      0   8.0500         1           0   \n",
       "\n",
       "   Embarked_S  \n",
       "0           1  \n",
       "1           0  \n",
       "2           1  \n",
       "3           1  \n",
       "4           1  "
      ]
     },
     "execution_count": 105,
     "metadata": {},
     "output_type": "execute_result"
    }
   ],
   "source": [
    "final_ds_train.head()"
   ]
  },
  {
   "cell_type": "markdown",
   "metadata": {},
   "source": [
    "### Immuting Null Values in Age column\n",
    "\n",
    "* Now we need to make train_X_* *, train_Y_*, test_X_* , test_Y_* where * will be number\n",
    "*We will be making 3-4 datasets with different immutation and make our estimation*\n",
    "\n",
    "`We will be immuting by 2 ways`\n",
    "1. Median\n",
    "2. KNN"
   ]
  },
  {
   "cell_type": "markdown",
   "metadata": {},
   "source": [
    "### Median\n",
    "We will be getting following Datasets\n",
    "* ds_train_median_X\n",
    "* ds_train_median_y\n",
    "* ds_test_median"
   ]
  },
  {
   "cell_type": "code",
   "execution_count": 7,
   "metadata": {
    "ExecuteTime": {
     "end_time": "2020-07-10T10:20:02.272812Z",
     "start_time": "2020-07-10T10:20:02.240815Z"
    }
   },
   "outputs": [],
   "source": [
    "ds_train_median = final_ds_train.copy(deep=True)\n",
    "ds_test_median = final_ds_test.copy(deep=True)\n",
    "ds_train_knn = final_ds_train.copy(deep=True)\n",
    "ds_test_knn = final_ds_test.copy(deep=True)"
   ]
  },
  {
   "cell_type": "code",
   "execution_count": 8,
   "metadata": {
    "ExecuteTime": {
     "end_time": "2020-07-10T10:20:04.085091Z",
     "start_time": "2020-07-10T10:20:03.973094Z"
    }
   },
   "outputs": [],
   "source": [
    "ds_train_median.Age = ds_train_median.Age.fillna(ds_train_median.Age.dropna().median())"
   ]
  },
  {
   "cell_type": "code",
   "execution_count": 9,
   "metadata": {
    "ExecuteTime": {
     "end_time": "2020-07-10T10:20:05.464798Z",
     "start_time": "2020-07-10T10:20:05.440798Z"
    }
   },
   "outputs": [],
   "source": [
    "ds_test_median.Age = ds_test_median.Age.fillna(ds_test_median.Age.dropna().median())"
   ]
  },
  {
   "cell_type": "code",
   "execution_count": 10,
   "metadata": {
    "ExecuteTime": {
     "end_time": "2020-07-10T10:20:07.172160Z",
     "start_time": "2020-07-10T10:20:07.156160Z"
    }
   },
   "outputs": [],
   "source": [
    "ds_test_median.Fare = ds_test_median.Fare.fillna(ds_test_median.Fare.dropna().median())"
   ]
  },
  {
   "cell_type": "code",
   "execution_count": 11,
   "metadata": {
    "ExecuteTime": {
     "end_time": "2020-07-10T10:20:08.608991Z",
     "start_time": "2020-07-10T10:20:08.584991Z"
    }
   },
   "outputs": [
    {
     "name": "stdout",
     "output_type": "stream",
     "text": [
      "0\n",
      "0\n"
     ]
    }
   ],
   "source": [
    "print(sum(ds_train_median.isnull().sum()))\n",
    "print(sum(ds_test_median.isnull().sum()))"
   ]
  },
  {
   "cell_type": "code",
   "execution_count": 80,
   "metadata": {
    "ExecuteTime": {
     "end_time": "2020-07-08T11:11:35.732124Z",
     "start_time": "2020-07-08T11:11:35.684128Z"
    }
   },
   "outputs": [
    {
     "data": {
      "text/html": [
       "<div>\n",
       "<style scoped>\n",
       "    .dataframe tbody tr th:only-of-type {\n",
       "        vertical-align: middle;\n",
       "    }\n",
       "\n",
       "    .dataframe tbody tr th {\n",
       "        vertical-align: top;\n",
       "    }\n",
       "\n",
       "    .dataframe thead th {\n",
       "        text-align: right;\n",
       "    }\n",
       "</style>\n",
       "<table border=\"1\" class=\"dataframe\">\n",
       "  <thead>\n",
       "    <tr style=\"text-align: right;\">\n",
       "      <th></th>\n",
       "      <th>Survived</th>\n",
       "      <th>Pclass</th>\n",
       "      <th>Age</th>\n",
       "      <th>SibSp</th>\n",
       "      <th>Parch</th>\n",
       "      <th>Fare</th>\n",
       "      <th>Sex_male</th>\n",
       "      <th>Embarked_Q</th>\n",
       "      <th>Embarked_S</th>\n",
       "    </tr>\n",
       "  </thead>\n",
       "  <tbody>\n",
       "    <tr>\n",
       "      <th>0</th>\n",
       "      <td>0</td>\n",
       "      <td>3</td>\n",
       "      <td>22.0</td>\n",
       "      <td>1</td>\n",
       "      <td>0</td>\n",
       "      <td>7.2500</td>\n",
       "      <td>1</td>\n",
       "      <td>0</td>\n",
       "      <td>1</td>\n",
       "    </tr>\n",
       "    <tr>\n",
       "      <th>1</th>\n",
       "      <td>1</td>\n",
       "      <td>1</td>\n",
       "      <td>38.0</td>\n",
       "      <td>1</td>\n",
       "      <td>0</td>\n",
       "      <td>71.2833</td>\n",
       "      <td>0</td>\n",
       "      <td>0</td>\n",
       "      <td>0</td>\n",
       "    </tr>\n",
       "    <tr>\n",
       "      <th>2</th>\n",
       "      <td>1</td>\n",
       "      <td>3</td>\n",
       "      <td>26.0</td>\n",
       "      <td>0</td>\n",
       "      <td>0</td>\n",
       "      <td>7.9250</td>\n",
       "      <td>0</td>\n",
       "      <td>0</td>\n",
       "      <td>1</td>\n",
       "    </tr>\n",
       "    <tr>\n",
       "      <th>3</th>\n",
       "      <td>1</td>\n",
       "      <td>1</td>\n",
       "      <td>35.0</td>\n",
       "      <td>1</td>\n",
       "      <td>0</td>\n",
       "      <td>53.1000</td>\n",
       "      <td>0</td>\n",
       "      <td>0</td>\n",
       "      <td>1</td>\n",
       "    </tr>\n",
       "    <tr>\n",
       "      <th>4</th>\n",
       "      <td>0</td>\n",
       "      <td>3</td>\n",
       "      <td>35.0</td>\n",
       "      <td>0</td>\n",
       "      <td>0</td>\n",
       "      <td>8.0500</td>\n",
       "      <td>1</td>\n",
       "      <td>0</td>\n",
       "      <td>1</td>\n",
       "    </tr>\n",
       "  </tbody>\n",
       "</table>\n",
       "</div>"
      ],
      "text/plain": [
       "   Survived  Pclass   Age  SibSp  Parch     Fare  Sex_male  Embarked_Q  \\\n",
       "0         0       3  22.0      1      0   7.2500         1           0   \n",
       "1         1       1  38.0      1      0  71.2833         0           0   \n",
       "2         1       3  26.0      0      0   7.9250         0           0   \n",
       "3         1       1  35.0      1      0  53.1000         0           0   \n",
       "4         0       3  35.0      0      0   8.0500         1           0   \n",
       "\n",
       "   Embarked_S  \n",
       "0           1  \n",
       "1           0  \n",
       "2           1  \n",
       "3           1  \n",
       "4           1  "
      ]
     },
     "execution_count": 80,
     "metadata": {},
     "output_type": "execute_result"
    }
   ],
   "source": [
    "ds_train_median.head()"
   ]
  },
  {
   "cell_type": "code",
   "execution_count": 12,
   "metadata": {
    "ExecuteTime": {
     "end_time": "2020-07-10T10:20:15.260875Z",
     "start_time": "2020-07-10T10:20:15.244872Z"
    }
   },
   "outputs": [],
   "source": [
    "ds_train_median_y = ds_train_median.iloc[:,0]\n",
    "ds_train_median_X = ds_train_median.iloc[:,1:]"
   ]
  },
  {
   "cell_type": "code",
   "execution_count": 82,
   "metadata": {
    "ExecuteTime": {
     "end_time": "2020-07-08T11:13:41.118862Z",
     "start_time": "2020-07-08T11:13:41.075834Z"
    }
   },
   "outputs": [
    {
     "data": {
      "text/html": [
       "<div>\n",
       "<style scoped>\n",
       "    .dataframe tbody tr th:only-of-type {\n",
       "        vertical-align: middle;\n",
       "    }\n",
       "\n",
       "    .dataframe tbody tr th {\n",
       "        vertical-align: top;\n",
       "    }\n",
       "\n",
       "    .dataframe thead th {\n",
       "        text-align: right;\n",
       "    }\n",
       "</style>\n",
       "<table border=\"1\" class=\"dataframe\">\n",
       "  <thead>\n",
       "    <tr style=\"text-align: right;\">\n",
       "      <th></th>\n",
       "      <th>Pclass</th>\n",
       "      <th>Age</th>\n",
       "      <th>SibSp</th>\n",
       "      <th>Parch</th>\n",
       "      <th>Fare</th>\n",
       "      <th>Sex_male</th>\n",
       "      <th>Embarked_Q</th>\n",
       "      <th>Embarked_S</th>\n",
       "    </tr>\n",
       "  </thead>\n",
       "  <tbody>\n",
       "    <tr>\n",
       "      <th>0</th>\n",
       "      <td>3</td>\n",
       "      <td>22.0</td>\n",
       "      <td>1</td>\n",
       "      <td>0</td>\n",
       "      <td>7.2500</td>\n",
       "      <td>1</td>\n",
       "      <td>0</td>\n",
       "      <td>1</td>\n",
       "    </tr>\n",
       "    <tr>\n",
       "      <th>1</th>\n",
       "      <td>1</td>\n",
       "      <td>38.0</td>\n",
       "      <td>1</td>\n",
       "      <td>0</td>\n",
       "      <td>71.2833</td>\n",
       "      <td>0</td>\n",
       "      <td>0</td>\n",
       "      <td>0</td>\n",
       "    </tr>\n",
       "    <tr>\n",
       "      <th>2</th>\n",
       "      <td>3</td>\n",
       "      <td>26.0</td>\n",
       "      <td>0</td>\n",
       "      <td>0</td>\n",
       "      <td>7.9250</td>\n",
       "      <td>0</td>\n",
       "      <td>0</td>\n",
       "      <td>1</td>\n",
       "    </tr>\n",
       "    <tr>\n",
       "      <th>3</th>\n",
       "      <td>1</td>\n",
       "      <td>35.0</td>\n",
       "      <td>1</td>\n",
       "      <td>0</td>\n",
       "      <td>53.1000</td>\n",
       "      <td>0</td>\n",
       "      <td>0</td>\n",
       "      <td>1</td>\n",
       "    </tr>\n",
       "    <tr>\n",
       "      <th>4</th>\n",
       "      <td>3</td>\n",
       "      <td>35.0</td>\n",
       "      <td>0</td>\n",
       "      <td>0</td>\n",
       "      <td>8.0500</td>\n",
       "      <td>1</td>\n",
       "      <td>0</td>\n",
       "      <td>1</td>\n",
       "    </tr>\n",
       "  </tbody>\n",
       "</table>\n",
       "</div>"
      ],
      "text/plain": [
       "   Pclass   Age  SibSp  Parch     Fare  Sex_male  Embarked_Q  Embarked_S\n",
       "0       3  22.0      1      0   7.2500         1           0           1\n",
       "1       1  38.0      1      0  71.2833         0           0           0\n",
       "2       3  26.0      0      0   7.9250         0           0           1\n",
       "3       1  35.0      1      0  53.1000         0           0           1\n",
       "4       3  35.0      0      0   8.0500         1           0           1"
      ]
     },
     "execution_count": 82,
     "metadata": {},
     "output_type": "execute_result"
    }
   ],
   "source": [
    "ds_train_median_X.head()"
   ]
  },
  {
   "cell_type": "code",
   "execution_count": 83,
   "metadata": {
    "ExecuteTime": {
     "end_time": "2020-07-08T11:13:57.464420Z",
     "start_time": "2020-07-08T11:13:57.440420Z"
    }
   },
   "outputs": [
    {
     "data": {
      "text/plain": [
       "0    0\n",
       "1    1\n",
       "2    1\n",
       "3    1\n",
       "4    0\n",
       "Name: Survived, dtype: int64"
      ]
     },
     "execution_count": 83,
     "metadata": {},
     "output_type": "execute_result"
    }
   ],
   "source": [
    "ds_train_median_y.head()"
   ]
  },
  {
   "cell_type": "code",
   "execution_count": 85,
   "metadata": {
    "ExecuteTime": {
     "end_time": "2020-07-08T11:14:33.844445Z",
     "start_time": "2020-07-08T11:14:33.804443Z"
    }
   },
   "outputs": [
    {
     "data": {
      "text/html": [
       "<div>\n",
       "<style scoped>\n",
       "    .dataframe tbody tr th:only-of-type {\n",
       "        vertical-align: middle;\n",
       "    }\n",
       "\n",
       "    .dataframe tbody tr th {\n",
       "        vertical-align: top;\n",
       "    }\n",
       "\n",
       "    .dataframe thead th {\n",
       "        text-align: right;\n",
       "    }\n",
       "</style>\n",
       "<table border=\"1\" class=\"dataframe\">\n",
       "  <thead>\n",
       "    <tr style=\"text-align: right;\">\n",
       "      <th></th>\n",
       "      <th>Pclass</th>\n",
       "      <th>Age</th>\n",
       "      <th>SibSp</th>\n",
       "      <th>Parch</th>\n",
       "      <th>Fare</th>\n",
       "      <th>Sex_male</th>\n",
       "      <th>Embarked_Q</th>\n",
       "      <th>Embarked_S</th>\n",
       "    </tr>\n",
       "  </thead>\n",
       "  <tbody>\n",
       "    <tr>\n",
       "      <th>0</th>\n",
       "      <td>3</td>\n",
       "      <td>34.5</td>\n",
       "      <td>0</td>\n",
       "      <td>0</td>\n",
       "      <td>7.8292</td>\n",
       "      <td>1</td>\n",
       "      <td>1</td>\n",
       "      <td>0</td>\n",
       "    </tr>\n",
       "    <tr>\n",
       "      <th>1</th>\n",
       "      <td>3</td>\n",
       "      <td>47.0</td>\n",
       "      <td>1</td>\n",
       "      <td>0</td>\n",
       "      <td>7.0000</td>\n",
       "      <td>0</td>\n",
       "      <td>0</td>\n",
       "      <td>1</td>\n",
       "    </tr>\n",
       "    <tr>\n",
       "      <th>2</th>\n",
       "      <td>2</td>\n",
       "      <td>62.0</td>\n",
       "      <td>0</td>\n",
       "      <td>0</td>\n",
       "      <td>9.6875</td>\n",
       "      <td>1</td>\n",
       "      <td>1</td>\n",
       "      <td>0</td>\n",
       "    </tr>\n",
       "    <tr>\n",
       "      <th>3</th>\n",
       "      <td>3</td>\n",
       "      <td>27.0</td>\n",
       "      <td>0</td>\n",
       "      <td>0</td>\n",
       "      <td>8.6625</td>\n",
       "      <td>1</td>\n",
       "      <td>0</td>\n",
       "      <td>1</td>\n",
       "    </tr>\n",
       "    <tr>\n",
       "      <th>4</th>\n",
       "      <td>3</td>\n",
       "      <td>22.0</td>\n",
       "      <td>1</td>\n",
       "      <td>1</td>\n",
       "      <td>12.2875</td>\n",
       "      <td>0</td>\n",
       "      <td>0</td>\n",
       "      <td>1</td>\n",
       "    </tr>\n",
       "  </tbody>\n",
       "</table>\n",
       "</div>"
      ],
      "text/plain": [
       "   Pclass   Age  SibSp  Parch     Fare  Sex_male  Embarked_Q  Embarked_S\n",
       "0       3  34.5      0      0   7.8292         1           1           0\n",
       "1       3  47.0      1      0   7.0000         0           0           1\n",
       "2       2  62.0      0      0   9.6875         1           1           0\n",
       "3       3  27.0      0      0   8.6625         1           0           1\n",
       "4       3  22.0      1      1  12.2875         0           0           1"
      ]
     },
     "execution_count": 85,
     "metadata": {},
     "output_type": "execute_result"
    }
   ],
   "source": [
    "ds_test_median.head()"
   ]
  },
  {
   "cell_type": "markdown",
   "metadata": {},
   "source": [
    "### KNN\n",
    "We will be getting following Datasets\n",
    "* ds_train_knn_X\n",
    "* ds_train_knn_y\n",
    "* ds_test_knn"
   ]
  },
  {
   "cell_type": "code",
   "execution_count": 13,
   "metadata": {
    "ExecuteTime": {
     "end_time": "2020-07-10T10:20:22.064658Z",
     "start_time": "2020-07-10T10:20:22.048662Z"
    }
   },
   "outputs": [],
   "source": [
    "ds_test_knn.Fare = ds_test_knn.Fare.fillna(ds_test_knn.Fare.dropna().median())"
   ]
  },
  {
   "cell_type": "code",
   "execution_count": 12,
   "metadata": {
    "ExecuteTime": {
     "end_time": "2020-07-09T11:06:38.953163Z",
     "start_time": "2020-07-09T11:06:38.939155Z"
    }
   },
   "outputs": [
    {
     "data": {
      "text/plain": [
       "(891, 9)"
      ]
     },
     "execution_count": 12,
     "metadata": {},
     "output_type": "execute_result"
    }
   ],
   "source": [
    "ds_train_knn.shape"
   ]
  },
  {
   "cell_type": "code",
   "execution_count": 14,
   "metadata": {
    "ExecuteTime": {
     "end_time": "2020-07-10T10:20:24.132709Z",
     "start_time": "2020-07-10T10:20:23.817070Z"
    }
   },
   "outputs": [],
   "source": [
    "ds_train_knn_age_test = ds_train_knn[ds_train_knn['Age'].isnull()] # Get all the rows having Null Values - 1 (Test)\n",
    "ds_train_knn_age_train = ds_train_knn.dropna() # Get all the rows having Non-Null Values - 2 (Train)\n",
    "ds_train_knn_age_train_y = ds_train_knn_age_train.pop('Age') # Get Target for 2 (Train)\n",
    "ds_train_knn_age_train_X = ds_train_knn_age_train # Get Features for 2 (Train)\n",
    "ds_train_knn_age_test.drop(['Age'],inplace=True,axis=1) # Drop Age from 1 (Test)\n",
    "ds_train_knn_age_train_survived = ds_train_knn_age_train.pop('Survived') # Removing Actual Target variable as we don't want that\n",
    "ds_train_knn_age_test_survived = ds_train_knn_age_test.pop('Survived')  # it should effect Age\n",
    "\n",
    "# Using KNN to Immute\n",
    "knn = KNeighborsRegressor()\n",
    "knn.fit(ds_train_knn_age_train_X,ds_train_knn_age_train_y)\n",
    "\n",
    "ds_train_knn_age_test['Age'] = knn.predict(ds_train_knn_age_test) # Immuting Age Values in Test from KNN\n",
    "ds_train_knn_age_train_X['Age'] = ds_train_knn_age_train_y  # Add Age Back in 2 (Train)\n",
    "ds_train_knn_age_train_X['Survived'] = ds_train_knn_age_train_survived # Adding Actual target vars again\n",
    "ds_train_knn_age_test['Survived']  = ds_train_knn_age_test_survived\n",
    "ds_train_knn_full = pd.concat([ds_train_knn_age_train_X,ds_train_knn_age_test],axis=0) # Concatenating 1 and 2 horizontally\n",
    "\n",
    "# Splitting Target and Feature vars\n",
    "ds_train_knn_y = ds_train_knn_full.pop('Survived')\n",
    "ds_train_knn_X = ds_train_knn_full"
   ]
  },
  {
   "cell_type": "code",
   "execution_count": 14,
   "metadata": {
    "ExecuteTime": {
     "end_time": "2020-07-09T11:06:47.008388Z",
     "start_time": "2020-07-09T11:06:46.693276Z"
    }
   },
   "outputs": [
    {
     "data": {
      "text/html": [
       "<div>\n",
       "<style scoped>\n",
       "    .dataframe tbody tr th:only-of-type {\n",
       "        vertical-align: middle;\n",
       "    }\n",
       "\n",
       "    .dataframe tbody tr th {\n",
       "        vertical-align: top;\n",
       "    }\n",
       "\n",
       "    .dataframe thead th {\n",
       "        text-align: right;\n",
       "    }\n",
       "</style>\n",
       "<table border=\"1\" class=\"dataframe\">\n",
       "  <thead>\n",
       "    <tr style=\"text-align: right;\">\n",
       "      <th></th>\n",
       "      <th>Pclass</th>\n",
       "      <th>SibSp</th>\n",
       "      <th>Parch</th>\n",
       "      <th>Fare</th>\n",
       "      <th>Sex_male</th>\n",
       "      <th>Embarked_Q</th>\n",
       "      <th>Embarked_S</th>\n",
       "      <th>Age</th>\n",
       "    </tr>\n",
       "  </thead>\n",
       "  <tbody>\n",
       "    <tr>\n",
       "      <th>0</th>\n",
       "      <td>3</td>\n",
       "      <td>1</td>\n",
       "      <td>0</td>\n",
       "      <td>7.2500</td>\n",
       "      <td>1</td>\n",
       "      <td>0</td>\n",
       "      <td>1</td>\n",
       "      <td>22.0</td>\n",
       "    </tr>\n",
       "    <tr>\n",
       "      <th>1</th>\n",
       "      <td>1</td>\n",
       "      <td>1</td>\n",
       "      <td>0</td>\n",
       "      <td>71.2833</td>\n",
       "      <td>0</td>\n",
       "      <td>0</td>\n",
       "      <td>0</td>\n",
       "      <td>38.0</td>\n",
       "    </tr>\n",
       "    <tr>\n",
       "      <th>2</th>\n",
       "      <td>3</td>\n",
       "      <td>0</td>\n",
       "      <td>0</td>\n",
       "      <td>7.9250</td>\n",
       "      <td>0</td>\n",
       "      <td>0</td>\n",
       "      <td>1</td>\n",
       "      <td>26.0</td>\n",
       "    </tr>\n",
       "    <tr>\n",
       "      <th>3</th>\n",
       "      <td>1</td>\n",
       "      <td>1</td>\n",
       "      <td>0</td>\n",
       "      <td>53.1000</td>\n",
       "      <td>0</td>\n",
       "      <td>0</td>\n",
       "      <td>1</td>\n",
       "      <td>35.0</td>\n",
       "    </tr>\n",
       "    <tr>\n",
       "      <th>4</th>\n",
       "      <td>3</td>\n",
       "      <td>0</td>\n",
       "      <td>0</td>\n",
       "      <td>8.0500</td>\n",
       "      <td>1</td>\n",
       "      <td>0</td>\n",
       "      <td>1</td>\n",
       "      <td>35.0</td>\n",
       "    </tr>\n",
       "  </tbody>\n",
       "</table>\n",
       "</div>"
      ],
      "text/plain": [
       "   Pclass  SibSp  Parch     Fare  Sex_male  Embarked_Q  Embarked_S   Age\n",
       "0       3      1      0   7.2500         1           0           1  22.0\n",
       "1       1      1      0  71.2833         0           0           0  38.0\n",
       "2       3      0      0   7.9250         0           0           1  26.0\n",
       "3       1      1      0  53.1000         0           0           1  35.0\n",
       "4       3      0      0   8.0500         1           0           1  35.0"
      ]
     },
     "execution_count": 14,
     "metadata": {},
     "output_type": "execute_result"
    }
   ],
   "source": [
    "ds_train_knn_X.head()"
   ]
  },
  {
   "cell_type": "code",
   "execution_count": 15,
   "metadata": {
    "ExecuteTime": {
     "end_time": "2020-07-10T10:20:26.855097Z",
     "start_time": "2020-07-10T10:20:26.783089Z"
    }
   },
   "outputs": [],
   "source": [
    "ds_test_knn_age_test = ds_test_knn[ds_test_knn['Age'].isnull()] # Get all the rows having Null Values - 1 (Test)\n",
    "ds_test_knn_age_train = ds_test_knn.dropna() # Get all the rows having Non-Null Values - 2 (Train)\n",
    "ds_test_knn_age_train_y = ds_test_knn_age_train.pop('Age') # Get Target for 2 (Train)\n",
    "ds_test_knn_age_train_X = ds_test_knn_age_train # Get Features for 2 (Train)\n",
    "ds_test_knn_age_test.drop(['Age'],inplace=True,axis=1) # Drop Age from 1 (Test)\n",
    "\n",
    "# Using KNN to Immute\n",
    "knn = KNeighborsRegressor()\n",
    "knn.fit(ds_test_knn_age_train_X,ds_test_knn_age_train_y)\n",
    "\n",
    "ds_test_knn_age_test['Age'] = knn.predict(ds_test_knn_age_test) # Immuting Age Values in Test from KNN\n",
    "ds_test_knn_age_train_X['Age'] = ds_test_knn_age_train_y  # Add Age Back in 2 (Train)\n",
    "ds_test_knn = pd.concat([ds_test_knn_age_train_X,ds_test_knn_age_test],axis=0) # Concatenating 1 and 2 horizontally"
   ]
  },
  {
   "cell_type": "code",
   "execution_count": 16,
   "metadata": {
    "ExecuteTime": {
     "end_time": "2020-07-09T11:06:53.870460Z",
     "start_time": "2020-07-09T11:06:53.830433Z"
    }
   },
   "outputs": [
    {
     "data": {
      "text/html": [
       "<div>\n",
       "<style scoped>\n",
       "    .dataframe tbody tr th:only-of-type {\n",
       "        vertical-align: middle;\n",
       "    }\n",
       "\n",
       "    .dataframe tbody tr th {\n",
       "        vertical-align: top;\n",
       "    }\n",
       "\n",
       "    .dataframe thead th {\n",
       "        text-align: right;\n",
       "    }\n",
       "</style>\n",
       "<table border=\"1\" class=\"dataframe\">\n",
       "  <thead>\n",
       "    <tr style=\"text-align: right;\">\n",
       "      <th></th>\n",
       "      <th>Pclass</th>\n",
       "      <th>SibSp</th>\n",
       "      <th>Parch</th>\n",
       "      <th>Fare</th>\n",
       "      <th>Sex_male</th>\n",
       "      <th>Embarked_Q</th>\n",
       "      <th>Embarked_S</th>\n",
       "      <th>Age</th>\n",
       "    </tr>\n",
       "  </thead>\n",
       "  <tbody>\n",
       "    <tr>\n",
       "      <th>0</th>\n",
       "      <td>3</td>\n",
       "      <td>0</td>\n",
       "      <td>0</td>\n",
       "      <td>7.8292</td>\n",
       "      <td>1</td>\n",
       "      <td>1</td>\n",
       "      <td>0</td>\n",
       "      <td>34.5</td>\n",
       "    </tr>\n",
       "    <tr>\n",
       "      <th>1</th>\n",
       "      <td>3</td>\n",
       "      <td>1</td>\n",
       "      <td>0</td>\n",
       "      <td>7.0000</td>\n",
       "      <td>0</td>\n",
       "      <td>0</td>\n",
       "      <td>1</td>\n",
       "      <td>47.0</td>\n",
       "    </tr>\n",
       "    <tr>\n",
       "      <th>2</th>\n",
       "      <td>2</td>\n",
       "      <td>0</td>\n",
       "      <td>0</td>\n",
       "      <td>9.6875</td>\n",
       "      <td>1</td>\n",
       "      <td>1</td>\n",
       "      <td>0</td>\n",
       "      <td>62.0</td>\n",
       "    </tr>\n",
       "    <tr>\n",
       "      <th>3</th>\n",
       "      <td>3</td>\n",
       "      <td>0</td>\n",
       "      <td>0</td>\n",
       "      <td>8.6625</td>\n",
       "      <td>1</td>\n",
       "      <td>0</td>\n",
       "      <td>1</td>\n",
       "      <td>27.0</td>\n",
       "    </tr>\n",
       "    <tr>\n",
       "      <th>4</th>\n",
       "      <td>3</td>\n",
       "      <td>1</td>\n",
       "      <td>1</td>\n",
       "      <td>12.2875</td>\n",
       "      <td>0</td>\n",
       "      <td>0</td>\n",
       "      <td>1</td>\n",
       "      <td>22.0</td>\n",
       "    </tr>\n",
       "  </tbody>\n",
       "</table>\n",
       "</div>"
      ],
      "text/plain": [
       "   Pclass  SibSp  Parch     Fare  Sex_male  Embarked_Q  Embarked_S   Age\n",
       "0       3      0      0   7.8292         1           1           0  34.5\n",
       "1       3      1      0   7.0000         0           0           1  47.0\n",
       "2       2      0      0   9.6875         1           1           0  62.0\n",
       "3       3      0      0   8.6625         1           0           1  27.0\n",
       "4       3      1      1  12.2875         0           0           1  22.0"
      ]
     },
     "execution_count": 16,
     "metadata": {},
     "output_type": "execute_result"
    }
   ],
   "source": [
    "ds_test_knn.head()"
   ]
  },
  {
   "cell_type": "markdown",
   "metadata": {
    "ExecuteTime": {
     "end_time": "2020-07-08T12:50:28.111509Z",
     "start_time": "2020-07-08T12:50:28.079511Z"
    }
   },
   "source": [
    "<hr style=\"border:2px solid gray\"> </hr>"
   ]
  },
  {
   "cell_type": "markdown",
   "metadata": {},
   "source": [
    "## 5. Train Test Split\n",
    "1. KNN\n",
    "   * Train Data Set      : **X_train_knn,y_train_knn**\n",
    "   * Test Data Set       : **X_test_knn,y_test_knn**\n",
    "   * Validation Data Set : **ds_test_knn**\n",
    "2. Median\n",
    "   * Train Data Set      : **X_train_median,y_train_median**\n",
    "   * Test Data Set       : **X_test_median,y_test_median**\n",
    "   * Validation Data Set : **ds_test_median**"
   ]
  },
  {
   "cell_type": "code",
   "execution_count": 17,
   "metadata": {
    "ExecuteTime": {
     "end_time": "2020-07-09T11:06:59.178811Z",
     "start_time": "2020-07-09T11:06:59.152792Z"
    }
   },
   "outputs": [],
   "source": [
    "X_train_knn,X_test_knn,y_train_knn,y_test_knn = train_test_split(ds_train_knn_X,ds_train_knn_y,test_size=0.2,random_state=7)\n",
    "X_train_median,X_test_median,y_train_median,y_test_median = train_test_split(ds_train_median_X,ds_train_median_y,test_size=0.2,random_state=7)"
   ]
  },
  {
   "cell_type": "markdown",
   "metadata": {
    "ExecuteTime": {
     "end_time": "2020-07-08T17:15:10.344202Z",
     "start_time": "2020-07-08T17:15:10.328201Z"
    }
   },
   "source": [
    "## 6. Model Selection\n",
    "* RandomForestClassifier\n",
    "* Adaboost\n",
    "* SVC\n",
    "\n",
    "`We will be implementing these 3 models for 2 datasets, KNN one and median one`"
   ]
  },
  {
   "cell_type": "markdown",
   "metadata": {},
   "source": [
    "**For Median Dataset**"
   ]
  },
  {
   "cell_type": "code",
   "execution_count": 16,
   "metadata": {
    "ExecuteTime": {
     "end_time": "2020-07-10T10:21:09.171695Z",
     "start_time": "2020-07-10T10:21:09.131693Z"
    }
   },
   "outputs": [],
   "source": [
    "folds = KFold(n_splits=5,shuffle=True,random_state=7)\n",
    "\n",
    "#1. RandomForestClassifier\n",
    "###################################################################################\n",
    "\n",
    "rf = RandomForestClassifier()\n",
    "hyper_params_rf = [{\n",
    "    'n_estimators':[10,50,100,500]\n",
    "}]\n",
    "model_rf = GridSearchCV(estimator=rf,\n",
    "                       param_grid = hyper_params_rf,\n",
    "                       scoring ='accuracy',\n",
    "                       cv = folds,\n",
    "                       verbose=1,\n",
    "                       return_train_score=True,\n",
    "                       n_jobs=16)\n",
    "#########################################################################################\n",
    "\n",
    "#2 AdaBoost\n",
    "#########################################################################################\n",
    "\n",
    "abc = AdaBoostClassifier()\n",
    "hyper_params_abc = [{\n",
    "    'learning_rate': [0.3,0.6,0.75,1.0]\n",
    "}]\n",
    "model_abc = GridSearchCV(estimator=abc,\n",
    "                       param_grid = hyper_params_abc,\n",
    "                       scoring ='accuracy',\n",
    "                       cv = folds,\n",
    "                       verbose=1,\n",
    "                       return_train_score=True,\n",
    "                       n_jobs=16)\n",
    "#########################################################################################\n",
    "\n",
    "\n",
    "#3 SVM\n",
    "#########################################################################################\n",
    "\n",
    "scm = SVC()\n",
    "hyper_params_scm = [{\n",
    "    'C':[0.1,1,10,100]\n",
    "}]\n",
    "model_scm = GridSearchCV(estimator=scm,\n",
    "                       param_grid = hyper_params_scm,\n",
    "                       scoring ='accuracy',\n",
    "                       cv = folds,\n",
    "                       verbose=1,\n",
    "                       return_train_score=True,\n",
    "                       n_jobs=16)\n",
    "#########################################################################################"
   ]
  },
  {
   "cell_type": "code",
   "execution_count": 19,
   "metadata": {
    "ExecuteTime": {
     "end_time": "2020-07-09T11:08:01.323847Z",
     "start_time": "2020-07-09T11:07:27.256174Z"
    },
    "collapsed": true
   },
   "outputs": [
    {
     "name": "stdout",
     "output_type": "stream",
     "text": [
      "Fitting 5 folds for each of 4 candidates, totalling 20 fits\n"
     ]
    },
    {
     "name": "stderr",
     "output_type": "stream",
     "text": [
      "[Parallel(n_jobs=16)]: Using backend LokyBackend with 16 concurrent workers.\n",
      "[Parallel(n_jobs=16)]: Done  10 out of  20 | elapsed:   17.7s remaining:   17.7s\n",
      "[Parallel(n_jobs=16)]: Done  20 out of  20 | elapsed:   21.5s finished\n"
     ]
    },
    {
     "name": "stdout",
     "output_type": "stream",
     "text": [
      "Fitting 5 folds for each of 4 candidates, totalling 20 fits\n"
     ]
    },
    {
     "name": "stderr",
     "output_type": "stream",
     "text": [
      "[Parallel(n_jobs=16)]: Using backend LokyBackend with 16 concurrent workers.\n",
      "[Parallel(n_jobs=16)]: Done  10 out of  20 | elapsed:    5.9s remaining:    5.9s\n",
      "[Parallel(n_jobs=16)]: Done  20 out of  20 | elapsed:    6.0s finished\n"
     ]
    },
    {
     "name": "stdout",
     "output_type": "stream",
     "text": [
      "Fitting 5 folds for each of 4 candidates, totalling 20 fits\n"
     ]
    },
    {
     "name": "stderr",
     "output_type": "stream",
     "text": [
      "[Parallel(n_jobs=16)]: Using backend LokyBackend with 16 concurrent workers.\n",
      "[Parallel(n_jobs=16)]: Done  10 out of  20 | elapsed:    2.4s remaining:    2.4s\n",
      "[Parallel(n_jobs=16)]: Done  20 out of  20 | elapsed:    2.5s finished\n"
     ]
    },
    {
     "data": {
      "text/plain": [
       "GridSearchCV(cv=KFold(n_splits=5, random_state=7, shuffle=True),\n",
       "             error_score=nan,\n",
       "             estimator=SVC(C=1.0, break_ties=False, cache_size=200,\n",
       "                           class_weight=None, coef0=0.0,\n",
       "                           decision_function_shape='ovr', degree=3,\n",
       "                           gamma='scale', kernel='rbf', max_iter=-1,\n",
       "                           probability=False, random_state=None, shrinking=True,\n",
       "                           tol=0.001, verbose=False),\n",
       "             iid='deprecated', n_jobs=16, param_grid=[{'C': [0.1, 1, 10, 100]}],\n",
       "             pre_dispatch='2*n_jobs', refit=True, return_train_score=True,\n",
       "             scoring='accuracy', verbose=1)"
      ]
     },
     "execution_count": 19,
     "metadata": {},
     "output_type": "execute_result"
    }
   ],
   "source": [
    "model_rf.fit(X_train_median,y_train_median)\n",
    "model_abc.fit(X_train_median,y_train_median)\n",
    "model_scm.fit(X_train_median,y_train_median)"
   ]
  },
  {
   "cell_type": "code",
   "execution_count": 20,
   "metadata": {
    "ExecuteTime": {
     "end_time": "2020-07-09T11:11:00.027268Z",
     "start_time": "2020-07-09T11:11:00.003263Z"
    }
   },
   "outputs": [
    {
     "name": "stdout",
     "output_type": "stream",
     "text": [
      "0.821619225844578\n",
      "{'n_estimators': 50}\n",
      "0.8272727272727274\n",
      "{'learning_rate': 0.3}\n",
      "0.8117994681374963\n",
      "{'C': 100}\n"
     ]
    }
   ],
   "source": [
    "print(model_rf.best_score_)\n",
    "print(model_rf.best_params_)\n",
    "print(model_abc.best_score_)\n",
    "print(model_abc.best_params_)\n",
    "print(model_scm.best_score_)\n",
    "print(model_scm.best_params_)"
   ]
  },
  {
   "cell_type": "code",
   "execution_count": 21,
   "metadata": {
    "ExecuteTime": {
     "end_time": "2020-07-09T11:13:10.618136Z",
     "start_time": "2020-07-09T11:13:10.602133Z"
    }
   },
   "outputs": [],
   "source": [
    "rf_median = RandomForestClassifier(n_estimators=50)\n",
    "abc_median = AdaBoostClassifier(learning_rate=0.3)\n",
    "scm_median = SVC(C=100)"
   ]
  },
  {
   "cell_type": "code",
   "execution_count": 22,
   "metadata": {
    "ExecuteTime": {
     "end_time": "2020-07-09T11:14:10.510540Z",
     "start_time": "2020-07-09T11:13:48.503780Z"
    }
   },
   "outputs": [
    {
     "name": "stdout",
     "output_type": "stream",
     "text": [
      "Fitting 5 folds for each of 4 candidates, totalling 20 fits\n"
     ]
    },
    {
     "name": "stderr",
     "output_type": "stream",
     "text": [
      "[Parallel(n_jobs=16)]: Using backend LokyBackend with 16 concurrent workers.\n",
      "[Parallel(n_jobs=16)]: Done  10 out of  20 | elapsed:   13.7s remaining:   13.7s\n",
      "[Parallel(n_jobs=16)]: Done  20 out of  20 | elapsed:   18.1s finished\n"
     ]
    },
    {
     "name": "stdout",
     "output_type": "stream",
     "text": [
      "Fitting 5 folds for each of 4 candidates, totalling 20 fits\n"
     ]
    },
    {
     "name": "stderr",
     "output_type": "stream",
     "text": [
      "[Parallel(n_jobs=16)]: Using backend LokyBackend with 16 concurrent workers.\n",
      "[Parallel(n_jobs=16)]: Done  10 out of  20 | elapsed:    2.3s remaining:    2.3s\n",
      "[Parallel(n_jobs=16)]: Done  20 out of  20 | elapsed:    2.4s finished\n"
     ]
    },
    {
     "name": "stdout",
     "output_type": "stream",
     "text": [
      "Fitting 5 folds for each of 4 candidates, totalling 20 fits\n"
     ]
    },
    {
     "name": "stderr",
     "output_type": "stream",
     "text": [
      "[Parallel(n_jobs=16)]: Using backend LokyBackend with 16 concurrent workers.\n",
      "[Parallel(n_jobs=16)]: Done  10 out of  20 | elapsed:    0.3s remaining:    0.3s\n",
      "[Parallel(n_jobs=16)]: Done  20 out of  20 | elapsed:    0.4s finished\n"
     ]
    },
    {
     "data": {
      "text/plain": [
       "GridSearchCV(cv=KFold(n_splits=5, random_state=7, shuffle=True),\n",
       "             error_score=nan,\n",
       "             estimator=SVC(C=1.0, break_ties=False, cache_size=200,\n",
       "                           class_weight=None, coef0=0.0,\n",
       "                           decision_function_shape='ovr', degree=3,\n",
       "                           gamma='scale', kernel='rbf', max_iter=-1,\n",
       "                           probability=False, random_state=None, shrinking=True,\n",
       "                           tol=0.001, verbose=False),\n",
       "             iid='deprecated', n_jobs=16, param_grid=[{'C': [0.1, 1, 10, 100]}],\n",
       "             pre_dispatch='2*n_jobs', refit=True, return_train_score=True,\n",
       "             scoring='accuracy', verbose=1)"
      ]
     },
     "execution_count": 22,
     "metadata": {},
     "output_type": "execute_result"
    }
   ],
   "source": [
    "model_rf.fit(X_train_knn,y_train_knn)\n",
    "model_abc.fit(X_train_knn,y_train_knn)\n",
    "model_scm.fit(X_train_knn,y_train_knn)"
   ]
  },
  {
   "cell_type": "code",
   "execution_count": 23,
   "metadata": {
    "ExecuteTime": {
     "end_time": "2020-07-09T11:14:16.991039Z",
     "start_time": "2020-07-09T11:14:16.975042Z"
    }
   },
   "outputs": [
    {
     "name": "stdout",
     "output_type": "stream",
     "text": [
      "0.794907908992416\n",
      "{'n_estimators': 50}\n",
      "0.8075642667191962\n",
      "{'learning_rate': 0.6}\n",
      "0.7837781936373486\n",
      "{'C': 100}\n"
     ]
    }
   ],
   "source": [
    "print(model_rf.best_score_)\n",
    "print(model_rf.best_params_)\n",
    "print(model_abc.best_score_)\n",
    "print(model_abc.best_params_)\n",
    "print(model_scm.best_score_)\n",
    "print(model_scm.best_params_)"
   ]
  },
  {
   "cell_type": "code",
   "execution_count": 24,
   "metadata": {
    "ExecuteTime": {
     "end_time": "2020-07-09T11:15:02.117525Z",
     "start_time": "2020-07-09T11:15:02.101522Z"
    }
   },
   "outputs": [],
   "source": [
    "rf_knn = RandomForestClassifier(n_estimators=50)\n",
    "abc_knn = AdaBoostClassifier(learning_rate=0.6)\n",
    "scm_knn = SVC(C=100)"
   ]
  },
  {
   "cell_type": "code",
   "execution_count": 25,
   "metadata": {
    "ExecuteTime": {
     "end_time": "2020-07-09T11:17:31.180141Z",
     "start_time": "2020-07-09T11:17:29.882612Z"
    }
   },
   "outputs": [
    {
     "data": {
      "text/plain": [
       "SVC(C=100, break_ties=False, cache_size=200, class_weight=None, coef0=0.0,\n",
       "    decision_function_shape='ovr', degree=3, gamma='scale', kernel='rbf',\n",
       "    max_iter=-1, probability=False, random_state=None, shrinking=True,\n",
       "    tol=0.001, verbose=False)"
      ]
     },
     "execution_count": 25,
     "metadata": {},
     "output_type": "execute_result"
    }
   ],
   "source": [
    "rf_knn.fit(X_train_knn,y_train_knn)\n",
    "abc_knn.fit(X_train_knn,y_train_knn)\n",
    "scm_knn.fit(X_train_knn,y_train_knn)\n",
    "rf_median.fit(X_train_median,y_train_median)\n",
    "abc_median.fit(X_train_median,y_train_median)\n",
    "scm_median.fit(X_train_median,y_train_median)"
   ]
  },
  {
   "cell_type": "code",
   "execution_count": 34,
   "metadata": {
    "ExecuteTime": {
     "end_time": "2020-07-09T11:28:38.718162Z",
     "start_time": "2020-07-09T11:28:38.542127Z"
    }
   },
   "outputs": [],
   "source": [
    "rf_knn_predict = rf_knn.predict(X_test_knn)\n",
    "abc_knn_predict = abc_knn.predict(X_test_knn)\n",
    "scm_knn_predict = scm_knn.predict(X_test_knn)\n",
    "rf_median_predict = rf_median.predict(X_test_median)\n",
    "abc_median_predict = abc_median.predict(X_test_median)\n",
    "scm_median_predict = scm_median.predict(X_test_median)"
   ]
  },
  {
   "cell_type": "code",
   "execution_count": 36,
   "metadata": {
    "ExecuteTime": {
     "end_time": "2020-07-09T11:28:55.657136Z",
     "start_time": "2020-07-09T11:28:55.433052Z"
    }
   },
   "outputs": [],
   "source": [
    "rf_knn_predict_train = rf_knn.predict(X_train_knn)\n",
    "abc_knn_predict_train = abc_knn.predict(X_train_knn)\n",
    "scm_knn_predict_train = scm_knn.predict(X_train_knn)\n",
    "rf_median_predict_train = rf_median.predict(X_train_median)\n",
    "abc_median_predict_train = abc_median.predict(X_train_median)\n",
    "scm_median_predict_train = scm_median.predict(X_train_median)"
   ]
  },
  {
   "cell_type": "code",
   "execution_count": 37,
   "metadata": {
    "ExecuteTime": {
     "end_time": "2020-07-09T11:28:58.460238Z",
     "start_time": "2020-07-09T11:28:58.428239Z"
    },
    "scrolled": true
   },
   "outputs": [
    {
     "name": "stdout",
     "output_type": "stream",
     "text": [
      "0.8435754189944135  0.9887640449438202\n",
      "0.8324022346368715  0.8230337078651685\n",
      "0.8100558659217877  0.8019662921348315\n"
     ]
    }
   ],
   "source": [
    "print(metrics.accuracy_score(y_test_knn,rf_knn_predict),end = '  ')\n",
    "print(metrics.accuracy_score(y_train_knn,rf_knn_predict_train))\n",
    "print(metrics.accuracy_score(y_test_knn,abc_knn_predict),end = '  ')\n",
    "print(metrics.accuracy_score(y_train_knn,abc_knn_predict_train))\n",
    "print(metrics.accuracy_score(y_test_knn,scm_knn_predict),end = '  ')\n",
    "print(metrics.accuracy_score(y_train_knn,scm_knn_predict_train))"
   ]
  },
  {
   "cell_type": "code",
   "execution_count": 38,
   "metadata": {
    "ExecuteTime": {
     "end_time": "2020-07-09T11:29:46.828422Z",
     "start_time": "2020-07-09T11:29:46.796427Z"
    }
   },
   "outputs": [
    {
     "name": "stdout",
     "output_type": "stream",
     "text": [
      "0.7932960893854749  0.9775280898876404\n",
      "0.7486033519553073  0.8314606741573034\n",
      "0.7430167597765364  0.8188202247191011\n"
     ]
    }
   ],
   "source": [
    "print(metrics.accuracy_score(y_test_median,rf_median_predict),end = '  ')\n",
    "print(metrics.accuracy_score(y_train_median,rf_median_predict_train))\n",
    "print(metrics.accuracy_score(y_test_median,abc_median_predict),end = '  ')\n",
    "print(metrics.accuracy_score(y_train_median,abc_median_predict_train))\n",
    "print(metrics.accuracy_score(y_test_median,scm_median_predict),end = '  ')\n",
    "print(metrics.accuracy_score(y_train_median,scm_median_predict_train))"
   ]
  },
  {
   "cell_type": "code",
   "execution_count": 21,
   "metadata": {
    "ExecuteTime": {
     "end_time": "2020-07-10T10:25:16.251585Z",
     "start_time": "2020-07-10T10:25:16.235591Z"
    }
   },
   "outputs": [],
   "source": [
    "output = pd.DataFrame()"
   ]
  },
  {
   "cell_type": "code",
   "execution_count": 22,
   "metadata": {
    "ExecuteTime": {
     "end_time": "2020-07-10T10:25:18.187628Z",
     "start_time": "2020-07-10T10:25:18.091626Z"
    }
   },
   "outputs": [],
   "source": [
    "output['PassengerId']  = test['PassengerId']"
   ]
  },
  {
   "cell_type": "code",
   "execution_count": 53,
   "metadata": {
    "ExecuteTime": {
     "end_time": "2020-07-09T11:57:24.317002Z",
     "start_time": "2020-07-09T11:57:24.260997Z"
    }
   },
   "outputs": [],
   "source": [
    "output['Survived'] = abc_knn.predict(ds_test_knn)"
   ]
  },
  {
   "cell_type": "code",
   "execution_count": 57,
   "metadata": {
    "ExecuteTime": {
     "end_time": "2020-07-09T11:58:02.002129Z",
     "start_time": "2020-07-09T11:58:01.970128Z"
    }
   },
   "outputs": [
    {
     "data": {
      "text/html": [
       "<div>\n",
       "<style scoped>\n",
       "    .dataframe tbody tr th:only-of-type {\n",
       "        vertical-align: middle;\n",
       "    }\n",
       "\n",
       "    .dataframe tbody tr th {\n",
       "        vertical-align: top;\n",
       "    }\n",
       "\n",
       "    .dataframe thead th {\n",
       "        text-align: right;\n",
       "    }\n",
       "</style>\n",
       "<table border=\"1\" class=\"dataframe\">\n",
       "  <thead>\n",
       "    <tr style=\"text-align: right;\">\n",
       "      <th></th>\n",
       "      <th>PassengerId</th>\n",
       "      <th>Survived</th>\n",
       "    </tr>\n",
       "  </thead>\n",
       "  <tbody>\n",
       "    <tr>\n",
       "      <th>0</th>\n",
       "      <td>892</td>\n",
       "      <td>0</td>\n",
       "    </tr>\n",
       "    <tr>\n",
       "      <th>1</th>\n",
       "      <td>893</td>\n",
       "      <td>0</td>\n",
       "    </tr>\n",
       "    <tr>\n",
       "      <th>2</th>\n",
       "      <td>894</td>\n",
       "      <td>0</td>\n",
       "    </tr>\n",
       "    <tr>\n",
       "      <th>3</th>\n",
       "      <td>895</td>\n",
       "      <td>0</td>\n",
       "    </tr>\n",
       "    <tr>\n",
       "      <th>4</th>\n",
       "      <td>896</td>\n",
       "      <td>1</td>\n",
       "    </tr>\n",
       "  </tbody>\n",
       "</table>\n",
       "</div>"
      ],
      "text/plain": [
       "   PassengerId  Survived\n",
       "0          892         0\n",
       "1          893         0\n",
       "2          894         0\n",
       "3          895         0\n",
       "4          896         1"
      ]
     },
     "execution_count": 57,
     "metadata": {},
     "output_type": "execute_result"
    }
   ],
   "source": [
    "output.head()"
   ]
  },
  {
   "cell_type": "code",
   "execution_count": 58,
   "metadata": {
    "ExecuteTime": {
     "end_time": "2020-07-09T11:58:09.668055Z",
     "start_time": "2020-07-09T11:58:09.644045Z"
    }
   },
   "outputs": [],
   "source": [
    "output.to_csv('abcknn_output.csv',index=False)"
   ]
  },
  {
   "cell_type": "code",
   "execution_count": 59,
   "metadata": {
    "ExecuteTime": {
     "end_time": "2020-07-09T12:04:47.145022Z",
     "start_time": "2020-07-09T12:04:46.913015Z"
    }
   },
   "outputs": [],
   "source": [
    "output['Survived'] = rf_median.predict(ds_test_knn)\n",
    "output.to_csv('rfm_output.csv',index=False)\n",
    "output['Survived'] = abc_median.predict(ds_test_knn)\n",
    "output.to_csv('abcm_output.csv',index=False)\n",
    "output['Survived'] = scm_median.predict(ds_test_knn)\n",
    "output.to_csv('scmm_output.csv',index=False)\n",
    "output['Survived'] = rf_knn.predict(ds_test_knn)\n",
    "output.to_csv('rfknn_output.csv',index=False)\n",
    "output['Survived'] = scm_knn.predict(ds_test_knn)\n",
    "output.to_csv('scmknn_output.csv',index=False)"
   ]
  },
  {
   "cell_type": "markdown",
   "metadata": {
    "ExecuteTime": {
     "end_time": "2020-07-10T10:23:28.054998Z",
     "start_time": "2020-07-10T10:23:04.887880Z"
    }
   },
   "source": [
    "# Improving Accuracy"
   ]
  },
  {
   "cell_type": "code",
   "execution_count": 29,
   "metadata": {
    "ExecuteTime": {
     "end_time": "2020-07-10T10:33:05.081677Z",
     "start_time": "2020-07-10T10:33:05.049677Z"
    }
   },
   "outputs": [],
   "source": [
    "folds = KFold(n_splits=5,shuffle=True,random_state=7)\n",
    "\n",
    "#1. RandomForestClassifier\n",
    "###################################################################################\n",
    "\n",
    "rf = RandomForestClassifier()\n",
    "hyper_params_rf = [{\n",
    "    'n_estimators':[10,50,100,500]\n",
    "}]\n",
    "model_rf = GridSearchCV(estimator=rf,\n",
    "                       param_grid = hyper_params_rf,\n",
    "                       scoring ='accuracy',\n",
    "                       cv = folds,\n",
    "                       verbose=1,\n",
    "                       return_train_score=True,\n",
    "                       n_jobs=16)\n",
    "#########################################################################################\n",
    "\n",
    "#2 AdaBoost\n",
    "#########################################################################################\n",
    "\n",
    "abc = AdaBoostClassifier()\n",
    "hyper_params_abc = [{\n",
    "    'learning_rate': [0.3,0.6,0.75,1.0]\n",
    "}]\n",
    "model_abc = GridSearchCV(estimator=abc,\n",
    "                       param_grid = hyper_params_abc,\n",
    "                       scoring ='accuracy',\n",
    "                       cv = folds,\n",
    "                       verbose=1,\n",
    "                       return_train_score=True,\n",
    "                       n_jobs=16)\n",
    "#########################################################################################\n",
    "\n",
    "\n",
    "#3 SVM\n",
    "#########################################################################################\n",
    "\n",
    "scm = SVC()\n",
    "hyper_params_scm = [{\n",
    "    'C':[0.1,1,10,100]\n",
    "}]\n",
    "model_scm = GridSearchCV(estimator=scm,\n",
    "                       param_grid = hyper_params_scm,\n",
    "                       scoring ='accuracy',\n",
    "                       cv = folds,\n",
    "                       verbose=1,\n",
    "                       return_train_score=True,\n",
    "                       n_jobs=16)\n",
    "#########################################################################################"
   ]
  },
  {
   "cell_type": "code",
   "execution_count": 30,
   "metadata": {
    "ExecuteTime": {
     "end_time": "2020-07-10T10:34:51.690779Z",
     "start_time": "2020-07-10T10:34:27.618740Z"
    }
   },
   "outputs": [
    {
     "name": "stdout",
     "output_type": "stream",
     "text": [
      "Fitting 5 folds for each of 4 candidates, totalling 20 fits\n"
     ]
    },
    {
     "name": "stderr",
     "output_type": "stream",
     "text": [
      "[Parallel(n_jobs=16)]: Using backend LokyBackend with 16 concurrent workers.\n",
      "[Parallel(n_jobs=16)]: Done  10 out of  20 | elapsed:   15.5s remaining:   15.5s\n",
      "[Parallel(n_jobs=16)]: Done  20 out of  20 | elapsed:   19.7s finished\n"
     ]
    },
    {
     "name": "stdout",
     "output_type": "stream",
     "text": [
      "Fitting 5 folds for each of 4 candidates, totalling 20 fits\n"
     ]
    },
    {
     "name": "stderr",
     "output_type": "stream",
     "text": [
      "[Parallel(n_jobs=16)]: Using backend LokyBackend with 16 concurrent workers.\n",
      "[Parallel(n_jobs=16)]: Done  10 out of  20 | elapsed:    2.4s remaining:    2.4s\n",
      "[Parallel(n_jobs=16)]: Done  20 out of  20 | elapsed:    2.6s finished\n"
     ]
    },
    {
     "name": "stdout",
     "output_type": "stream",
     "text": [
      "Fitting 5 folds for each of 4 candidates, totalling 20 fits\n"
     ]
    },
    {
     "name": "stderr",
     "output_type": "stream",
     "text": [
      "[Parallel(n_jobs=16)]: Using backend LokyBackend with 16 concurrent workers.\n",
      "[Parallel(n_jobs=16)]: Done  10 out of  20 | elapsed:    0.6s remaining:    0.6s\n",
      "[Parallel(n_jobs=16)]: Done  20 out of  20 | elapsed:    0.8s finished\n"
     ]
    },
    {
     "data": {
      "text/plain": [
       "GridSearchCV(cv=KFold(n_splits=5, random_state=7, shuffle=True),\n",
       "             error_score=nan,\n",
       "             estimator=SVC(C=1.0, break_ties=False, cache_size=200,\n",
       "                           class_weight=None, coef0=0.0,\n",
       "                           decision_function_shape='ovr', degree=3,\n",
       "                           gamma='scale', kernel='rbf', max_iter=-1,\n",
       "                           probability=False, random_state=None, shrinking=True,\n",
       "                           tol=0.001, verbose=False),\n",
       "             iid='deprecated', n_jobs=16, param_grid=[{'C': [0.1, 1, 10, 100]}],\n",
       "             pre_dispatch='2*n_jobs', refit=True, return_train_score=True,\n",
       "             scoring='accuracy', verbose=1)"
      ]
     },
     "execution_count": 30,
     "metadata": {},
     "output_type": "execute_result"
    }
   ],
   "source": [
    "model_rf.fit(ds_train_median_X,ds_train_median_y)\n",
    "model_abc.fit(ds_train_median_X,ds_train_median_y)\n",
    "model_scm.fit(ds_train_median_X,ds_train_median_y)"
   ]
  },
  {
   "cell_type": "code",
   "execution_count": 31,
   "metadata": {
    "ExecuteTime": {
     "end_time": "2020-07-10T10:37:05.498527Z",
     "start_time": "2020-07-10T10:37:05.474527Z"
    }
   },
   "outputs": [
    {
     "name": "stdout",
     "output_type": "stream",
     "text": [
      "0.8137279517921033\n",
      "{'n_estimators': 50}\n",
      "0.8103822735547046\n",
      "{'learning_rate': 0.75}\n",
      "0.7834348126294646\n",
      "{'C': 100}\n"
     ]
    }
   ],
   "source": [
    "print(model_rf.best_score_)\n",
    "print(model_rf.best_params_)\n",
    "print(model_abc.best_score_)\n",
    "print(model_abc.best_params_)\n",
    "print(model_scm.best_score_)\n",
    "print(model_scm.best_params_)"
   ]
  },
  {
   "cell_type": "code",
   "execution_count": 32,
   "metadata": {
    "ExecuteTime": {
     "end_time": "2020-07-10T10:37:55.028836Z",
     "start_time": "2020-07-10T10:37:55.012834Z"
    }
   },
   "outputs": [],
   "source": [
    "rf_median = RandomForestClassifier(n_estimators=50)\n",
    "abc_median = AdaBoostClassifier(learning_rate=0.3)\n",
    "scm_median = SVC(C=100)"
   ]
  },
  {
   "cell_type": "code",
   "execution_count": 33,
   "metadata": {
    "ExecuteTime": {
     "end_time": "2020-07-10T10:39:31.526482Z",
     "start_time": "2020-07-10T10:39:22.341803Z"
    }
   },
   "outputs": [
    {
     "name": "stdout",
     "output_type": "stream",
     "text": [
      "Fitting 5 folds for each of 4 candidates, totalling 20 fits\n"
     ]
    },
    {
     "name": "stderr",
     "output_type": "stream",
     "text": [
      "[Parallel(n_jobs=16)]: Using backend LokyBackend with 16 concurrent workers.\n",
      "[Parallel(n_jobs=16)]: Done  10 out of  20 | elapsed:    2.3s remaining:    2.3s\n",
      "[Parallel(n_jobs=16)]: Done  20 out of  20 | elapsed:    6.4s finished\n"
     ]
    },
    {
     "name": "stdout",
     "output_type": "stream",
     "text": [
      "Fitting 5 folds for each of 4 candidates, totalling 20 fits\n"
     ]
    },
    {
     "name": "stderr",
     "output_type": "stream",
     "text": [
      "[Parallel(n_jobs=16)]: Using backend LokyBackend with 16 concurrent workers.\n",
      "[Parallel(n_jobs=16)]: Done  10 out of  20 | elapsed:    1.2s remaining:    1.2s\n",
      "[Parallel(n_jobs=16)]: Done  20 out of  20 | elapsed:    1.4s finished\n"
     ]
    },
    {
     "name": "stdout",
     "output_type": "stream",
     "text": [
      "Fitting 5 folds for each of 4 candidates, totalling 20 fits\n"
     ]
    },
    {
     "name": "stderr",
     "output_type": "stream",
     "text": [
      "[Parallel(n_jobs=16)]: Using backend LokyBackend with 16 concurrent workers.\n",
      "[Parallel(n_jobs=16)]: Done  10 out of  20 | elapsed:    0.3s remaining:    0.3s\n",
      "[Parallel(n_jobs=16)]: Done  20 out of  20 | elapsed:    0.4s finished\n"
     ]
    },
    {
     "data": {
      "text/plain": [
       "GridSearchCV(cv=KFold(n_splits=5, random_state=7, shuffle=True),\n",
       "             error_score=nan,\n",
       "             estimator=SVC(C=1.0, break_ties=False, cache_size=200,\n",
       "                           class_weight=None, coef0=0.0,\n",
       "                           decision_function_shape='ovr', degree=3,\n",
       "                           gamma='scale', kernel='rbf', max_iter=-1,\n",
       "                           probability=False, random_state=None, shrinking=True,\n",
       "                           tol=0.001, verbose=False),\n",
       "             iid='deprecated', n_jobs=16, param_grid=[{'C': [0.1, 1, 10, 100]}],\n",
       "             pre_dispatch='2*n_jobs', refit=True, return_train_score=True,\n",
       "             scoring='accuracy', verbose=1)"
      ]
     },
     "execution_count": 33,
     "metadata": {},
     "output_type": "execute_result"
    }
   ],
   "source": [
    "model_rf.fit(ds_train_knn_X,ds_train_knn_y)\n",
    "model_abc.fit(ds_train_knn_X,ds_train_knn_y)\n",
    "model_scm.fit(ds_train_knn_X,ds_train_knn_y)"
   ]
  },
  {
   "cell_type": "code",
   "execution_count": 34,
   "metadata": {
    "ExecuteTime": {
     "end_time": "2020-07-10T10:39:56.581253Z",
     "start_time": "2020-07-10T10:39:56.557262Z"
    }
   },
   "outputs": [
    {
     "name": "stdout",
     "output_type": "stream",
     "text": [
      "0.8102943945766116\n",
      "{'n_estimators': 100}\n",
      "0.8058062896240035\n",
      "{'learning_rate': 0.75}\n",
      "0.7833594877910991\n",
      "{'C': 100}\n"
     ]
    }
   ],
   "source": [
    "print(model_rf.best_score_)\n",
    "print(model_rf.best_params_)\n",
    "print(model_abc.best_score_)\n",
    "print(model_abc.best_params_)\n",
    "print(model_scm.best_score_)\n",
    "print(model_scm.best_params_)"
   ]
  },
  {
   "cell_type": "code",
   "execution_count": 35,
   "metadata": {
    "ExecuteTime": {
     "end_time": "2020-07-10T10:40:59.662388Z",
     "start_time": "2020-07-10T10:40:59.646385Z"
    }
   },
   "outputs": [],
   "source": [
    "rf_knn = RandomForestClassifier(n_estimators=100)\n",
    "abc_knn = AdaBoostClassifier(learning_rate=0.75)\n",
    "scm_knn = SVC(C=100)"
   ]
  },
  {
   "cell_type": "code",
   "execution_count": 37,
   "metadata": {
    "ExecuteTime": {
     "end_time": "2020-07-10T10:42:58.437642Z",
     "start_time": "2020-07-10T10:42:56.505461Z"
    }
   },
   "outputs": [
    {
     "data": {
      "text/plain": [
       "SVC(C=100, break_ties=False, cache_size=200, class_weight=None, coef0=0.0,\n",
       "    decision_function_shape='ovr', degree=3, gamma='scale', kernel='rbf',\n",
       "    max_iter=-1, probability=False, random_state=None, shrinking=True,\n",
       "    tol=0.001, verbose=False)"
      ]
     },
     "execution_count": 37,
     "metadata": {},
     "output_type": "execute_result"
    }
   ],
   "source": [
    "rf_knn.fit(ds_train_knn_X,ds_train_knn_y)\n",
    "abc_knn.fit(ds_train_knn_X,ds_train_knn_y)\n",
    "scm_knn.fit(ds_train_knn_X,ds_train_knn_y)\n",
    "rf_median.fit(ds_train_median_X,ds_train_median_y)\n",
    "abc_median.fit(ds_train_median_X,ds_train_median_y)\n",
    "scm_median.fit(ds_train_median_X,ds_train_median_y)"
   ]
  },
  {
   "cell_type": "code",
   "execution_count": 38,
   "metadata": {
    "ExecuteTime": {
     "end_time": "2020-07-10T10:45:26.697303Z",
     "start_time": "2020-07-10T10:45:26.281291Z"
    }
   },
   "outputs": [],
   "source": [
    "output['Survived'] = rf_median.predict(ds_test_median)\n",
    "output.to_csv('output8.csv',index=False)\n",
    "output['Survived'] = abc_median.predict(ds_test_median)\n",
    "output.to_csv('output9.csv',index=False)\n",
    "output['Survived'] = scm_median.predict(ds_test_median)\n",
    "output.to_csv('output10.csv',index=False)\n",
    "output['Survived'] = rf_knn.predict(ds_test_knn)\n",
    "output.to_csv('output11.csv',index=False)\n",
    "output['Survived'] = scm_knn.predict(ds_test_knn)\n",
    "output.to_csv('output12.csv',index=False)\n",
    "output['Survived'] = abc_knn.predict(ds_test_knn)\n",
    "output.to_csv('output13.csv',index=False)"
   ]
  },
  {
   "cell_type": "code",
   "execution_count": 40,
   "metadata": {
    "ExecuteTime": {
     "end_time": "2020-07-10T10:54:32.662485Z",
     "start_time": "2020-07-10T10:54:32.510482Z"
    }
   },
   "outputs": [],
   "source": [
    "comb = pd.DataFrame()\n",
    "comb['M1'] = rf_median.predict(ds_test_median)\n",
    "comb['M2'] = abc_median.predict(ds_test_median)\n",
    "comb['M3'] = scm_median.predict(ds_test_median)"
   ]
  },
  {
   "cell_type": "code",
   "execution_count": 41,
   "metadata": {
    "ExecuteTime": {
     "end_time": "2020-07-10T10:54:38.140459Z",
     "start_time": "2020-07-10T10:54:38.108458Z"
    }
   },
   "outputs": [
    {
     "data": {
      "text/html": [
       "<div>\n",
       "<style scoped>\n",
       "    .dataframe tbody tr th:only-of-type {\n",
       "        vertical-align: middle;\n",
       "    }\n",
       "\n",
       "    .dataframe tbody tr th {\n",
       "        vertical-align: top;\n",
       "    }\n",
       "\n",
       "    .dataframe thead th {\n",
       "        text-align: right;\n",
       "    }\n",
       "</style>\n",
       "<table border=\"1\" class=\"dataframe\">\n",
       "  <thead>\n",
       "    <tr style=\"text-align: right;\">\n",
       "      <th></th>\n",
       "      <th>M1</th>\n",
       "      <th>M2</th>\n",
       "      <th>M3</th>\n",
       "    </tr>\n",
       "  </thead>\n",
       "  <tbody>\n",
       "    <tr>\n",
       "      <th>0</th>\n",
       "      <td>0</td>\n",
       "      <td>0</td>\n",
       "      <td>0</td>\n",
       "    </tr>\n",
       "    <tr>\n",
       "      <th>1</th>\n",
       "      <td>0</td>\n",
       "      <td>0</td>\n",
       "      <td>1</td>\n",
       "    </tr>\n",
       "    <tr>\n",
       "      <th>2</th>\n",
       "      <td>0</td>\n",
       "      <td>0</td>\n",
       "      <td>0</td>\n",
       "    </tr>\n",
       "    <tr>\n",
       "      <th>3</th>\n",
       "      <td>1</td>\n",
       "      <td>0</td>\n",
       "      <td>0</td>\n",
       "    </tr>\n",
       "    <tr>\n",
       "      <th>4</th>\n",
       "      <td>0</td>\n",
       "      <td>1</td>\n",
       "      <td>1</td>\n",
       "    </tr>\n",
       "  </tbody>\n",
       "</table>\n",
       "</div>"
      ],
      "text/plain": [
       "   M1  M2  M3\n",
       "0   0   0   0\n",
       "1   0   0   1\n",
       "2   0   0   0\n",
       "3   1   0   0\n",
       "4   0   1   1"
      ]
     },
     "execution_count": 41,
     "metadata": {},
     "output_type": "execute_result"
    }
   ],
   "source": [
    "comb.head()"
   ]
  },
  {
   "cell_type": "code",
   "execution_count": 44,
   "metadata": {
    "ExecuteTime": {
     "end_time": "2020-07-10T10:57:09.801859Z",
     "start_time": "2020-07-10T10:57:09.777859Z"
    }
   },
   "outputs": [],
   "source": [
    "comb['Total'] = comb.M1+comb.M2+comb.M3"
   ]
  },
  {
   "cell_type": "code",
   "execution_count": 45,
   "metadata": {
    "ExecuteTime": {
     "end_time": "2020-07-10T10:58:01.698137Z",
     "start_time": "2020-07-10T10:58:01.666136Z"
    }
   },
   "outputs": [],
   "source": [
    "comb['Survived'] = comb['Total'].apply(lambda x:0 if x<2 else 1)"
   ]
  },
  {
   "cell_type": "code",
   "execution_count": 48,
   "metadata": {
    "ExecuteTime": {
     "end_time": "2020-07-10T10:59:08.714803Z",
     "start_time": "2020-07-10T10:59:08.698803Z"
    }
   },
   "outputs": [],
   "source": [
    "comb.drop(['M1','M2','M3','Total'],inplace=True,axis=1)"
   ]
  },
  {
   "cell_type": "code",
   "execution_count": 50,
   "metadata": {
    "ExecuteTime": {
     "end_time": "2020-07-10T10:59:39.408879Z",
     "start_time": "2020-07-10T10:59:39.392883Z"
    }
   },
   "outputs": [],
   "source": [
    "comb['PassengerId'] = output['PassengerId']"
   ]
  },
  {
   "cell_type": "code",
   "execution_count": 52,
   "metadata": {
    "ExecuteTime": {
     "end_time": "2020-07-10T11:01:26.595203Z",
     "start_time": "2020-07-10T11:01:26.555204Z"
    }
   },
   "outputs": [],
   "source": [
    "comb = comb[['PassengerId','Survived']]"
   ]
  },
  {
   "cell_type": "code",
   "execution_count": 54,
   "metadata": {
    "ExecuteTime": {
     "end_time": "2020-07-10T11:02:06.925030Z",
     "start_time": "2020-07-10T11:02:06.901030Z"
    }
   },
   "outputs": [],
   "source": [
    "comb.to_csv('output14.csv',index=False)"
   ]
  },
  {
   "cell_type": "code",
   "execution_count": 56,
   "metadata": {
    "ExecuteTime": {
     "end_time": "2020-07-10T11:06:04.887784Z",
     "start_time": "2020-07-10T11:06:04.871783Z"
    }
   },
   "outputs": [],
   "source": [
    "from sklearn.ensemble import GradientBoostingClassifier"
   ]
  },
  {
   "cell_type": "code",
   "execution_count": 62,
   "metadata": {
    "ExecuteTime": {
     "end_time": "2020-07-10T11:12:07.585949Z",
     "start_time": "2020-07-10T11:12:07.561944Z"
    }
   },
   "outputs": [],
   "source": [
    "gb = GradientBoostingClassifier()\n",
    "hyper_params_gb = [{\n",
    "    'n_estimators':[10,50,100,200,500,1000],\n",
    "    'learning_rate':[0.1,0.3,0.6,0.75],\n",
    "    'min_samples_split':[2,3],\n",
    "    'min_samples_leaf':[1,2]\n",
    "}]\n",
    "model_gb = GridSearchCV(estimator=gb,\n",
    "                       param_grid = hyper_params_gb,\n",
    "                       scoring ='accuracy',\n",
    "                       cv = 2,\n",
    "                       verbose=1,\n",
    "                       return_train_score=True,\n",
    "                       n_jobs=16)"
   ]
  },
  {
   "cell_type": "code",
   "execution_count": 64,
   "metadata": {
    "ExecuteTime": {
     "end_time": "2020-07-10T11:15:20.535289Z",
     "start_time": "2020-07-10T11:14:41.510421Z"
    }
   },
   "outputs": [
    {
     "name": "stdout",
     "output_type": "stream",
     "text": [
      "Fitting 2 folds for each of 96 candidates, totalling 192 fits\n"
     ]
    },
    {
     "name": "stderr",
     "output_type": "stream",
     "text": [
      "[Parallel(n_jobs=16)]: Using backend LokyBackend with 16 concurrent workers.\n",
      "[Parallel(n_jobs=16)]: Done  18 tasks      | elapsed:    3.4s\n",
      "[Parallel(n_jobs=16)]: Done 192 out of 192 | elapsed:   38.2s finished\n"
     ]
    },
    {
     "data": {
      "text/plain": [
       "GridSearchCV(cv=2, error_score=nan,\n",
       "             estimator=GradientBoostingClassifier(ccp_alpha=0.0,\n",
       "                                                  criterion='friedman_mse',\n",
       "                                                  init=None, learning_rate=0.1,\n",
       "                                                  loss='deviance', max_depth=3,\n",
       "                                                  max_features=None,\n",
       "                                                  max_leaf_nodes=None,\n",
       "                                                  min_impurity_decrease=0.0,\n",
       "                                                  min_impurity_split=None,\n",
       "                                                  min_samples_leaf=1,\n",
       "                                                  min_samples_split=2,\n",
       "                                                  min_weight_fraction_leaf=0.0,\n",
       "                                                  n_estimators=100,\n",
       "                                                  n_iter_no_c...\n",
       "                                                  random_state=None,\n",
       "                                                  subsample=1.0, tol=0.0001,\n",
       "                                                  validation_fraction=0.1,\n",
       "                                                  verbose=0, warm_start=False),\n",
       "             iid='deprecated', n_jobs=16,\n",
       "             param_grid=[{'learning_rate': [0.1, 0.3, 0.6, 0.75],\n",
       "                          'min_samples_leaf': [1, 2],\n",
       "                          'min_samples_split': [2, 3],\n",
       "                          'n_estimators': [10, 50, 100, 200, 500, 1000]}],\n",
       "             pre_dispatch='2*n_jobs', refit=True, return_train_score=True,\n",
       "             scoring='accuracy', verbose=1)"
      ]
     },
     "execution_count": 64,
     "metadata": {},
     "output_type": "execute_result"
    }
   ],
   "source": [
    "model_gb.fit(ds_train_median_X,ds_train_median_y)"
   ]
  },
  {
   "cell_type": "code",
   "execution_count": 65,
   "metadata": {
    "ExecuteTime": {
     "end_time": "2020-07-10T11:16:38.369281Z",
     "start_time": "2020-07-10T11:16:38.345279Z"
    }
   },
   "outputs": [
    {
     "data": {
      "text/plain": [
       "{'learning_rate': 0.75,\n",
       " 'min_samples_leaf': 2,\n",
       " 'min_samples_split': 2,\n",
       " 'n_estimators': 10}"
      ]
     },
     "execution_count": 65,
     "metadata": {},
     "output_type": "execute_result"
    }
   ],
   "source": [
    "model_gb.best_params_"
   ]
  },
  {
   "cell_type": "code",
   "execution_count": 66,
   "metadata": {
    "ExecuteTime": {
     "end_time": "2020-07-10T11:38:50.948389Z",
     "start_time": "2020-07-10T11:38:50.932389Z"
    }
   },
   "outputs": [],
   "source": [
    "gb = GradientBoostingClassifier(learning_rate=0.75,\n",
    " min_samples_leaf = 2,\n",
    " min_samples_split= 2,\n",
    " n_estimators= 10)"
   ]
  },
  {
   "cell_type": "code",
   "execution_count": 67,
   "metadata": {
    "ExecuteTime": {
     "end_time": "2020-07-10T11:39:11.084818Z",
     "start_time": "2020-07-10T11:39:10.820812Z"
    }
   },
   "outputs": [
    {
     "data": {
      "text/plain": [
       "GradientBoostingClassifier(ccp_alpha=0.0, criterion='friedman_mse', init=None,\n",
       "                           learning_rate=0.75, loss='deviance', max_depth=3,\n",
       "                           max_features=None, max_leaf_nodes=None,\n",
       "                           min_impurity_decrease=0.0, min_impurity_split=None,\n",
       "                           min_samples_leaf=2, min_samples_split=2,\n",
       "                           min_weight_fraction_leaf=0.0, n_estimators=10,\n",
       "                           n_iter_no_change=None, presort='deprecated',\n",
       "                           random_state=None, subsample=1.0, tol=0.0001,\n",
       "                           validation_fraction=0.1, verbose=0,\n",
       "                           warm_start=False)"
      ]
     },
     "execution_count": 67,
     "metadata": {},
     "output_type": "execute_result"
    }
   ],
   "source": [
    "gb.fit(ds_train_median_X,ds_train_median_y)"
   ]
  },
  {
   "cell_type": "code",
   "execution_count": 68,
   "metadata": {
    "ExecuteTime": {
     "end_time": "2020-07-10T11:39:50.720297Z",
     "start_time": "2020-07-10T11:39:49.787896Z"
    }
   },
   "outputs": [],
   "source": [
    "output['Survived'] = gb.predict(ds_test_median)\n",
    "output.to_csv('output15.csv',index=False)"
   ]
  },
  {
   "cell_type": "code",
   "execution_count": null,
   "metadata": {},
   "outputs": [],
   "source": []
  }
 ],
 "metadata": {
  "kernelspec": {
   "display_name": "Python 3",
   "language": "python",
   "name": "python3"
  },
  "language_info": {
   "codemirror_mode": {
    "name": "ipython",
    "version": 3
   },
   "file_extension": ".py",
   "mimetype": "text/x-python",
   "name": "python",
   "nbconvert_exporter": "python",
   "pygments_lexer": "ipython3",
   "version": "3.7.6"
  }
 },
 "nbformat": 4,
 "nbformat_minor": 4
}
