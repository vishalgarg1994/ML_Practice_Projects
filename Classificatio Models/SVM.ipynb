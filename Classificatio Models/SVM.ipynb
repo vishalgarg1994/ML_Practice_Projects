{
 "cells": [
  {
   "cell_type": "code",
   "execution_count": 2,
   "metadata": {},
   "outputs": [],
   "source": [
    "import numpy as np \n",
    "import pandas as pd\n",
    "from sklearn.model_selection import train_test_split,KFold,cross_val_score,GridSearchCV\n",
    "from sklearn.datasets import load_iris\n",
    "from sklearn.svm import SVC"
   ]
  },
  {
   "cell_type": "code",
   "execution_count": 3,
   "metadata": {},
   "outputs": [],
   "source": [
    "df = load_iris()\n",
    "X = df.data\n",
    "y = df.target\n",
    "X_train,X_test,y_train,y_test = train_test_split(X,y,train_size=0.7,random_state=42)"
   ]
  },
  {
   "cell_type": "code",
   "execution_count": 5,
   "metadata": {},
   "outputs": [],
   "source": [
    "scm = SVC()\n",
    "'''\n",
    "# Params\n",
    "# kernel{‘linear’, ‘poly’, ‘rbf’, ‘sigmoid’, ‘precomputed’}, default=’rbf’\n",
    "# degree (default=3) -- Degree of the polynomial kernel function (‘poly’). Ignored by all other kernels.\n",
    "# C(Default 1)--> Regularization parameter. The strength of the regularization is inversely proportional to C. \n",
    "    Must be strictly positive. The penalty is a squared l2 penalty.\n",
    "# gamma --> Kernel coefficient for ‘rbf’, ‘poly’ and ‘sigmoid’ ( It is the Margin b/w SV and the sepreator)\n",
    "        Large Value of parameter C => small margin  ---> Lower misclassification but tends to overfit\n",
    "        Small Value of paramerter C => Large margin  --> High  misclassification so tends ti underfit \n",
    "        So value of C should be optimal to select best margin line\n",
    "        Value of gamma is scale(default) or auto\n",
    "        auto ---> 1/n_features\n",
    "        scale ----> \n",
    "# cache_size --->Specify the size of the kernel cache (in MB) default --> 200\n",
    "# tol ---> Tolerance for stopping criterion. 10e-3\n",
    "'''"
   ]
  },
  {
   "cell_type": "code",
   "execution_count": 7,
   "metadata": {},
   "outputs": [
    {
     "name": "stdout",
     "output_type": "stream",
     "text": [
      "Fitting 5 folds for each of 32 candidates, totalling 160 fits\n"
     ]
    },
    {
     "name": "stderr",
     "output_type": "stream",
     "text": [
      "[Parallel(n_jobs=40)]: Using backend LokyBackend with 40 concurrent workers.\n",
      "[Parallel(n_jobs=40)]: Done 160 out of 160 | elapsed:   18.9s finished\n"
     ]
    },
    {
     "data": {
      "text/plain": [
       "GridSearchCV(cv=KFold(n_splits=5, random_state=42, shuffle=True),\n",
       "             error_score=nan,\n",
       "             estimator=SVC(C=1.0, break_ties=False, cache_size=200,\n",
       "                           class_weight=None, coef0=0.0,\n",
       "                           decision_function_shape='ovr', degree=3,\n",
       "                           gamma='scale', kernel='rbf', max_iter=-1,\n",
       "                           probability=False, random_state=None, shrinking=True,\n",
       "                           tol=0.001, verbose=False),\n",
       "             iid='deprecated', n_jobs=40,\n",
       "             param_grid=[{'C': [0.1, 1, 10, 100], 'gamma': ['auto', 'scale'],\n",
       "                          'kernel': ['linear', 'poly', 'rbf', 'sigmoid']}],\n",
       "             pre_dispatch='2*n_jobs', refit=True, return_train_score=True,\n",
       "             scoring='accuracy', verbose=1)"
      ]
     },
     "execution_count": 7,
     "metadata": {},
     "output_type": "execute_result"
    }
   ],
   "source": [
    "hyper_params = [{\n",
    "    'kernel': ['linear','poly','rbf','sigmoid'],\n",
    "    'C':[0.1,1,10,100],\n",
    "    'gamma':['auto','scale']\n",
    "}]\n",
    "folds = KFold(n_splits=5,shuffle=True,random_state=42)\n",
    "model_cv = GridSearchCV(estimator=scm,\n",
    "                       param_grid = hyper_params,\n",
    "                       scoring ='accuracy',\n",
    "                       cv = folds,\n",
    "                       verbose=1,\n",
    "                       return_train_score=True,\n",
    "                       n_jobs=40)\n",
    "model_cv.fit(X_train,y_train)"
   ]
  },
  {
   "cell_type": "code",
   "execution_count": 8,
   "metadata": {},
   "outputs": [
    {
     "name": "stdout",
     "output_type": "stream",
     "text": [
      "0.9619047619047618\n",
      "{'C': 0.1, 'gamma': 'auto', 'kernel': 'linear'}\n",
      "SVC(C=0.1, break_ties=False, cache_size=200, class_weight=None, coef0=0.0,\n",
      "    decision_function_shape='ovr', degree=3, gamma='auto', kernel='linear',\n",
      "    max_iter=-1, probability=False, random_state=None, shrinking=True,\n",
      "    tol=0.001, verbose=False)\n"
     ]
    }
   ],
   "source": [
    "print(model_cv.best_score_)\n",
    "print(model_cv.best_params_)\n",
    "print(model_cv.best_estimator_)"
   ]
  },
  {
   "cell_type": "code",
   "execution_count": 9,
   "metadata": {},
   "outputs": [
    {
     "data": {
      "text/plain": [
       "SVC(C=0.1, break_ties=False, cache_size=200, class_weight=None, coef0=0.0,\n",
       "    decision_function_shape='ovr', degree=3, gamma='auto', kernel='linear',\n",
       "    max_iter=-1, probability=False, random_state=None, shrinking=True,\n",
       "    tol=0.001, verbose=False)"
      ]
     },
     "execution_count": 9,
     "metadata": {},
     "output_type": "execute_result"
    }
   ],
   "source": [
    "svc= SVC(C=0.1, break_ties=False, cache_size=200, class_weight=None, coef0=0.0,\n",
    "    decision_function_shape='ovr', degree=3, gamma='auto', kernel='linear',\n",
    "    max_iter=-1, probability=False, random_state=None, shrinking=True,\n",
    "    tol=0.001, verbose=False)\n",
    "svc.fit(X_train,y_train)"
   ]
  },
  {
   "cell_type": "code",
   "execution_count": 12,
   "metadata": {},
   "outputs": [
    {
     "name": "stdout",
     "output_type": "stream",
     "text": [
      "[ 13  16  17  18  76   3   5   7  14  19  24  30  34  39  44  45  47  58\n",
      "  64  65  67  71  73  75  77  78  84  90  95  96   1   2  15  25  27  28\n",
      "  35  41  48  53  66  68  70  72  86  92  94  97  98 101]\n",
      "[ 5 25 20]\n",
      "[0 1 2]\n",
      "[1.77293323 1.76200793 6.22330382]\n"
     ]
    }
   ],
   "source": [
    "# Attributes\n",
    "print(svc.support_) # Indices of support vectors\n",
    "print(svc.n_support_) # No. of support vectors for each class\n",
    "print(svc.classes_) # Class Labels\n",
    "print(svc.intercept_) # Constant in decision function\n",
    "# print(svc.support_vectors_) # Support Vectors"
   ]
  },
  {
   "cell_type": "code",
   "execution_count": 17,
   "metadata": {},
   "outputs": [
    {
     "name": "stdout",
     "output_type": "stream",
     "text": [
      "{'C': 0.1, 'break_ties': False, 'cache_size': 200, 'class_weight': None, 'coef0': 0.0, 'decision_function_shape': 'ovr', 'degree': 3, 'gamma': 'auto', 'kernel': 'linear', 'max_iter': -1, 'probability': False, 'random_state': None, 'shrinking': True, 'tol': 0.001, 'verbose': False}\n",
      "[1 0 2 1 1 0 1 2 1 1 2 0 0 0 0 1 2 1 1 2 0 2 0 2 2 2 2 2 0 0 0 0 1 0 0 2 1\n",
      " 0 0 0 2 1 1 0 0]\n",
      "1.0\n",
      "[[-0.24160148  2.23236629  1.08315299]\n",
      " [ 2.22873045  1.26282934 -0.2851256 ]\n",
      " [-0.2880953   1.17855429  2.27969812]\n",
      " [-0.23758087  2.22918307  1.07305789]\n",
      " [-0.24982195  2.23191245  1.13781134]\n",
      " [ 2.23012597  1.26392814 -0.28593407]\n",
      " [-0.18025781  2.24106666  0.80355122]\n",
      " [-0.26281666  1.20844553  2.22432793]\n",
      " [-0.24726729  2.23518864  1.10759695]\n",
      " [-0.20677233  2.241102    0.83498923]\n",
      " [-0.2582669   1.21080694  2.2107847 ]\n",
      " [ 2.23590229  1.26633854 -0.2882684 ]\n",
      " [ 2.24133254  1.2664131  -0.28949798]\n",
      " [ 2.23322958  1.26568764 -0.28740392]\n",
      " [ 2.23920618  1.26250441 -0.28734036]\n",
      " [-0.24162283  2.22326071  1.1258199 ]\n",
      " [-0.27301715  1.19257792  2.25317157]\n",
      " [-0.20733469  2.24257153  0.83110633]\n",
      " [-0.23440107  2.23130008  1.03096267]\n",
      " [-0.27115879  1.19902536  2.24740923]\n",
      " [ 2.23032185  1.2635587  -0.28580371]\n",
      " [-0.25227905  1.21750159  2.18417306]\n",
      " [ 2.22834528  1.26223021 -0.28476364]\n",
      " [-0.27051234  1.20160881  2.24504593]\n",
      " [-0.27779885  1.18687957  2.26280519]\n",
      " [-0.2648558   1.20577067  2.23091677]\n",
      " [-0.27376287  1.2104686   2.24748029]\n",
      " [-0.27440919  1.18743118  2.25709676]\n",
      " [ 2.2326553   1.26500156 -0.28696648]\n",
      " [ 2.22809487  1.26414937 -0.28561532]\n",
      " [ 2.25408348  1.2656606  -0.29234187]\n",
      " [ 2.24292345  1.26130763 -0.28776418]\n",
      " [-0.23298711  2.23447885  0.98408856]\n",
      " [ 2.23294129  1.26315067 -0.28618461]\n",
      " [ 2.2423289   1.2646381  -0.28897864]\n",
      " [-0.26058973  1.21980953  2.20735998]\n",
      " [-0.23524562  2.22928619  1.05430995]\n",
      " [ 2.23603998  1.26448194 -0.28746646]\n",
      " [ 2.24167902  1.26425701 -0.28866515]\n",
      " [ 2.24531402  1.26320069 -0.28912435]\n",
      " [-0.25954848  1.21246901  2.21254837]\n",
      " [-0.23175449  2.22359614  1.06537248]\n",
      " [-0.24447812  2.22898469  1.11924667]\n",
      " [ 2.24406837  1.26351589 -0.28893954]\n",
      " [ 2.23790408  1.26434171 -0.28782393]]\n"
     ]
    }
   ],
   "source": [
    "print(svc.get_params())\n",
    "print(svc.predict(X_test))\n",
    "print(svc.score(X_test,y_test)) # Mean Score\n",
    "print(svc.decision_function(X_test))  # Evaluates the Decision function for sample in X"
   ]
  },
  {
   "cell_type": "code",
   "execution_count": null,
   "metadata": {},
   "outputs": [],
   "source": []
  }
 ],
 "metadata": {
  "kernelspec": {
   "display_name": "Python 3",
   "language": "python",
   "name": "python3"
  },
  "language_info": {
   "codemirror_mode": {
    "name": "ipython",
    "version": 3
   },
   "file_extension": ".py",
   "mimetype": "text/x-python",
   "name": "python",
   "nbconvert_exporter": "python",
   "pygments_lexer": "ipython3",
   "version": "3.7.6"
  }
 },
 "nbformat": 4,
 "nbformat_minor": 4
}
