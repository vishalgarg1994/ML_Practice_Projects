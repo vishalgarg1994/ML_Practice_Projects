{
 "cells": [
  {
   "cell_type": "code",
   "execution_count": 1,
   "metadata": {},
   "outputs": [],
   "source": [
    "import numpy as np \n",
    "import pandas as pd\n",
    "from sklearn.model_selection import train_test_split,KFold,cross_val_score,GridSearchCV\n",
    "from sklearn.datasets import load_iris\n",
    "from sklearn.naive_bayes import GaussianNB"
   ]
  },
  {
   "cell_type": "code",
   "execution_count": 2,
   "metadata": {},
   "outputs": [],
   "source": [
    "df = load_iris()\n",
    "X = df.data\n",
    "y = df.target\n",
    "X_train,X_test,y_train,y_test = train_test_split(X,y,train_size=0.7,random_state=42)"
   ]
  },
  {
   "cell_type": "code",
   "execution_count": 4,
   "metadata": {},
   "outputs": [
    {
     "data": {
      "text/plain": [
       "GaussianNB(priors=None, var_smoothing=1e-09)"
      ]
     },
     "execution_count": 4,
     "metadata": {},
     "output_type": "execute_result"
    }
   ],
   "source": [
    "nb = GaussianNB()\n",
    "'''\n",
    "params\n",
    "\n",
    "# priors : Prior probabilities of the classes. If specified the priors are not adjusted according to the data\n",
    "\n",
    "'''\n",
    "nb.fit(X_train,y_train)"
   ]
  },
  {
   "cell_type": "code",
   "execution_count": 6,
   "metadata": {},
   "outputs": [
    {
     "name": "stdout",
     "output_type": "stream",
     "text": [
      "[31. 37. 37.]\n",
      "[0.2952381  0.35238095 0.35238095]\n",
      "[0 1 2]\n",
      "[[0.1119667  0.13658689 0.03325703 0.01152966]\n",
      " [0.27532506 0.08724617 0.23934259 0.04134405]\n",
      " [0.42241052 0.09630387 0.28842951 0.08591673]]\n",
      "[[4.96451613 3.37741935 1.46451613 0.2483871 ]\n",
      " [5.86216216 2.72432432 4.21081081 1.3027027 ]\n",
      " [6.55945946 2.98648649 5.54594595 2.00540541]]\n"
     ]
    }
   ],
   "source": [
    "# Attributres\n",
    "\n",
    "print(nb.class_count_) # No. of training samples observed in each class\n",
    "print(nb.class_prior_) # Prob of each class\n",
    "print(nb.classes_)\n",
    "print(nb.sigma_) # variance of each feature per class #4 features and 3 classes so 3*4 matrix\n",
    "print(nb.theta_)# mean of each feature per class"
   ]
  },
  {
   "cell_type": "code",
   "execution_count": 8,
   "metadata": {},
   "outputs": [
    {
     "name": "stdout",
     "output_type": "stream",
     "text": [
      "{'priors': None, 'var_smoothing': 1e-09}\n",
      "0.9428571428571428\n",
      "[1 1 2 1 2 1 2 1 0 2 1 0 0 0 1 2 0 0 0 1 0 1 2 0 1 2 0 2 2 1 1 2 1 0 1 2 0\n",
      " 0 1 2 0 2 0 0 2 1 2 1 2 2 1 0 0 1 2 0 0 0 1 2 0 2 2 0 1 1 2 1 2 0 2 1 2 1\n",
      " 1 1 0 1 1 0 1 2 2 0 1 2 2 0 2 0 2 2 2 1 2 1 1 2 2 0 1 1 0 1 2]\n",
      "(105, 3)\n"
     ]
    }
   ],
   "source": [
    "# Methods\n",
    "print(nb.get_params())\n",
    "print(nb.score(X_train,y_train))\n",
    "print(nb.predict(X_train))\n",
    "print(nb.predict_proba(X_train))"
   ]
  },
  {
   "cell_type": "code",
   "execution_count": null,
   "metadata": {},
   "outputs": [],
   "source": []
  }
 ],
 "metadata": {
  "kernelspec": {
   "display_name": "Python 3",
   "language": "python",
   "name": "python3"
  },
  "language_info": {
   "codemirror_mode": {
    "name": "ipython",
    "version": 3
   },
   "file_extension": ".py",
   "mimetype": "text/x-python",
   "name": "python",
   "nbconvert_exporter": "python",
   "pygments_lexer": "ipython3",
   "version": "3.7.6"
  }
 },
 "nbformat": 4,
 "nbformat_minor": 4
}
