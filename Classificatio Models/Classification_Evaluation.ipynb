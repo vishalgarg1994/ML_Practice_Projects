{
 "cells": [
  {
   "cell_type": "code",
   "execution_count": 127,
   "metadata": {},
   "outputs": [],
   "source": [
    "import numpy as np\n",
    "import pandas as pd\n",
    "import matplotlib.pyplot as plt\n",
    "import seaborn as sns\n",
    "import sklearn.metrics as mx\n",
    "from sklearn.datasets import load_iris\n",
    "from sklearn.model_selection import train_test_split\n",
    "from sklearn.preprocessing import StandardScaler\n",
    "from sklearn.decomposition import PCA\n",
    "from sklearn.linear_model import LogisticRegression\n",
    "from matplotlib.colors import ListedColormap  # For Color"
   ]
  },
  {
   "cell_type": "code",
   "execution_count": 21,
   "metadata": {},
   "outputs": [],
   "source": [
    "\"\"\"\n",
    "Let's say I have 50 balls in a bag and out of which 25 are blue and 25 are black\n",
    "I need to pick every ball and need to guess whether it is blue or black based on shape or feel or size without seeing\n",
    "\n",
    "Let's say I said 30 balls are blue and 20 are black and out of this 20 I correctly predicted \n",
    "\n",
    "Precision ---> How much % I actually guessed right means How much I precise in saying blue balls (20/30)\n",
    "\n",
    "Recall/Sensitivity ---> How much I was able to recall 20/25, So recall is \n",
    "\n",
    "Fallout/Prob of false Alarm = 10/25  # You have predicted 10 incorrect as blue when they are black so (wrongly predicted/Black Values).\n",
    "So there is 40% chances that you predict ball as black when it is blue\n",
    "\n",
    "So Matrix is like this\n",
    "[ 20, 10]    [ TP, FP]     \n",
    "[ 5,  15]    [ FN,  TN]\n",
    "\n",
    "So let us say --> Blue is +ve and Black is -ve so we predicted 20 correct as blue and 15 corrected as black\n",
    "So we are having False Blue/False Positive = 10 and False Black/Negative = 5\n",
    "\n",
    "Correct Blue/Positive ---> True Positive , correct Black/negative ----> True Negative\n",
    "\n",
    "Precision = TP/Predicted +ve   ,Recall/Sesitivity/TPR(True +ve rate) = TP/Actual +ve\n",
    "\n",
    "False +ve rate = FP/Actual-ve\n",
    "\n",
    "So Ultimately as a good guessing you need to be as much precise as you can and you need to recall more so % of False alarm goesdown\n",
    "\n",
    "1. So If we make a graph saying False alarm on X axis and True positive rate on Y axis and weplt a curve for different probabilities.\n",
    "Because for different threshold selections we have different TPR,FPR.\n",
    "\n",
    "Perfect Model ---> FPR ---> 0 implies FP --> 0  and Recall is 1 . So point lies on X axis\n",
    "\n",
    "So as a result there is a tradeoff b/w FPR and TPR and we can select a prob. where we can cope up with TPR,FPR which will be a business decision\n",
    "\n",
    "So Area under the curve will give how good your model is. \n",
    "\n",
    "2. Both ROC, Precision and recall curve will let you decide the threshold of prob.\n",
    "\"\"\""
   ]
  },
  {
   "cell_type": "code",
   "execution_count": 55,
   "metadata": {},
   "outputs": [],
   "source": [
    "# Making a classification Model\n",
    "df = load_iris()\n",
    "X = df.data\n",
    "y = df.target\n",
    "y[y==2] = 0 # Making Binary classificatio Problem\n",
    "X_train,X_test,y_train,y_test = train_test_split(X,y,train_size=0.7,random_state=42)\n",
    "lr = LogisticRegression()\n",
    "lr.fit(X_train,y_train)\n",
    "y_train_pred = lr.predict(X_train)\n",
    "y_test_pred = lr.predict(X_test)"
   ]
  },
  {
   "cell_type": "code",
   "execution_count": 56,
   "metadata": {},
   "outputs": [
    {
     "data": {
      "text/plain": [
       "'              precision    recall  f1-score   support\\n\\n           0       0.75      0.90      0.82        68\\n           1       0.71      0.46      0.56        37\\n\\n    accuracy                           0.74       105\\n   macro avg       0.73      0.68      0.69       105\\nweighted avg       0.74      0.74      0.73       105\\n'"
      ]
     },
     "execution_count": 56,
     "metadata": {},
     "output_type": "execute_result"
    }
   ],
   "source": [
    "mx.classification_report(y_train,y_train_pred)"
   ]
  },
  {
   "cell_type": "code",
   "execution_count": 108,
   "metadata": {},
   "outputs": [
    {
     "name": "stdout",
     "output_type": "stream",
     "text": [
      "[[61  7]\n",
      " [20 17]]\n",
      "True Positive: 17\n",
      "True Negatives: 61\n",
      "False Positives: 7\n",
      "False Negatives: 20\n"
     ]
    }
   ],
   "source": [
    "confusion = mx.confusion_matrix(y_train,y_train_pred) # Confusion Matrix\n",
    "print(confusion)\n",
    "TP = confusion[1,1] # true positive \n",
    "TN = confusion[0,0] # true negatives\n",
    "FP = confusion[0,1] # false positives\n",
    "FN = confusion[1,0] # false negatives\n",
    "print(f\"True Positive: {TP}\")\n",
    "print(f\"True Negatives: {TN}\")\n",
    "print(f\"False Positives: {FP}\")\n",
    "print(f\"False Negatives: {FN}\")"
   ]
  },
  {
   "cell_type": "code",
   "execution_count": 58,
   "metadata": {},
   "outputs": [
    {
     "name": "stdout",
     "output_type": "stream",
     "text": [
      "0.7428571428571429\n",
      "0.7083333333333334\n",
      "0.4594594594594595\n",
      "0.5573770491803279\n"
     ]
    }
   ],
   "source": [
    "print(mx.accuracy_score(y_train,y_train_pred))\n",
    "print(mx.precision_score(y_train,y_train_pred))\n",
    "print(mx.recall_score(y_train,y_train_pred))\n",
    "print(mx.f1_score(y_train,y_train_pred))\n"
   ]
  },
  {
   "cell_type": "code",
   "execution_count": 60,
   "metadata": {},
   "outputs": [],
   "source": [
    "y_train_prob = lr.predict_proba(X_train)[:,1]"
   ]
  },
  {
   "cell_type": "code",
   "execution_count": 67,
   "metadata": {},
   "outputs": [
    {
     "data": {
      "text/plain": [
       "0.8267090620031796"
      ]
     },
     "execution_count": 67,
     "metadata": {},
     "output_type": "execute_result"
    }
   ],
   "source": [
    "fpr,tpr,thresholds = mx.roc_curve(y_train,y_train_prob,drop_intermediate=False)\n",
    "auc_score =  mx.roc_auc_score(y_train,y_train_prob)\n",
    "auc_score"
   ]
  },
  {
   "cell_type": "code",
   "execution_count": 70,
   "metadata": {},
   "outputs": [
    {
     "data": {
      "text/plain": [
       "(0.0, 1.05)"
      ]
     },
     "execution_count": 70,
     "metadata": {},
     "output_type": "execute_result"
    },
    {
     "data": {
      "image/png": "[encoded data removed]",
      "text/plain": [
       "<Figure size 432x288 with 1 Axes>"
      ]
     },
     "metadata": {
      "needs_background": "light"
     },
     "output_type": "display_data"
    }
   ],
   "source": [
    "plt.plot(fpr, tpr, label='ROC curve (area = %0.2f)' % auc_score)\n",
    "plt.plot([0, 1], [0, 1], 'k--')\n",
    "plt.xlim([0.0, 1.0])\n",
    "plt.ylim([0.0, 1.05])"
   ]
  },
  {
   "cell_type": "code",
   "execution_count": 93,
   "metadata": {},
   "outputs": [],
   "source": [
    "df_prob = pd.DataFrame(y_train.reshape(-1,1),columns=['y_train'])"
   ]
  },
  {
   "cell_type": "code",
   "execution_count": null,
   "metadata": {},
   "outputs": [],
   "source": [
    "df_prob['Prob'] = y_train_prob"
   ]
  },
  {
   "cell_type": "code",
   "execution_count": 102,
   "metadata": {},
   "outputs": [
    {
     "data": {
      "text/html": [
       "<div>\n",
       "<style scoped>\n",
       "    .dataframe tbody tr th:only-of-type {\n",
       "        vertical-align: middle;\n",
       "    }\n",
       "\n",
       "    .dataframe tbody tr th {\n",
       "        vertical-align: top;\n",
       "    }\n",
       "\n",
       "    .dataframe thead th {\n",
       "        text-align: right;\n",
       "    }\n",
       "</style>\n",
       "<table border=\"1\" class=\"dataframe\">\n",
       "  <thead>\n",
       "    <tr style=\"text-align: right;\">\n",
       "      <th></th>\n",
       "      <th>y_train</th>\n",
       "      <th>Prob</th>\n",
       "      <th>prob_0.0</th>\n",
       "      <th>prob_0.1</th>\n",
       "      <th>prob_0.2</th>\n",
       "      <th>prob_0.3</th>\n",
       "      <th>prob_0.4</th>\n",
       "      <th>prob_0.5</th>\n",
       "      <th>prob_0.6</th>\n",
       "      <th>prob_0.7</th>\n",
       "      <th>prob_0.8</th>\n",
       "      <th>prob_0.9</th>\n",
       "    </tr>\n",
       "  </thead>\n",
       "  <tbody>\n",
       "    <tr>\n",
       "      <th>0</th>\n",
       "      <td>1</td>\n",
       "      <td>0.689700</td>\n",
       "      <td>1</td>\n",
       "      <td>1</td>\n",
       "      <td>1</td>\n",
       "      <td>1</td>\n",
       "      <td>1</td>\n",
       "      <td>1</td>\n",
       "      <td>1</td>\n",
       "      <td>0</td>\n",
       "      <td>0</td>\n",
       "      <td>0</td>\n",
       "    </tr>\n",
       "    <tr>\n",
       "      <th>1</th>\n",
       "      <td>0</td>\n",
       "      <td>0.505961</td>\n",
       "      <td>1</td>\n",
       "      <td>1</td>\n",
       "      <td>1</td>\n",
       "      <td>1</td>\n",
       "      <td>1</td>\n",
       "      <td>1</td>\n",
       "      <td>0</td>\n",
       "      <td>0</td>\n",
       "      <td>0</td>\n",
       "      <td>0</td>\n",
       "    </tr>\n",
       "    <tr>\n",
       "      <th>2</th>\n",
       "      <td>0</td>\n",
       "      <td>0.324850</td>\n",
       "      <td>1</td>\n",
       "      <td>1</td>\n",
       "      <td>1</td>\n",
       "      <td>1</td>\n",
       "      <td>0</td>\n",
       "      <td>0</td>\n",
       "      <td>0</td>\n",
       "      <td>0</td>\n",
       "      <td>0</td>\n",
       "      <td>0</td>\n",
       "    </tr>\n",
       "    <tr>\n",
       "      <th>3</th>\n",
       "      <td>1</td>\n",
       "      <td>0.316745</td>\n",
       "      <td>1</td>\n",
       "      <td>1</td>\n",
       "      <td>1</td>\n",
       "      <td>1</td>\n",
       "      <td>0</td>\n",
       "      <td>0</td>\n",
       "      <td>0</td>\n",
       "      <td>0</td>\n",
       "      <td>0</td>\n",
       "      <td>0</td>\n",
       "    </tr>\n",
       "    <tr>\n",
       "      <th>4</th>\n",
       "      <td>0</td>\n",
       "      <td>0.086432</td>\n",
       "      <td>1</td>\n",
       "      <td>0</td>\n",
       "      <td>0</td>\n",
       "      <td>0</td>\n",
       "      <td>0</td>\n",
       "      <td>0</td>\n",
       "      <td>0</td>\n",
       "      <td>0</td>\n",
       "      <td>0</td>\n",
       "      <td>0</td>\n",
       "    </tr>\n",
       "    <tr>\n",
       "      <th>...</th>\n",
       "      <td>...</td>\n",
       "      <td>...</td>\n",
       "      <td>...</td>\n",
       "      <td>...</td>\n",
       "      <td>...</td>\n",
       "      <td>...</td>\n",
       "      <td>...</td>\n",
       "      <td>...</td>\n",
       "      <td>...</td>\n",
       "      <td>...</td>\n",
       "      <td>...</td>\n",
       "      <td>...</td>\n",
       "    </tr>\n",
       "    <tr>\n",
       "      <th>100</th>\n",
       "      <td>1</td>\n",
       "      <td>0.415644</td>\n",
       "      <td>1</td>\n",
       "      <td>1</td>\n",
       "      <td>1</td>\n",
       "      <td>1</td>\n",
       "      <td>1</td>\n",
       "      <td>0</td>\n",
       "      <td>0</td>\n",
       "      <td>0</td>\n",
       "      <td>0</td>\n",
       "      <td>0</td>\n",
       "    </tr>\n",
       "    <tr>\n",
       "      <th>101</th>\n",
       "      <td>0</td>\n",
       "      <td>0.615053</td>\n",
       "      <td>1</td>\n",
       "      <td>1</td>\n",
       "      <td>1</td>\n",
       "      <td>1</td>\n",
       "      <td>1</td>\n",
       "      <td>1</td>\n",
       "      <td>1</td>\n",
       "      <td>0</td>\n",
       "      <td>0</td>\n",
       "      <td>0</td>\n",
       "    </tr>\n",
       "    <tr>\n",
       "      <th>102</th>\n",
       "      <td>0</td>\n",
       "      <td>0.032567</td>\n",
       "      <td>1</td>\n",
       "      <td>0</td>\n",
       "      <td>0</td>\n",
       "      <td>0</td>\n",
       "      <td>0</td>\n",
       "      <td>0</td>\n",
       "      <td>0</td>\n",
       "      <td>0</td>\n",
       "      <td>0</td>\n",
       "      <td>0</td>\n",
       "    </tr>\n",
       "    <tr>\n",
       "      <th>103</th>\n",
       "      <td>1</td>\n",
       "      <td>0.565292</td>\n",
       "      <td>1</td>\n",
       "      <td>1</td>\n",
       "      <td>1</td>\n",
       "      <td>1</td>\n",
       "      <td>1</td>\n",
       "      <td>1</td>\n",
       "      <td>0</td>\n",
       "      <td>0</td>\n",
       "      <td>0</td>\n",
       "      <td>0</td>\n",
       "    </tr>\n",
       "    <tr>\n",
       "      <th>104</th>\n",
       "      <td>0</td>\n",
       "      <td>0.324253</td>\n",
       "      <td>1</td>\n",
       "      <td>1</td>\n",
       "      <td>1</td>\n",
       "      <td>1</td>\n",
       "      <td>0</td>\n",
       "      <td>0</td>\n",
       "      <td>0</td>\n",
       "      <td>0</td>\n",
       "      <td>0</td>\n",
       "      <td>0</td>\n",
       "    </tr>\n",
       "  </tbody>\n",
       "</table>\n",
       "<p>105 rows × 12 columns</p>\n",
       "</div>"
      ],
      "text/plain": [
       "     y_train      Prob  prob_0.0  prob_0.1  prob_0.2  prob_0.3  prob_0.4  \\\n",
       "0          1  0.689700         1         1         1         1         1   \n",
       "1          0  0.505961         1         1         1         1         1   \n",
       "2          0  0.324850         1         1         1         1         0   \n",
       "3          1  0.316745         1         1         1         1         0   \n",
       "4          0  0.086432         1         0         0         0         0   \n",
       "..       ...       ...       ...       ...       ...       ...       ...   \n",
       "100        1  0.415644         1         1         1         1         1   \n",
       "101        0  0.615053         1         1         1         1         1   \n",
       "102        0  0.032567         1         0         0         0         0   \n",
       "103        1  0.565292         1         1         1         1         1   \n",
       "104        0  0.324253         1         1         1         1         0   \n",
       "\n",
       "     prob_0.5  prob_0.6  prob_0.7  prob_0.8  prob_0.9  \n",
       "0           1         1         0         0         0  \n",
       "1           1         0         0         0         0  \n",
       "2           0         0         0         0         0  \n",
       "3           0         0         0         0         0  \n",
       "4           0         0         0         0         0  \n",
       "..        ...       ...       ...       ...       ...  \n",
       "100         0         0         0         0         0  \n",
       "101         1         1         0         0         0  \n",
       "102         0         0         0         0         0  \n",
       "103         1         0         0         0         0  \n",
       "104         0         0         0         0         0  \n",
       "\n",
       "[105 rows x 12 columns]"
      ]
     },
     "execution_count": 102,
     "metadata": {},
     "output_type": "execute_result"
    }
   ],
   "source": [
    "for i in range(0,10):\n",
    "    temp = i/10\n",
    "    name = \"prob_\"+str(temp)\n",
    "    df_prob[name] = df_prob['Prob'].apply(lambda x:1 if x > temp else 0 )\n",
    "df_prob"
   ]
  },
  {
   "cell_type": "code",
   "execution_count": 106,
   "metadata": {},
   "outputs": [
    {
     "data": {
      "text/html": [
       "<div>\n",
       "<style scoped>\n",
       "    .dataframe tbody tr th:only-of-type {\n",
       "        vertical-align: middle;\n",
       "    }\n",
       "\n",
       "    .dataframe tbody tr th {\n",
       "        vertical-align: top;\n",
       "    }\n",
       "\n",
       "    .dataframe thead th {\n",
       "        text-align: right;\n",
       "    }\n",
       "</style>\n",
       "<table border=\"1\" class=\"dataframe\">\n",
       "  <thead>\n",
       "    <tr style=\"text-align: right;\">\n",
       "      <th></th>\n",
       "      <th>prob</th>\n",
       "      <th>accuracy</th>\n",
       "      <th>sensi</th>\n",
       "      <th>speci</th>\n",
       "    </tr>\n",
       "  </thead>\n",
       "  <tbody>\n",
       "    <tr>\n",
       "      <th>1</th>\n",
       "      <td>1.0</td>\n",
       "      <td>0.447619</td>\n",
       "      <td>1.000000</td>\n",
       "      <td>0.147059</td>\n",
       "    </tr>\n",
       "    <tr>\n",
       "      <th>2</th>\n",
       "      <td>2.0</td>\n",
       "      <td>0.638095</td>\n",
       "      <td>1.000000</td>\n",
       "      <td>0.441176</td>\n",
       "    </tr>\n",
       "    <tr>\n",
       "      <th>3</th>\n",
       "      <td>3.0</td>\n",
       "      <td>0.714286</td>\n",
       "      <td>0.918919</td>\n",
       "      <td>0.602941</td>\n",
       "    </tr>\n",
       "    <tr>\n",
       "      <th>4</th>\n",
       "      <td>4.0</td>\n",
       "      <td>0.742857</td>\n",
       "      <td>0.648649</td>\n",
       "      <td>0.794118</td>\n",
       "    </tr>\n",
       "    <tr>\n",
       "      <th>5</th>\n",
       "      <td>5.0</td>\n",
       "      <td>0.742857</td>\n",
       "      <td>0.459459</td>\n",
       "      <td>0.897059</td>\n",
       "    </tr>\n",
       "    <tr>\n",
       "      <th>6</th>\n",
       "      <td>6.0</td>\n",
       "      <td>0.714286</td>\n",
       "      <td>0.297297</td>\n",
       "      <td>0.941176</td>\n",
       "    </tr>\n",
       "    <tr>\n",
       "      <th>7</th>\n",
       "      <td>7.0</td>\n",
       "      <td>0.676190</td>\n",
       "      <td>0.135135</td>\n",
       "      <td>0.970588</td>\n",
       "    </tr>\n",
       "    <tr>\n",
       "      <th>8</th>\n",
       "      <td>8.0</td>\n",
       "      <td>0.657143</td>\n",
       "      <td>0.027027</td>\n",
       "      <td>1.000000</td>\n",
       "    </tr>\n",
       "    <tr>\n",
       "      <th>9</th>\n",
       "      <td>9.0</td>\n",
       "      <td>0.647619</td>\n",
       "      <td>0.000000</td>\n",
       "      <td>1.000000</td>\n",
       "    </tr>\n",
       "  </tbody>\n",
       "</table>\n",
       "</div>"
      ],
      "text/plain": [
       "   prob  accuracy     sensi     speci\n",
       "1   1.0  0.447619  1.000000  0.147059\n",
       "2   2.0  0.638095  1.000000  0.441176\n",
       "3   3.0  0.714286  0.918919  0.602941\n",
       "4   4.0  0.742857  0.648649  0.794118\n",
       "5   5.0  0.742857  0.459459  0.897059\n",
       "6   6.0  0.714286  0.297297  0.941176\n",
       "7   7.0  0.676190  0.135135  0.970588\n",
       "8   8.0  0.657143  0.027027  1.000000\n",
       "9   9.0  0.647619  0.000000  1.000000"
      ]
     },
     "execution_count": 106,
     "metadata": {},
     "output_type": "execute_result"
    }
   ],
   "source": [
    "cutoff_df = pd.DataFrame( columns = ['prob','accuracy','sensi','speci'])\n",
    "\n",
    "for i in range(1,10):\n",
    "    temp = i/10\n",
    "    name = 'prob_'+str(temp)\n",
    "    cm = mx.confusion_matrix(df_prob.y_train,df_prob[name])\n",
    "    total=sum(sum(cm))\n",
    "    accuracy = (cm[0,0]+cm[1,1])/total  # Accuracy\n",
    "    speci = cm[0,0]/(cm[0,0]+cm[0,1])  # Precision\n",
    "    sensi = cm[1,1]/(cm[1,0]+cm[1,1])  # Recall\n",
    "    cutoff_df.loc[i] =[ i ,accuracy,sensi,speci]\n",
    "cutoff_df    "
   ]
  },
  {
   "cell_type": "code",
   "execution_count": 107,
   "metadata": {},
   "outputs": [
    {
     "data": {
      "image/png": "[encoded data removed]",
      "text/plain": [
       "<Figure size 432x288 with 1 Axes>"
      ]
     },
     "metadata": {
      "needs_background": "light"
     },
     "output_type": "display_data"
    }
   ],
   "source": [
    "cutoff_df.plot.line(x='prob', y=['accuracy','sensi','speci'])\n",
    "plt.show()\n",
    "# Specificity and sensitivity curve with accuracy, Here Cutoff is 0.35 we can take and calculate\n",
    "# As prob is going zero ---> Recall will increase but precision will be low\n",
    "# As prob is going to 1  ---> Precision is high but recall is low\n",
    "# So we need to seethe tradeoff"
   ]
  },
  {
   "cell_type": "code",
   "execution_count": 128,
   "metadata": {},
   "outputs": [],
   "source": [
    "X_train1 = X_train[:,0:2]\n",
    "lr = LogisticRegression()\n",
    "lr.fit(X_train1,y_train)\n",
    "y_train_pred = lr.predict(X_train1)\n",
    "mx.confusion_matrix(y_train,y_train_pred)"
   ]
  },
  {
   "cell_type": "code",
   "execution_count": 164,
   "metadata": {},
   "outputs": [
    {
     "name": "stderr",
     "output_type": "stream",
     "text": [
      "'c' argument looks like a single numeric RGB or RGBA sequence, which should be avoided as value-mapping will have precedence in case its length matches with 'x' & 'y'.  Please use a 2-D array with a single row if you really want to specify the same RGB or RGBA value for all points.\n",
      "'c' argument looks like a single numeric RGB or RGBA sequence, which should be avoided as value-mapping will have precedence in case its length matches with 'x' & 'y'.  Please use a 2-D array with a single row if you really want to specify the same RGB or RGBA value for all points.\n"
     ]
    },
    {
     "data": {
      "image/png": "[encoded data removed]",
      "text/plain": [
       "<Figure size 432x288 with 1 Axes>"
      ]
     },
     "metadata": {
      "needs_background": "light"
     },
     "output_type": "display_data"
    }
   ],
   "source": [
    "X_set, y_set = X_train1, y_train\n",
    "X1, X2 = np.meshgrid(np.arange(start = X_set[:, 0].min() - 1, stop = X_set[:, 0].max() + 1, step = 0.01), #(8.7-3.3)/0.01 = 540\n",
    "                     np.arange(start = X_set[:, 1].min() - 1, stop = X_set[:, 1].max() + 1, step = 0.01)) #(5.2-1.0)/0,01 = 420\n",
    "# X1 = Rows repetative cols having 540 values 3.3 - 9.7\n",
    "# X2 = Cols repetative rows having 420 values 1-5.2\n",
    "# X1,X2 are of sizes 420*540\n",
    "# lr.predict(np.array([X1.ravel(), X2.ravel()]).T).reshape(X1.shape) --> 420 * 540\n",
    "# X1.ravel()( Rowwise  Flattend  1D array so size would be 540*420 = 226800) same with X2.ravel()\n",
    "#np.array([X1.ravel(), X2.ravel()]).T would be 226800*2 array with first dim as X1.ravel() and second as X2.ravel()\n",
    "# When this is given to lr.predict it will generate a array of 226800,1 of resulted values\n",
    "plt.contourf(X1, X2, lr.predict(np.array([X1.ravel(), X2.ravel()]).T).reshape(X1.shape),\n",
    "             alpha = 0.75, cmap = ListedColormap(('red', 'green')))\n",
    "plt.xlim(X1.min(), X1.max())\n",
    "plt.ylim(X2.min(), X2.max())\n",
    "# This is for scatter plot\n",
    "for i, j in enumerate(np.unique(y_set)):\n",
    "    plt.scatter(X_set[y_set == j, 0], X_set[y_set == j, 1],\n",
    "                c = ListedColormap(('red', 'green'))(i), label = j)"
   ]
  },
  {
   "cell_type": "code",
   "execution_count": 156,
   "metadata": {},
   "outputs": [
    {
     "name": "stdout",
     "output_type": "stream",
     "text": [
      "0 0\n",
      "1 1\n"
     ]
    }
   ],
   "source": []
  },
  {
   "cell_type": "code",
   "execution_count": 163,
   "metadata": {},
   "outputs": [
    {
     "data": {
      "text/plain": [
       "array([2.4, 3. , 2.9, 3. , 2.7, 2. , 2.7, 3. , 2.9, 2.2, 3. , 2.3, 2.3,\n",
       "       2.4, 3. , 3.2, 2.5, 2.7, 2.5, 2.5, 2.9, 2.8, 3.2, 3. , 2.6, 2.7,\n",
       "       3. , 2.9, 2.6, 3. , 2.4, 3.1, 2.8, 2.3, 2.9, 2.8, 2.6])"
      ]
     },
     "execution_count": 163,
     "metadata": {},
     "output_type": "execute_result"
    }
   ],
   "source": []
  },
  {
   "cell_type": "code",
   "execution_count": 152,
   "metadata": {},
   "outputs": [
    {
     "data": {
      "text/plain": [
       "array([[3.3 , 1.  ],\n",
       "       [3.31, 1.  ],\n",
       "       [3.32, 1.  ],\n",
       "       ...,\n",
       "       [8.67, 5.19],\n",
       "       [8.68, 5.19],\n",
       "       [8.69, 5.19]])"
      ]
     },
     "execution_count": 152,
     "metadata": {},
     "output_type": "execute_result"
    }
   ],
   "source": []
  },
  {
   "cell_type": "code",
   "execution_count": null,
   "metadata": {},
   "outputs": [],
   "source": []
  }
 ],
 "metadata": {
  "kernelspec": {
   "display_name": "Python 3",
   "language": "python",
   "name": "python3"
  },
  "language_info": {
   "codemirror_mode": {
    "name": "ipython",
    "version": 3
   },
   "file_extension": ".py",
   "mimetype": "text/x-python",
   "name": "python",
   "nbconvert_exporter": "python",
   "pygments_lexer": "ipython3",
   "version": "3.7.6"
  }
 },
 "nbformat": 4,
 "nbformat_minor": 4
}
