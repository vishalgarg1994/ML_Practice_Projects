{
 "cells": [
  {
   "cell_type": "code",
   "execution_count": 1,
   "metadata": {},
   "outputs": [],
   "source": [
    "import numpy as np \n",
    "import pandas as pd\n",
    "from sklearn.model_selection import train_test_split,KFold,cross_val_score,GridSearchCV\n",
    "from sklearn.datasets import load_iris\n",
    "from sklearn.neighbors import KNeighborsClassifier"
   ]
  },
  {
   "cell_type": "code",
   "execution_count": 2,
   "metadata": {},
   "outputs": [],
   "source": [
    "df = load_iris()\n",
    "X = df.data\n",
    "y = df.target\n",
    "X_train,X_test,y_train,y_test = train_test_split(X,y,train_size=0.7,random_state=42)"
   ]
  },
  {
   "cell_type": "code",
   "execution_count": 4,
   "metadata": {},
   "outputs": [],
   "source": [
    "knn = KNeighborsClassifier()\n",
    "'''\n",
    "Params\n",
    "# n_neighbors : No. of neighbors to use by default\n",
    "# weights{‘uniform’, ‘distance’,'callable',} : weight is uniform , weight is inverseof distance \n",
    "          callable : a user-defined function which accepts an array of distances, and returns an array of the same shape containing the weights.\n",
    "# algorithm : {‘auto’, ‘ball_tree’, ‘kd_tree’, ‘brute’}\n",
    "# metric : Distance metric to use for tree.Default is minkowski metrics\n",
    "# p: Power parm for minkowiski metrics\n",
    "'''"
   ]
  },
  {
   "cell_type": "code",
   "execution_count": 5,
   "metadata": {},
   "outputs": [
    {
     "name": "stdout",
     "output_type": "stream",
     "text": [
      "Fitting 5 folds for each of 64 candidates, totalling 320 fits\n"
     ]
    },
    {
     "name": "stderr",
     "output_type": "stream",
     "text": [
      "[Parallel(n_jobs=12)]: Using backend LokyBackend with 12 concurrent workers.\n",
      "[Parallel(n_jobs=12)]: Done  26 tasks      | elapsed:    6.6s\n",
      "[Parallel(n_jobs=12)]: Done 320 out of 320 | elapsed:    8.8s finished\n"
     ]
    },
    {
     "data": {
      "text/plain": [
       "GridSearchCV(cv=KFold(n_splits=5, random_state=42, shuffle=True),\n",
       "             error_score=nan,\n",
       "             estimator=KNeighborsClassifier(algorithm='auto', leaf_size=30,\n",
       "                                            metric='minkowski',\n",
       "                                            metric_params=None, n_jobs=None,\n",
       "                                            n_neighbors=5, p=2,\n",
       "                                            weights='uniform'),\n",
       "             iid='deprecated', n_jobs=12,\n",
       "             param_grid=[{'algorithm': ['auto', 'ball_tree', 'kd_tree',\n",
       "                                        'brute'],\n",
       "                          'n_neighbors': [1, 2, 3, 4, 5, 6, 7, 8],\n",
       "                          'weights': ['uniform', 'distance']}],\n",
       "             pre_dispatch='2*n_jobs', refit=True, return_train_score=True,\n",
       "             scoring='accuracy', verbose=1)"
      ]
     },
     "execution_count": 5,
     "metadata": {},
     "output_type": "execute_result"
    }
   ],
   "source": [
    "hyper_params = [{\n",
    "    'n_neighbors': [1,2,3,4,5,6,7,8],\n",
    "    'weights':['uniform','distance'],\n",
    "    'algorithm':['auto','ball_tree','kd_tree','brute']\n",
    "}]\n",
    "folds = KFold(n_splits=5,shuffle=True,random_state=42)\n",
    "model_cv = GridSearchCV(estimator=knn,\n",
    "                       param_grid = hyper_params,\n",
    "                       scoring ='accuracy',\n",
    "                       cv = folds,\n",
    "                       verbose=1,\n",
    "                       return_train_score=True,\n",
    "                       n_jobs=12)\n",
    "model_cv.fit(X_train,y_train)"
   ]
  },
  {
   "cell_type": "code",
   "execution_count": 6,
   "metadata": {},
   "outputs": [
    {
     "name": "stdout",
     "output_type": "stream",
     "text": [
      "0.9523809523809523\n",
      "{'algorithm': 'auto', 'n_neighbors': 3, 'weights': 'uniform'}\n",
      "KNeighborsClassifier(algorithm='auto', leaf_size=30, metric='minkowski',\n",
      "                     metric_params=None, n_jobs=None, n_neighbors=3, p=2,\n",
      "                     weights='uniform')\n"
     ]
    }
   ],
   "source": [
    "print(model_cv.best_score_)\n",
    "print(model_cv.best_params_)\n",
    "print(model_cv.best_estimator_)"
   ]
  },
  {
   "cell_type": "code",
   "execution_count": 7,
   "metadata": {},
   "outputs": [
    {
     "data": {
      "text/plain": [
       "KNeighborsClassifier(algorithm='auto', leaf_size=30, metric='minkowski',\n",
       "                     metric_params=None, n_jobs=None, n_neighbors=3, p=2,\n",
       "                     weights='uniform')"
      ]
     },
     "execution_count": 7,
     "metadata": {},
     "output_type": "execute_result"
    }
   ],
   "source": [
    "knn = KNeighborsClassifier(algorithm='auto', leaf_size=30, metric='minkowski',\n",
    "                     metric_params=None, n_jobs=None, n_neighbors=3, p=2,\n",
    "                     weights='uniform')\n",
    "knn.fit(X_train,y_train)"
   ]
  },
  {
   "cell_type": "code",
   "execution_count": 8,
   "metadata": {},
   "outputs": [
    {
     "name": "stdout",
     "output_type": "stream",
     "text": [
      "[0 1 2]\n",
      "euclidean\n",
      "{}\n"
     ]
    }
   ],
   "source": [
    "# Attributes\n",
    "print(knn.classes_)\n",
    "print(knn.effective_metric_)\n",
    "print(knn.effective_metric_params_)"
   ]
  },
  {
   "cell_type": "code",
   "execution_count": 9,
   "metadata": {},
   "outputs": [
    {
     "name": "stdout",
     "output_type": "stream",
     "text": [
      "{'algorithm': 'auto', 'leaf_size': 30, 'metric': 'minkowski', 'metric_params': None, 'n_jobs': None, 'n_neighbors': 3, 'p': 2, 'weights': 'uniform'}\n",
      "0.9428571428571428\n",
      "[1 0 2 1 1 0 1 2 1 1 2 0 0 0 0 1 2 1 1 2 0 2 0 2 2 2 2 2 0 0 0 0 1 0 0 2 1\n",
      " 0 0 0 2 1 1 0 0]\n",
      "(array([[0.14142136, 0.34641016, 0.43588989],\n",
      "       [0.33166248, 0.36055513, 0.37416574],\n",
      "       [0.14142136, 0.24494897, 0.38729833],\n",
      "       [0.24494897, 0.26457513, 0.31622777],\n",
      "       [0.67082039, 0.70710678, 0.75498344],\n",
      "       [0.14142136, 0.14142136, 0.17320508],\n",
      "       [0.26457513, 0.52915026, 0.54772256],\n",
      "       [0.2       , 0.38729833, 0.42426407],\n",
      "       [0.1       , 0.14142136, 0.14142136],\n",
      "       [0.26457513, 0.60827625, 0.678233  ],\n",
      "       [0.24494897, 0.33166248, 0.37416574],\n",
      "       [0.14142136, 0.14142136, 0.17320508],\n",
      "       [0.14142136, 0.17320508, 0.24494897],\n",
      "       [0.36055513, 0.37416574, 0.41231056],\n",
      "       [0.36055513, 0.45825757, 0.67082039],\n",
      "       [0.17320508, 0.36055513, 0.37416574],\n",
      "       [0.4472136 , 0.47958315, 0.5       ],\n",
      "       [0.17320508, 0.2236068 , 0.36055513],\n",
      "       [0.26457513, 0.37416574, 0.38729833],\n",
      "       [0.17320508, 0.2236068 , 0.26457513],\n",
      "       [0.1       , 0.14142136, 0.14142136],\n",
      "       [0.14142136, 0.17320508, 0.24494897],\n",
      "       [0.81853528, 0.86023253, 1.00498756],\n",
      "       [0.14142136, 0.14142136, 0.2236068 ],\n",
      "       [0.2       , 0.33166248, 0.34641016],\n",
      "       [0.26457513, 0.33166248, 0.51961524],\n",
      "       [0.41231056, 0.47958315, 0.54772256],\n",
      "       [0.2236068 , 0.28284271, 0.31622777],\n",
      "       [0.26457513, 0.31622777, 0.33166248],\n",
      "       [0.48989795, 0.54772256, 0.58309519],\n",
      "       [0.2       , 0.47958315, 0.48989795],\n",
      "       [0.24494897, 0.3       , 0.6164414 ],\n",
      "       [0.2       , 0.3       , 0.43588989],\n",
      "       [0.36055513, 0.37416574, 0.38729833],\n",
      "       [0.14142136, 0.36055513, 0.38729833],\n",
      "       [0.34641016, 0.38729833, 0.38729833],\n",
      "       [0.14142136, 0.17320508, 0.2236068 ],\n",
      "       [0.2236068 , 0.3       , 0.31622777],\n",
      "       [0.14142136, 0.3       , 0.3       ],\n",
      "       [0.31622777, 0.41231056, 0.5       ],\n",
      "       [0.14142136, 0.17320508, 0.24494897],\n",
      "       [0.48989795, 0.50990195, 0.51961524],\n",
      "       [0.1       , 0.14142136, 0.17320508],\n",
      "       [0.26457513, 0.31622777, 0.37416574],\n",
      "       [0.2236068 , 0.36055513, 0.5       ],\n",
      "       [0.38729833, 0.38729833, 0.72111026],\n",
      "       [0.26457513, 0.3       , 0.3       ],\n",
      "       [0.33166248, 0.36055513, 0.37416574],\n",
      "       [0.53851648, 0.55677644, 0.58309519],\n",
      "       [0.53851648, 0.54772256, 0.66332496],\n",
      "       [0.2       , 0.3       , 0.3       ],\n",
      "       [0.14142136, 0.3       , 0.34641016],\n",
      "       [0.24494897, 0.34641016, 0.47958315],\n",
      "       [0.43588989, 0.51961524, 0.65574385],\n",
      "       [0.34641016, 0.38729833, 0.43588989],\n",
      "       [0.14142136, 0.24494897, 0.3       ],\n",
      "       [0.1       , 0.14142136, 0.17320508],\n",
      "       [0.14142136, 0.24494897, 0.3       ],\n",
      "       [0.36055513, 0.36055513, 0.42426407],\n",
      "       [0.24494897, 0.38729833, 0.42426407],\n",
      "       [0.2236068 , 0.26457513, 0.33166248],\n",
      "       [0.17320508, 0.34641016, 0.36055513],\n",
      "       [0.42426407, 0.5       , 0.60827625],\n",
      "       [0.14142136, 0.24494897, 0.26457513],\n",
      "       [0.14142136, 0.42426407, 0.43588989],\n",
      "       [0.24494897, 0.31622777, 0.38729833],\n",
      "       [0.17320508, 0.28284271, 0.42426407],\n",
      "       [0.26457513, 0.51961524, 0.53851648],\n",
      "       [0.3       , 0.38729833, 0.38729833],\n",
      "       [0.24494897, 0.24494897, 0.36055513],\n",
      "       [0.17320508, 0.37416574, 0.41231056],\n",
      "       [0.3       , 0.36055513, 0.36055513],\n",
      "       [0.34641016, 0.36055513, 0.38729833],\n",
      "       [0.34641016, 0.42426407, 0.54772256],\n",
      "       [0.38729833, 0.50990195, 0.51961524],\n",
      "       [0.14142136, 0.34641016, 0.4472136 ],\n",
      "       [0.6244998 , 0.71414284, 0.78102497],\n",
      "       [0.24494897, 0.24494897, 0.36055513],\n",
      "       [0.26457513, 0.42426407, 0.42426407],\n",
      "       [0.24494897, 0.28284271, 0.3       ],\n",
      "       [0.17320508, 0.17320508, 0.2236068 ],\n",
      "       [0.26457513, 0.43588989, 0.52915026],\n",
      "       [0.3       , 0.37416574, 0.37416574],\n",
      "       [0.24494897, 0.24494897, 0.28284271],\n",
      "       [0.14142136, 0.38729833, 0.45825757],\n",
      "       [0.24494897, 0.3       , 0.4       ],\n",
      "       [0.34641016, 0.50990195, 0.51961524],\n",
      "       [0.24494897, 0.26457513, 0.26457513],\n",
      "       [0.24494897, 0.26457513, 0.34641016],\n",
      "       [0.14142136, 0.2236068 , 0.3       ],\n",
      "       [0.26457513, 0.31622777, 0.50990195],\n",
      "       [0.26457513, 0.45825757, 0.46904158],\n",
      "       [0.24494897, 0.24494897, 0.38729833],\n",
      "       [0.14142136, 0.17320508, 0.2236068 ],\n",
      "       [0.14142136, 0.24494897, 0.36055513],\n",
      "       [0.57445626, 0.59160798, 0.60827625],\n",
      "       [0.2       , 0.26457513, 0.36055513],\n",
      "       [0.31622777, 0.33166248, 0.45825757],\n",
      "       [0.31622777, 0.33166248, 0.36055513],\n",
      "       [0.36055513, 0.36055513, 0.37416574],\n",
      "       [0.33166248, 0.37416574, 0.4       ],\n",
      "       [0.73484692, 0.76157731, 0.79372539],\n",
      "       [0.41231056, 0.65574385, 0.678233  ],\n",
      "       [0.24494897, 0.26457513, 0.31622777],\n",
      "       [0.38729833, 0.4       , 0.45825757]]), array([[ 38,  73,  50],\n",
      "       [ 47,  58,  15],\n",
      "       [ 94,  92,  72],\n",
      "       [ 77,  96,  65],\n",
      "       [ 46,  85, 104],\n",
      "       [ 21,  93,  80],\n",
      "       [  9,  81,  49],\n",
      "       [ 30,   5,  71],\n",
      "       [ 56,  20,  11],\n",
      "       [  6,  81,  91],\n",
      "       [103,  93,  19],\n",
      "       [  8,  20,  56],\n",
      "       [ 56,   8,  42],\n",
      "       [ 69,  33,  83],\n",
      "       [ 34,  84,   0],\n",
      "       [ 66,  58,   1],\n",
      "       [ 42,  18,  20],\n",
      "       [ 40,  89,  36],\n",
      "       [ 43,  20,  42],\n",
      "       [ 93,   5,  78],\n",
      "       [ 42,   8,  11],\n",
      "       [  5,  80,  93],\n",
      "       [  6,   4,  49],\n",
      "       [ 55,  63,  60],\n",
      "       [ 96, 100,  75],\n",
      "       [ 28,  97,  41],\n",
      "       [102,  33,  79],\n",
      "       [ 44,  66,  98],\n",
      "       [ 25,  97,  98],\n",
      "       [103,  10,  38],\n",
      "       [  7,   5,  80],\n",
      "       [ 59,  68,  72],\n",
      "       [ 50,  38,   0],\n",
      "       [ 79,  13,  69],\n",
      "       [ 84,  14,  45],\n",
      "       [ 72,  94,  92],\n",
      "       [ 42,  20,  37],\n",
      "       [ 36,  89,  63],\n",
      "       [  0,  32,  50],\n",
      "       [ 90,  72,   1],\n",
      "       [ 89,  17,  36],\n",
      "       [ 97,  28,  25],\n",
      "       [ 20,  36,   8],\n",
      "       [ 18,  83,  56],\n",
      "       [ 27,  98,  66],\n",
      "       [ 84,  34,  14],\n",
      "       [ 88,  82,  85],\n",
      "       [  1,  28,  98],\n",
      "       [ 92,  47,   1],\n",
      "       [ 91,   6, 104],\n",
      "       [ 32,  38,  19],\n",
      "       [ 57,  55,  52],\n",
      "       [ 57,  51,  23],\n",
      "       [ 58,  47,  25],\n",
      "       [ 86, 104,  81],\n",
      "       [ 23,  63,  57],\n",
      "       [  8,  12,  20],\n",
      "       [ 51,  52,  55],\n",
      "       [  1,  15,  47],\n",
      "       [ 31,  68,  62],\n",
      "       [ 23,  63,  55],\n",
      "       [ 70,  88,  46],\n",
      "       [ 59,  85,  88],\n",
      "       [ 23,  55,  60],\n",
      "       [ 75,  24,  27],\n",
      "       [ 77,   3,  96],\n",
      "       [ 15,  27,  47],\n",
      "       [ 90,  77,   3],\n",
      "       [ 31,  72,  59],\n",
      "       [ 83,  79,  87],\n",
      "       [ 61,  46,  88],\n",
      "       [  5,  21,  93],\n",
      "       [ 35,  94,  68],\n",
      "       [  0,  38, 103],\n",
      "       [ 50,  19,  32],\n",
      "       [ 64,  24,  96],\n",
      "       [ 51,  57,  52],\n",
      "       [  3,  65,  96],\n",
      "       [ 19,   5,  50],\n",
      "       [ 69,  83,   8],\n",
      "       [  5,  21,  93],\n",
      "       [ 91,  54,   6],\n",
      "       [ 46,  61,  88],\n",
      "       [ 69,  56,  79],\n",
      "       [ 34,  45,  14],\n",
      "       [ 88,  46,  82],\n",
      "       [ 54,  91, 104],\n",
      "       [  8,  12,  42],\n",
      "       [ 85,  46,  61],\n",
      "       [ 40,  17,  37],\n",
      "       [ 67,  39,  77],\n",
      "       [ 81, 104,  54],\n",
      "       [ 94,   2,  35],\n",
      "       [  5,  19,  80],\n",
      "       [  2,  92,  72],\n",
      "       [ 58,  29,  65],\n",
      "       [ 24,   3,  77],\n",
      "       [ 28,  25,  98],\n",
      "       [ 27,  28,  44],\n",
      "       [ 11,  20,  79],\n",
      "       [ 24, 103,  71],\n",
      "       [ 30,  74,  78],\n",
      "       [ 26,  79,  33],\n",
      "       [ 10,  93,  19],\n",
      "       [ 54,  46,  91]], dtype=int64))\n"
     ]
    }
   ],
   "source": [
    "print(knn.get_params())\n",
    "print(knn.score(X_train,y_train))\n",
    "print(knn.predict(X_test))\n",
    "print(knn.kneighbors()) # Find k nearast point distance... here 3 for every point as 3 value selected"
   ]
  },
  {
   "cell_type": "code",
   "execution_count": null,
   "metadata": {},
   "outputs": [],
   "source": []
  }
 ],
 "metadata": {
  "kernelspec": {
   "display_name": "Python 3",
   "language": "python",
   "name": "python3"
  },
  "language_info": {
   "codemirror_mode": {
    "name": "ipython",
    "version": 3
   },
   "file_extension": ".py",
   "mimetype": "text/x-python",
   "name": "python",
   "nbconvert_exporter": "python",
   "pygments_lexer": "ipython3",
   "version": "3.7.6"
  }
 },
 "nbformat": 4,
 "nbformat_minor": 4
}
